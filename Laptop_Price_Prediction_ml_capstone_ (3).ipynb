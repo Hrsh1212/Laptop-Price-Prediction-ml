{
  "cells": [
    {
      "cell_type": "markdown",
      "source": [
        "#Project Title: Laptop Price Prediction for SmartTech Co.\n",
        "\n",
        "\n",
        "#Project Overview:\n",
        "SmartTech Co. has partnered with our data science team to develop a robust machine learning model that predicts laptop prices accurately. As the market for laptops continues to expand with a myriad of brands and specifications, having a precise pricing model becomes crucial for both consumers and manufacturers.\n",
        "\n",
        "#Client's Objectives:\n",
        "Accurate Pricing: Develop a model that can accurately predict laptop prices based on various features, helping our clients stay competitive in the market.\n",
        "\n",
        "Market Positioning: Understand how different features contribute to pricing, enabling SmartTech Co. to strategically position its laptops in the market.\n",
        "\n",
        "Brand Influence: Assess the impact of brand reputation on pricing, providing insights into brand perception and market demand.\n",
        "\n",
        "#Key Challenges:\n",
        "Diverse Specifications: The dataset encompasses laptops with diverse specifications. Our challenge is to build a model that generalizes well across a wide range of features.\n",
        "\n",
        "Real-time Prediction: The model should have the capability to predict prices for newly released laptops, reflecting the fast-paced nature of the tech industry.\n",
        "\n",
        "Interpretability: It is crucial to make the model interpretable, allowing SmartTech Co. to understand the rationale behind pricing predictions."
      ],
      "metadata": {
        "id": "JodBaLaqeJdu"
      }
    },
    {
      "cell_type": "markdown",
      "source": [
        "#Project Phases:\n",
        "\n",
        "#Data Exploration and Understanding:\n",
        "\n",
        "Dive into the dataset to understand the landscape of laptop specifications.\n",
        "\n",
        "Visualize trends in laptop prices and identify potential influential features.\n",
        "\n",
        "#Data Preprocessing:\n",
        "\n",
        "Handle missing values, outliers, and encode categorical variables.\n",
        "\n",
        "Ensure the dataset is ready for model training.\n",
        "\n",
        "#Feature Engineering:\n",
        "\n",
        "Extract meaningful features to enhance model performance.\n",
        "\n",
        "Consider creating new features that capture the essence of laptop pricing.\n",
        "\n",
        "#Model Development:\n",
        "\n",
        "Employ machine learning algorithms such as Linear Regression, Random Forest, and Gradient Boosting to predict laptop prices.\n",
        "\n",
        "Evaluate and choose the model that aligns best with the project's objectives.\n",
        "\n",
        "#Hyperparameter Tuning:\n",
        "\n",
        "Fine-tune the selected model to achieve optimal performance.\n",
        "\n",
        "#Real-time Predictions:\n",
        "\n",
        "Implement a mechanism for the model to make predictions for new laptops entering the market.\n",
        "\n",
        "#Interpretability and Insights:\n",
        "\n",
        "Uncover insights into which features play a pivotal role in pricing decisions.\n",
        "\n",
        "Ensure that SmartTech Co. can interpret and trust the model's predictions.\n",
        "\n",
        "#Client Presentation:\n",
        "\n",
        "Present findings, model performance, and insights to SmartTech Co. stakeholders.\n",
        "\n",
        "Address any questions or concerns and gather feedback for potential model improvements."
      ],
      "metadata": {
        "id": "NVTLe6lGe9Lm"
      }
    },
    {
      "cell_type": "markdown",
      "source": [
        "#Data Exploration and Understanding:"
      ],
      "metadata": {
        "id": "rNo2bYcrgYdE"
      }
    },
    {
      "cell_type": "code",
      "execution_count": null,
      "metadata": {
        "id": "f9S0B1tBE0hE"
      },
      "outputs": [],
      "source": [
        "#importng libraries\n",
        "import pandas as pd\n",
        "import matplotlib.pyplot as plt\n",
        "import numpy as np\n",
        "import seaborn as sns"
      ]
    },
    {
      "cell_type": "code",
      "execution_count": null,
      "metadata": {
        "colab": {
          "base_uri": "https://localhost:8080/",
          "height": 310
        },
        "id": "cQ2pzobeFVkq",
        "outputId": "968945a7-07c5-4cbc-da45-263ab4e9a38a"
      },
      "outputs": [
        {
          "data": {
            "text/html": [
              "<div>\n",
              "<style scoped>\n",
              "    .dataframe tbody tr th:only-of-type {\n",
              "        vertical-align: middle;\n",
              "    }\n",
              "\n",
              "    .dataframe tbody tr th {\n",
              "        vertical-align: top;\n",
              "    }\n",
              "\n",
              "    .dataframe thead th {\n",
              "        text-align: right;\n",
              "    }\n",
              "</style>\n",
              "<table border=\"1\" class=\"dataframe\">\n",
              "  <thead>\n",
              "    <tr style=\"text-align: right;\">\n",
              "      <th></th>\n",
              "      <th>Unnamed: 0.1</th>\n",
              "      <th>Unnamed: 0</th>\n",
              "      <th>Company</th>\n",
              "      <th>TypeName</th>\n",
              "      <th>Inches</th>\n",
              "      <th>ScreenResolution</th>\n",
              "      <th>Cpu</th>\n",
              "      <th>Ram</th>\n",
              "      <th>Memory</th>\n",
              "      <th>Gpu</th>\n",
              "      <th>OpSys</th>\n",
              "      <th>Weight</th>\n",
              "      <th>Price</th>\n",
              "    </tr>\n",
              "  </thead>\n",
              "  <tbody>\n",
              "    <tr>\n",
              "      <th>0</th>\n",
              "      <td>0</td>\n",
              "      <td>0.0</td>\n",
              "      <td>Apple</td>\n",
              "      <td>Ultrabook</td>\n",
              "      <td>13.3</td>\n",
              "      <td>IPS Panel Retina Display 2560x1600</td>\n",
              "      <td>Intel Core i5 2.3GHz</td>\n",
              "      <td>8GB</td>\n",
              "      <td>128GB SSD</td>\n",
              "      <td>Intel Iris Plus Graphics 640</td>\n",
              "      <td>macOS</td>\n",
              "      <td>1.37kg</td>\n",
              "      <td>71378.6832</td>\n",
              "    </tr>\n",
              "    <tr>\n",
              "      <th>1</th>\n",
              "      <td>1</td>\n",
              "      <td>1.0</td>\n",
              "      <td>Apple</td>\n",
              "      <td>Ultrabook</td>\n",
              "      <td>13.3</td>\n",
              "      <td>1440x900</td>\n",
              "      <td>Intel Core i5 1.8GHz</td>\n",
              "      <td>8GB</td>\n",
              "      <td>128GB Flash Storage</td>\n",
              "      <td>Intel HD Graphics 6000</td>\n",
              "      <td>macOS</td>\n",
              "      <td>1.34kg</td>\n",
              "      <td>47895.5232</td>\n",
              "    </tr>\n",
              "    <tr>\n",
              "      <th>2</th>\n",
              "      <td>2</td>\n",
              "      <td>2.0</td>\n",
              "      <td>HP</td>\n",
              "      <td>Notebook</td>\n",
              "      <td>15.6</td>\n",
              "      <td>Full HD 1920x1080</td>\n",
              "      <td>Intel Core i5 7200U 2.5GHz</td>\n",
              "      <td>8GB</td>\n",
              "      <td>256GB SSD</td>\n",
              "      <td>Intel HD Graphics 620</td>\n",
              "      <td>No OS</td>\n",
              "      <td>1.86kg</td>\n",
              "      <td>30636.0000</td>\n",
              "    </tr>\n",
              "    <tr>\n",
              "      <th>3</th>\n",
              "      <td>3</td>\n",
              "      <td>3.0</td>\n",
              "      <td>Apple</td>\n",
              "      <td>Ultrabook</td>\n",
              "      <td>15.4</td>\n",
              "      <td>IPS Panel Retina Display 2880x1800</td>\n",
              "      <td>Intel Core i7 2.7GHz</td>\n",
              "      <td>16GB</td>\n",
              "      <td>512GB SSD</td>\n",
              "      <td>AMD Radeon Pro 455</td>\n",
              "      <td>macOS</td>\n",
              "      <td>1.83kg</td>\n",
              "      <td>135195.3360</td>\n",
              "    </tr>\n",
              "    <tr>\n",
              "      <th>4</th>\n",
              "      <td>4</td>\n",
              "      <td>4.0</td>\n",
              "      <td>Apple</td>\n",
              "      <td>Ultrabook</td>\n",
              "      <td>13.3</td>\n",
              "      <td>IPS Panel Retina Display 2560x1600</td>\n",
              "      <td>Intel Core i5 3.1GHz</td>\n",
              "      <td>8GB</td>\n",
              "      <td>256GB SSD</td>\n",
              "      <td>Intel Iris Plus Graphics 650</td>\n",
              "      <td>macOS</td>\n",
              "      <td>1.37kg</td>\n",
              "      <td>96095.8080</td>\n",
              "    </tr>\n",
              "  </tbody>\n",
              "</table>\n",
              "</div>"
            ],
            "text/plain": [
              "   Unnamed: 0.1  Unnamed: 0 Company   TypeName Inches  \\\n",
              "0             0         0.0   Apple  Ultrabook   13.3   \n",
              "1             1         1.0   Apple  Ultrabook   13.3   \n",
              "2             2         2.0      HP   Notebook   15.6   \n",
              "3             3         3.0   Apple  Ultrabook   15.4   \n",
              "4             4         4.0   Apple  Ultrabook   13.3   \n",
              "\n",
              "                     ScreenResolution                         Cpu   Ram  \\\n",
              "0  IPS Panel Retina Display 2560x1600        Intel Core i5 2.3GHz   8GB   \n",
              "1                            1440x900        Intel Core i5 1.8GHz   8GB   \n",
              "2                   Full HD 1920x1080  Intel Core i5 7200U 2.5GHz   8GB   \n",
              "3  IPS Panel Retina Display 2880x1800        Intel Core i7 2.7GHz  16GB   \n",
              "4  IPS Panel Retina Display 2560x1600        Intel Core i5 3.1GHz   8GB   \n",
              "\n",
              "                Memory                           Gpu  OpSys  Weight  \\\n",
              "0            128GB SSD  Intel Iris Plus Graphics 640  macOS  1.37kg   \n",
              "1  128GB Flash Storage        Intel HD Graphics 6000  macOS  1.34kg   \n",
              "2            256GB SSD         Intel HD Graphics 620  No OS  1.86kg   \n",
              "3            512GB SSD            AMD Radeon Pro 455  macOS  1.83kg   \n",
              "4            256GB SSD  Intel Iris Plus Graphics 650  macOS  1.37kg   \n",
              "\n",
              "         Price  \n",
              "0   71378.6832  \n",
              "1   47895.5232  \n",
              "2   30636.0000  \n",
              "3  135195.3360  \n",
              "4   96095.8080  "
            ]
          },
          "execution_count": 2,
          "metadata": {},
          "output_type": "execute_result"
        }
      ],
      "source": [
        "#Load Dataset\n",
        "df=pd.read_csv('C:/Users/VAIBHAV/Downloads/laptop.csv')\n",
        "df.head(5)"
      ]
    },
    {
      "cell_type": "code",
      "execution_count": null,
      "metadata": {
        "colab": {
          "base_uri": "https://localhost:8080/"
        },
        "id": "QG0WPAx2Fomz",
        "outputId": "fadba7a1-bd5b-41ef-ecdf-e0715d07e7f6"
      },
      "outputs": [
        {
          "name": "stdout",
          "output_type": "stream",
          "text": [
            "<class 'pandas.core.frame.DataFrame'>\n",
            "RangeIndex: 1303 entries, 0 to 1302\n",
            "Data columns (total 13 columns):\n",
            " #   Column            Non-Null Count  Dtype  \n",
            "---  ------            --------------  -----  \n",
            " 0   Unnamed: 0.1      1303 non-null   int64  \n",
            " 1   Unnamed: 0        1273 non-null   float64\n",
            " 2   Company           1273 non-null   object \n",
            " 3   TypeName          1273 non-null   object \n",
            " 4   Inches            1273 non-null   object \n",
            " 5   ScreenResolution  1273 non-null   object \n",
            " 6   Cpu               1273 non-null   object \n",
            " 7   Ram               1273 non-null   object \n",
            " 8   Memory            1273 non-null   object \n",
            " 9   Gpu               1273 non-null   object \n",
            " 10  OpSys             1273 non-null   object \n",
            " 11  Weight            1273 non-null   object \n",
            " 12  Price             1273 non-null   float64\n",
            "dtypes: float64(2), int64(1), object(10)\n",
            "memory usage: 132.5+ KB\n"
          ]
        }
      ],
      "source": [
        "#Check Info Of the dataset\n",
        "df.info()"
      ]
    },
    {
      "cell_type": "code",
      "execution_count": null,
      "metadata": {
        "colab": {
          "base_uri": "https://localhost:8080/"
        },
        "id": "eK9VjMHFG0Dj",
        "outputId": "6f42f48c-fa51-4eeb-e181-9e0e83432397"
      },
      "outputs": [
        {
          "data": {
            "text/plain": [
              "(1303, 13)"
            ]
          },
          "execution_count": 4,
          "metadata": {},
          "output_type": "execute_result"
        }
      ],
      "source": [
        "df.shape"
      ]
    },
    {
      "cell_type": "markdown",
      "source": [
        "#Data Preprocessing:"
      ],
      "metadata": {
        "id": "73uiIZLBgtaU"
      }
    },
    {
      "cell_type": "code",
      "execution_count": null,
      "metadata": {
        "colab": {
          "base_uri": "https://localhost:8080/"
        },
        "id": "c7_ugzpxHX8S",
        "outputId": "383748c0-d5d5-4a82-dee6-654ccb427001"
      },
      "outputs": [
        {
          "data": {
            "text/plain": [
              "Index(['Unnamed: 0.1', 'Unnamed: 0', 'Company', 'TypeName', 'Inches',\n",
              "       'ScreenResolution', 'Cpu', 'Ram', 'Memory', 'Gpu', 'OpSys', 'Weight',\n",
              "       'Price'],\n",
              "      dtype='object')"
            ]
          },
          "execution_count": 5,
          "metadata": {},
          "output_type": "execute_result"
        }
      ],
      "source": [
        "#Check the columna name\n",
        "df.columns"
      ]
    },
    {
      "cell_type": "code",
      "execution_count": null,
      "metadata": {
        "colab": {
          "base_uri": "https://localhost:8080/"
        },
        "id": "T1TssdfE0UbX",
        "outputId": "7a68217e-82a7-4a92-f0b9-2d33053e5e31"
      },
      "outputs": [
        {
          "data": {
            "text/html": [
              "<div>\n",
              "<style scoped>\n",
              "    .dataframe tbody tr th:only-of-type {\n",
              "        vertical-align: middle;\n",
              "    }\n",
              "\n",
              "    .dataframe tbody tr th {\n",
              "        vertical-align: top;\n",
              "    }\n",
              "\n",
              "    .dataframe thead th {\n",
              "        text-align: right;\n",
              "    }\n",
              "</style>\n",
              "<table border=\"1\" class=\"dataframe\">\n",
              "  <thead>\n",
              "    <tr style=\"text-align: right;\">\n",
              "      <th></th>\n",
              "      <th>Company</th>\n",
              "      <th>TypeName</th>\n",
              "      <th>Inches</th>\n",
              "      <th>ScreenResolution</th>\n",
              "      <th>Cpu</th>\n",
              "      <th>Ram</th>\n",
              "      <th>Memory</th>\n",
              "      <th>Gpu</th>\n",
              "      <th>OpSys</th>\n",
              "      <th>Weight</th>\n",
              "      <th>Price</th>\n",
              "    </tr>\n",
              "  </thead>\n",
              "  <tbody>\n",
              "    <tr>\n",
              "      <th>0</th>\n",
              "      <td>Apple</td>\n",
              "      <td>Ultrabook</td>\n",
              "      <td>13.3</td>\n",
              "      <td>IPS Panel Retina Display 2560x1600</td>\n",
              "      <td>Intel Core i5 2.3GHz</td>\n",
              "      <td>8GB</td>\n",
              "      <td>128GB SSD</td>\n",
              "      <td>Intel Iris Plus Graphics 640</td>\n",
              "      <td>macOS</td>\n",
              "      <td>1.37kg</td>\n",
              "      <td>71378.6832</td>\n",
              "    </tr>\n",
              "    <tr>\n",
              "      <th>1</th>\n",
              "      <td>Apple</td>\n",
              "      <td>Ultrabook</td>\n",
              "      <td>13.3</td>\n",
              "      <td>1440x900</td>\n",
              "      <td>Intel Core i5 1.8GHz</td>\n",
              "      <td>8GB</td>\n",
              "      <td>128GB Flash Storage</td>\n",
              "      <td>Intel HD Graphics 6000</td>\n",
              "      <td>macOS</td>\n",
              "      <td>1.34kg</td>\n",
              "      <td>47895.5232</td>\n",
              "    </tr>\n",
              "    <tr>\n",
              "      <th>2</th>\n",
              "      <td>HP</td>\n",
              "      <td>Notebook</td>\n",
              "      <td>15.6</td>\n",
              "      <td>Full HD 1920x1080</td>\n",
              "      <td>Intel Core i5 7200U 2.5GHz</td>\n",
              "      <td>8GB</td>\n",
              "      <td>256GB SSD</td>\n",
              "      <td>Intel HD Graphics 620</td>\n",
              "      <td>No OS</td>\n",
              "      <td>1.86kg</td>\n",
              "      <td>30636.0000</td>\n",
              "    </tr>\n",
              "    <tr>\n",
              "      <th>3</th>\n",
              "      <td>Apple</td>\n",
              "      <td>Ultrabook</td>\n",
              "      <td>15.4</td>\n",
              "      <td>IPS Panel Retina Display 2880x1800</td>\n",
              "      <td>Intel Core i7 2.7GHz</td>\n",
              "      <td>16GB</td>\n",
              "      <td>512GB SSD</td>\n",
              "      <td>AMD Radeon Pro 455</td>\n",
              "      <td>macOS</td>\n",
              "      <td>1.83kg</td>\n",
              "      <td>135195.3360</td>\n",
              "    </tr>\n",
              "    <tr>\n",
              "      <th>4</th>\n",
              "      <td>Apple</td>\n",
              "      <td>Ultrabook</td>\n",
              "      <td>13.3</td>\n",
              "      <td>IPS Panel Retina Display 2560x1600</td>\n",
              "      <td>Intel Core i5 3.1GHz</td>\n",
              "      <td>8GB</td>\n",
              "      <td>256GB SSD</td>\n",
              "      <td>Intel Iris Plus Graphics 650</td>\n",
              "      <td>macOS</td>\n",
              "      <td>1.37kg</td>\n",
              "      <td>96095.8080</td>\n",
              "    </tr>\n",
              "    <tr>\n",
              "      <th>...</th>\n",
              "      <td>...</td>\n",
              "      <td>...</td>\n",
              "      <td>...</td>\n",
              "      <td>...</td>\n",
              "      <td>...</td>\n",
              "      <td>...</td>\n",
              "      <td>...</td>\n",
              "      <td>...</td>\n",
              "      <td>...</td>\n",
              "      <td>...</td>\n",
              "      <td>...</td>\n",
              "    </tr>\n",
              "    <tr>\n",
              "      <th>1298</th>\n",
              "      <td>Lenovo</td>\n",
              "      <td>2 in 1 Convertible</td>\n",
              "      <td>14</td>\n",
              "      <td>IPS Panel Full HD / Touchscreen 1920x1080</td>\n",
              "      <td>Intel Core i7 6500U 2.5GHz</td>\n",
              "      <td>4GB</td>\n",
              "      <td>128GB SSD</td>\n",
              "      <td>Intel HD Graphics 520</td>\n",
              "      <td>Windows 10</td>\n",
              "      <td>1.8kg</td>\n",
              "      <td>33992.6400</td>\n",
              "    </tr>\n",
              "    <tr>\n",
              "      <th>1299</th>\n",
              "      <td>Lenovo</td>\n",
              "      <td>2 in 1 Convertible</td>\n",
              "      <td>13.3</td>\n",
              "      <td>IPS Panel Quad HD+ / Touchscreen 3200x1800</td>\n",
              "      <td>Intel Core i7 6500U 2.5GHz</td>\n",
              "      <td>16GB</td>\n",
              "      <td>512GB SSD</td>\n",
              "      <td>Intel HD Graphics 520</td>\n",
              "      <td>Windows 10</td>\n",
              "      <td>1.3kg</td>\n",
              "      <td>79866.7200</td>\n",
              "    </tr>\n",
              "    <tr>\n",
              "      <th>1300</th>\n",
              "      <td>Lenovo</td>\n",
              "      <td>Notebook</td>\n",
              "      <td>14</td>\n",
              "      <td>1366x768</td>\n",
              "      <td>Intel Celeron Dual Core N3050 1.6GHz</td>\n",
              "      <td>2GB</td>\n",
              "      <td>64GB Flash Storage</td>\n",
              "      <td>Intel HD Graphics</td>\n",
              "      <td>Windows 10</td>\n",
              "      <td>1.5kg</td>\n",
              "      <td>12201.1200</td>\n",
              "    </tr>\n",
              "    <tr>\n",
              "      <th>1301</th>\n",
              "      <td>HP</td>\n",
              "      <td>Notebook</td>\n",
              "      <td>15.6</td>\n",
              "      <td>1366x768</td>\n",
              "      <td>Intel Core i7 6500U 2.5GHz</td>\n",
              "      <td>6GB</td>\n",
              "      <td>1TB HDD</td>\n",
              "      <td>AMD Radeon R5 M330</td>\n",
              "      <td>Windows 10</td>\n",
              "      <td>2.19kg</td>\n",
              "      <td>40705.9200</td>\n",
              "    </tr>\n",
              "    <tr>\n",
              "      <th>1302</th>\n",
              "      <td>Asus</td>\n",
              "      <td>Notebook</td>\n",
              "      <td>15.6</td>\n",
              "      <td>1366x768</td>\n",
              "      <td>Intel Celeron Dual Core N3050 1.6GHz</td>\n",
              "      <td>4GB</td>\n",
              "      <td>500GB HDD</td>\n",
              "      <td>Intel HD Graphics</td>\n",
              "      <td>Windows 10</td>\n",
              "      <td>2.2kg</td>\n",
              "      <td>19660.3200</td>\n",
              "    </tr>\n",
              "  </tbody>\n",
              "</table>\n",
              "<p>1303 rows × 11 columns</p>\n",
              "</div>"
            ],
            "text/plain": [
              "     Company            TypeName Inches  \\\n",
              "0      Apple           Ultrabook   13.3   \n",
              "1      Apple           Ultrabook   13.3   \n",
              "2         HP            Notebook   15.6   \n",
              "3      Apple           Ultrabook   15.4   \n",
              "4      Apple           Ultrabook   13.3   \n",
              "...      ...                 ...    ...   \n",
              "1298  Lenovo  2 in 1 Convertible     14   \n",
              "1299  Lenovo  2 in 1 Convertible   13.3   \n",
              "1300  Lenovo            Notebook     14   \n",
              "1301      HP            Notebook   15.6   \n",
              "1302    Asus            Notebook   15.6   \n",
              "\n",
              "                                ScreenResolution  \\\n",
              "0             IPS Panel Retina Display 2560x1600   \n",
              "1                                       1440x900   \n",
              "2                              Full HD 1920x1080   \n",
              "3             IPS Panel Retina Display 2880x1800   \n",
              "4             IPS Panel Retina Display 2560x1600   \n",
              "...                                          ...   \n",
              "1298   IPS Panel Full HD / Touchscreen 1920x1080   \n",
              "1299  IPS Panel Quad HD+ / Touchscreen 3200x1800   \n",
              "1300                                    1366x768   \n",
              "1301                                    1366x768   \n",
              "1302                                    1366x768   \n",
              "\n",
              "                                       Cpu   Ram               Memory  \\\n",
              "0                     Intel Core i5 2.3GHz   8GB            128GB SSD   \n",
              "1                     Intel Core i5 1.8GHz   8GB  128GB Flash Storage   \n",
              "2               Intel Core i5 7200U 2.5GHz   8GB            256GB SSD   \n",
              "3                     Intel Core i7 2.7GHz  16GB            512GB SSD   \n",
              "4                     Intel Core i5 3.1GHz   8GB            256GB SSD   \n",
              "...                                    ...   ...                  ...   \n",
              "1298            Intel Core i7 6500U 2.5GHz   4GB            128GB SSD   \n",
              "1299            Intel Core i7 6500U 2.5GHz  16GB            512GB SSD   \n",
              "1300  Intel Celeron Dual Core N3050 1.6GHz   2GB   64GB Flash Storage   \n",
              "1301            Intel Core i7 6500U 2.5GHz   6GB              1TB HDD   \n",
              "1302  Intel Celeron Dual Core N3050 1.6GHz   4GB            500GB HDD   \n",
              "\n",
              "                               Gpu       OpSys  Weight        Price  \n",
              "0     Intel Iris Plus Graphics 640       macOS  1.37kg   71378.6832  \n",
              "1           Intel HD Graphics 6000       macOS  1.34kg   47895.5232  \n",
              "2            Intel HD Graphics 620       No OS  1.86kg   30636.0000  \n",
              "3               AMD Radeon Pro 455       macOS  1.83kg  135195.3360  \n",
              "4     Intel Iris Plus Graphics 650       macOS  1.37kg   96095.8080  \n",
              "...                            ...         ...     ...          ...  \n",
              "1298         Intel HD Graphics 520  Windows 10   1.8kg   33992.6400  \n",
              "1299         Intel HD Graphics 520  Windows 10   1.3kg   79866.7200  \n",
              "1300             Intel HD Graphics  Windows 10   1.5kg   12201.1200  \n",
              "1301            AMD Radeon R5 M330  Windows 10  2.19kg   40705.9200  \n",
              "1302             Intel HD Graphics  Windows 10   2.2kg   19660.3200  \n",
              "\n",
              "[1303 rows x 11 columns]"
            ]
          },
          "execution_count": 6,
          "metadata": {},
          "output_type": "execute_result"
        }
      ],
      "source": [
        "#Drop the unwanted columns\n",
        "df.drop(columns=['Unnamed: 0','Unnamed: 0.1'],inplace=True)\n",
        "df"
      ]
    },
    {
      "cell_type": "code",
      "execution_count": null,
      "metadata": {
        "colab": {
          "base_uri": "https://localhost:8080/"
        },
        "id": "uQ5JM1jL0_ku",
        "outputId": "f1145589-f15c-4682-9d73-bd272c6b4168"
      },
      "outputs": [
        {
          "name": "stdout",
          "output_type": "stream",
          "text": [
            "<class 'pandas.core.frame.DataFrame'>\n",
            "RangeIndex: 1303 entries, 0 to 1302\n",
            "Data columns (total 11 columns):\n",
            " #   Column            Non-Null Count  Dtype  \n",
            "---  ------            --------------  -----  \n",
            " 0   Company           1273 non-null   object \n",
            " 1   TypeName          1273 non-null   object \n",
            " 2   Inches            1273 non-null   object \n",
            " 3   ScreenResolution  1273 non-null   object \n",
            " 4   Cpu               1273 non-null   object \n",
            " 5   Ram               1273 non-null   object \n",
            " 6   Memory            1273 non-null   object \n",
            " 7   Gpu               1273 non-null   object \n",
            " 8   OpSys             1273 non-null   object \n",
            " 9   Weight            1273 non-null   object \n",
            " 10  Price             1273 non-null   float64\n",
            "dtypes: float64(1), object(10)\n",
            "memory usage: 112.1+ KB\n"
          ]
        }
      ],
      "source": [
        "df.info()"
      ]
    },
    {
      "cell_type": "code",
      "execution_count": null,
      "metadata": {
        "colab": {
          "base_uri": "https://localhost:8080/"
        },
        "id": "6qKfXoOn1FMO",
        "outputId": "cf444f49-c069-4212-d3f9-f69d2f2b4c78"
      },
      "outputs": [
        {
          "data": {
            "text/plain": [
              "Company             30\n",
              "TypeName            30\n",
              "Inches              30\n",
              "ScreenResolution    30\n",
              "Cpu                 30\n",
              "Ram                 30\n",
              "Memory              30\n",
              "Gpu                 30\n",
              "OpSys               30\n",
              "Weight              30\n",
              "Price               30\n",
              "dtype: int64"
            ]
          },
          "execution_count": 8,
          "metadata": {},
          "output_type": "execute_result"
        }
      ],
      "source": [
        "#Checking the null Value in the data set\n",
        "df.isnull().sum()"
      ]
    },
    {
      "cell_type": "code",
      "execution_count": null,
      "metadata": {
        "id": "jZGC_1UR1bGu"
      },
      "outputs": [],
      "source": [
        "#Droping Them\n",
        "df.dropna(inplace=True)"
      ]
    },
    {
      "cell_type": "code",
      "execution_count": null,
      "metadata": {
        "colab": {
          "base_uri": "https://localhost:8080/"
        },
        "id": "mhiTEVLc1h0O",
        "outputId": "4ae06117-3300-4aa8-a2c1-5e6290fc36ea"
      },
      "outputs": [
        {
          "data": {
            "text/plain": [
              "Company             0\n",
              "TypeName            0\n",
              "Inches              0\n",
              "ScreenResolution    0\n",
              "Cpu                 0\n",
              "Ram                 0\n",
              "Memory              0\n",
              "Gpu                 0\n",
              "OpSys               0\n",
              "Weight              0\n",
              "Price               0\n",
              "dtype: int64"
            ]
          },
          "execution_count": 10,
          "metadata": {},
          "output_type": "execute_result"
        }
      ],
      "source": [
        "df.isnull().sum()"
      ]
    },
    {
      "cell_type": "markdown",
      "source": [
        "Changing Datatype of the Ram Weight Inches"
      ],
      "metadata": {
        "id": "fToBrcUEkYj9"
      }
    },
    {
      "cell_type": "code",
      "execution_count": null,
      "metadata": {
        "collapsed": true,
        "id": "k5CuPrvs1nun"
      },
      "outputs": [],
      "source": [
        "#Changing the datatype of the ram\n",
        "df['Ram']=df['Ram'].str.replace('GB','')\n",
        "#Convert GB into the space\n",
        "df['Ram']=df['Ram'].astype('int32')\n",
        "#Change the datatype into int\n"
      ]
    },
    {
      "cell_type": "code",
      "execution_count": null,
      "metadata": {
        "colab": {
          "base_uri": "https://localhost:8080/"
        },
        "id": "D-faFWop3x_o",
        "outputId": "7fd7171e-f5f3-45a1-d30c-901fb98c67ff"
      },
      "outputs": [
        {
          "name": "stdout",
          "output_type": "stream",
          "text": [
            "<class 'pandas.core.frame.DataFrame'>\n",
            "Index: 1273 entries, 0 to 1302\n",
            "Data columns (total 11 columns):\n",
            " #   Column            Non-Null Count  Dtype  \n",
            "---  ------            --------------  -----  \n",
            " 0   Company           1273 non-null   object \n",
            " 1   TypeName          1273 non-null   object \n",
            " 2   Inches            1273 non-null   object \n",
            " 3   ScreenResolution  1273 non-null   object \n",
            " 4   Cpu               1273 non-null   object \n",
            " 5   Ram               1273 non-null   int32  \n",
            " 6   Memory            1273 non-null   object \n",
            " 7   Gpu               1273 non-null   object \n",
            " 8   OpSys             1273 non-null   object \n",
            " 9   Weight            1273 non-null   float32\n",
            " 10  Price             1273 non-null   float64\n",
            "dtypes: float32(1), float64(1), int32(1), object(8)\n",
            "memory usage: 109.4+ KB\n"
          ]
        }
      ],
      "source": [
        "#Changing The data type of the Weigth\n",
        "#Convert KG into the space\n",
        "df['Weight']=df['Weight'].astype(str).str.replace('kg','')\n",
        "#And we have ? in some columns then change it into space\n",
        "df['Weight'] = df['Weight'].str.replace('?', '')\n",
        "#After that change the space into the nan\n",
        "df['Weight'] = df['Weight'].replace('', np.nan)\n",
        "#And change the datatype into float\n",
        "df['Weight']=df['Weight'].astype('float32')\n",
        "#After the Fill The nan values with the mean of the weight\n",
        "df['Weight']=df['Weight'].fillna(df['Weight'].mean())\n",
        "df.info()"
      ]
    },
    {
      "cell_type": "code",
      "execution_count": null,
      "metadata": {
        "colab": {
          "base_uri": "https://localhost:8080/"
        },
        "id": "qJJMfp5tDyck",
        "outputId": "7802a146-a12c-4829-9fe6-439c16f815ed"
      },
      "outputs": [
        {
          "name": "stdout",
          "output_type": "stream",
          "text": [
            "<class 'pandas.core.frame.DataFrame'>\n",
            "Index: 1273 entries, 0 to 1302\n",
            "Data columns (total 11 columns):\n",
            " #   Column            Non-Null Count  Dtype  \n",
            "---  ------            --------------  -----  \n",
            " 0   Company           1273 non-null   object \n",
            " 1   TypeName          1273 non-null   object \n",
            " 2   Inches            1273 non-null   float64\n",
            " 3   ScreenResolution  1273 non-null   object \n",
            " 4   Cpu               1273 non-null   object \n",
            " 5   Ram               1273 non-null   int32  \n",
            " 6   Memory            1273 non-null   object \n",
            " 7   Gpu               1273 non-null   object \n",
            " 8   OpSys             1273 non-null   object \n",
            " 9   Weight            1273 non-null   float32\n",
            " 10  Price             1273 non-null   float64\n",
            "dtypes: float32(1), float64(2), int32(1), object(7)\n",
            "memory usage: 109.4+ KB\n"
          ]
        }
      ],
      "source": [
        "#Changing The data type of the Inches\n",
        "#And we have ? in some columns then change it into space\n",
        "df['Inches']=df['Inches'].str.replace('?','')\n",
        "#After that change the space into the nan\n",
        "df['Inches'] = df['Inches'].replace('', np.nan)\n",
        "#And change the datatype into float\n",
        "df['Inches']=df['Inches'].astype('float')\n",
        "#After the Fill The nan values with the mean of the Inches\n",
        "df['Inches']=df['Inches'].fillna(df['Inches'].mean())\n",
        "df.info()"
      ]
    },
    {
      "cell_type": "markdown",
      "source": [
        "#1. Bar Graph\n",
        "Value count of all the company in our dataset  \n",
        "Top 3 company\n",
        "Lenovo , Dell , HP"
      ],
      "metadata": {
        "id": "jEoIsRT1m9X7"
      }
    },
    {
      "cell_type": "code",
      "execution_count": null,
      "metadata": {
        "colab": {
          "base_uri": "https://localhost:8080/",
          "height": 525
        },
        "id": "z8Ts3XGE7mC2",
        "outputId": "34694a86-b7b9-41c2-9797-429b1ccb9582"
      },
      "outputs": [
        {
          "data": {
            "text/plain": [
              "<Axes: xlabel='Company'>"
            ]
          },
          "execution_count": 14,
          "metadata": {},
          "output_type": "execute_result"
        },
        {
          "data": {
            "image/png": "[encoded data removed]",
            "text/plain": [
              "<Figure size 640x480 with 1 Axes>"
            ]
          },
          "metadata": {},
          "output_type": "display_data"
        }
      ],
      "source": [
        "df['Company'].value_counts().plot(kind='bar')"
      ]
    },
    {
      "cell_type": "markdown",
      "source": [
        "#2.Distribution of the price\n",
        "This bell curve have Right-Skewed Distribution of the price it means our dataset have outliers.\n"
      ],
      "metadata": {
        "id": "wMVvyEggn9QS"
      }
    },
    {
      "cell_type": "code",
      "execution_count": null,
      "metadata": {
        "colab": {
          "base_uri": "https://localhost:8080/",
          "height": 686
        },
        "id": "V10UJ-D97sSz",
        "outputId": "07289e8a-e62a-462e-af23-869c73e34718"
      },
      "outputs": [
        {
          "name": "stderr",
          "output_type": "stream",
          "text": [
            "C:\\Users\\VAIBHAV\\AppData\\Local\\Temp\\ipykernel_9360\\834922981.py:1: UserWarning: \n",
            "\n",
            "`distplot` is a deprecated function and will be removed in seaborn v0.14.0.\n",
            "\n",
            "Please adapt your code to use either `displot` (a figure-level function with\n",
            "similar flexibility) or `histplot` (an axes-level function for histograms).\n",
            "\n",
            "For a guide to updating your code to use the new functions, please see\n",
            "https://gist.github.com/mwaskom/de44147ed2974457ad6372750bbe5751\n",
            "\n",
            "  sns.distplot(df['Price'])\n"
          ]
        },
        {
          "data": {
            "text/plain": [
              "<Axes: xlabel='Price', ylabel='Density'>"
            ]
          },
          "execution_count": 15,
          "metadata": {},
          "output_type": "execute_result"
        },
        {
          "data": {
            "image/png": "[encoded data removed]",
            "text/plain": [
              "<Figure size 640x480 with 1 Axes>"
            ]
          },
          "metadata": {},
          "output_type": "display_data"
        }
      ],
      "source": [
        "sns.distplot(df['Price'])"
      ]
    },
    {
      "cell_type": "markdown",
      "source": [
        "# Barplot of the price and company\n",
        "Razer sells the laptops on very high prices compare to others\n",
        "\n"
      ],
      "metadata": {
        "id": "lAUCTtnvpWih"
      }
    },
    {
      "cell_type": "code",
      "execution_count": null,
      "metadata": {
        "colab": {
          "base_uri": "https://localhost:8080/",
          "height": 988
        },
        "id": "e86bZMpC8iGG",
        "outputId": "5978df75-010d-4ede-ce3e-9028babe9dcc"
      },
      "outputs": [
        {
          "name": "stderr",
          "output_type": "stream",
          "text": [
            "C:\\Users\\VAIBHAV\\AppData\\Local\\Temp\\ipykernel_9360\\3701318224.py:1: FutureWarning: \n",
            "\n",
            "Passing `palette` without assigning `hue` is deprecated and will be removed in v0.14.0. Assign the `x` variable to `hue` and set `legend=False` for the same effect.\n",
            "\n",
            "  sns.barplot(x=df['Company'],y=df['Price'],palette='viridis')\n"
          ]
        },
        {
          "data": {
            "text/plain": [
              "([0, 1, 2, 3, 4, 5, 6, 7, 8, 9, 10, 11, 12, 13, 14, 15, 16, 17, 18],\n",
              " [Text(0, 0, 'Apple'),\n",
              "  Text(1, 0, 'HP'),\n",
              "  Text(2, 0, 'Acer'),\n",
              "  Text(3, 0, 'Asus'),\n",
              "  Text(4, 0, 'Dell'),\n",
              "  Text(5, 0, 'Lenovo'),\n",
              "  Text(6, 0, 'Chuwi'),\n",
              "  Text(7, 0, 'MSI'),\n",
              "  Text(8, 0, 'Microsoft'),\n",
              "  Text(9, 0, 'Toshiba'),\n",
              "  Text(10, 0, 'Huawei'),\n",
              "  Text(11, 0, 'Xiaomi'),\n",
              "  Text(12, 0, 'Vero'),\n",
              "  Text(13, 0, 'Razer'),\n",
              "  Text(14, 0, 'Mediacom'),\n",
              "  Text(15, 0, 'Samsung'),\n",
              "  Text(16, 0, 'Google'),\n",
              "  Text(17, 0, 'Fujitsu'),\n",
              "  Text(18, 0, 'LG')])"
            ]
          },
          "execution_count": 16,
          "metadata": {},
          "output_type": "execute_result"
        },
        {
          "data": {
            "image/png": "[encoded data removed]",
            "text/plain": [
              "<Figure size 640x480 with 1 Axes>"
            ]
          },
          "metadata": {},
          "output_type": "display_data"
        }
      ],
      "source": [
        "sns.barplot(x=df['Company'],y=df['Price'],palette='viridis')\n",
        "plt.xticks(rotation='vertical')"
      ]
    },
    {
      "cell_type": "markdown",
      "source": [
        "# Barplot of\n",
        "Value count of the typename of the laptops we have notebook type laptops in higher counts in our dataset"
      ],
      "metadata": {
        "id": "-AXT4KnJqKMR"
      }
    },
    {
      "cell_type": "code",
      "execution_count": null,
      "metadata": {
        "colab": {
          "background_save": true,
          "base_uri": "https://localhost:8080/",
          "height": 577
        },
        "id": "9b-q2tlu9fM9",
        "outputId": "f1cbc63a-5539-440a-fcc6-f6c9f697b83f"
      },
      "outputs": [
        {
          "data": {
            "text/plain": [
              "<Axes: xlabel='TypeName'>"
            ]
          },
          "execution_count": 17,
          "metadata": {},
          "output_type": "execute_result"
        },
        {
          "data": {
            "image/png": "[encoded data removed]",
            "text/plain": [
              "<Figure size 640x480 with 1 Axes>"
            ]
          },
          "metadata": {},
          "output_type": "display_data"
        }
      ],
      "source": [
        "df['TypeName'].value_counts().plot(kind='bar',color='blue')"
      ]
    },
    {
      "cell_type": "markdown",
      "source": [
        "#Barplot\n",
        "of the typename and price  most expensive type name is the Workstation"
      ],
      "metadata": {
        "id": "dzQDe0eErC3h"
      }
    },
    {
      "cell_type": "code",
      "execution_count": null,
      "metadata": {
        "colab": {
          "background_save": true,
          "base_uri": "https://localhost:8080/",
          "height": 801
        },
        "id": "JAGximlX-FEt",
        "outputId": "20f30238-3193-4bd0-c03c-00f270ea8e72"
      },
      "outputs": [
        {
          "name": "stderr",
          "output_type": "stream",
          "text": [
            "C:\\Users\\VAIBHAV\\AppData\\Local\\Temp\\ipykernel_9360\\2125842650.py:1: FutureWarning: \n",
            "\n",
            "Passing `palette` without assigning `hue` is deprecated and will be removed in v0.14.0. Assign the `x` variable to `hue` and set `legend=False` for the same effect.\n",
            "\n",
            "  sns.barplot(x=df['TypeName'],y=df['Price'],palette='viridis')\n"
          ]
        },
        {
          "data": {
            "text/plain": [
              "([0, 1, 2, 3, 4, 5],\n",
              " [Text(0, 0, 'Ultrabook'),\n",
              "  Text(1, 0, 'Notebook'),\n",
              "  Text(2, 0, 'Gaming'),\n",
              "  Text(3, 0, '2 in 1 Convertible'),\n",
              "  Text(4, 0, 'Workstation'),\n",
              "  Text(5, 0, 'Netbook')])"
            ]
          },
          "execution_count": 18,
          "metadata": {},
          "output_type": "execute_result"
        },
        {
          "data": {
            "image/png": "[encoded data removed]",
            "text/plain": [
              "<Figure size 640x480 with 1 Axes>"
            ]
          },
          "metadata": {},
          "output_type": "display_data"
        }
      ],
      "source": [
        "sns.barplot(x=df['TypeName'],y=df['Price'],palette='viridis')\n",
        "plt.xticks(rotation='vertical')"
      ]
    },
    {
      "cell_type": "markdown",
      "source": [
        "# Distplot\n",
        " of the Inces most of the laptop have 16 inches Displays"
      ],
      "metadata": {
        "id": "dUJPuVUhs4HZ"
      }
    },
    {
      "cell_type": "code",
      "execution_count": null,
      "metadata": {
        "colab": {
          "base_uri": "https://localhost:8080/",
          "height": 670
        },
        "id": "VPAFLQl5-UDb",
        "outputId": "9fdc14cd-4934-4216-9bf7-cece68e6593b"
      },
      "outputs": [
        {
          "name": "stderr",
          "output_type": "stream",
          "text": [
            "C:\\Users\\VAIBHAV\\AppData\\Local\\Temp\\ipykernel_9360\\1439577752.py:1: UserWarning: \n",
            "\n",
            "`distplot` is a deprecated function and will be removed in seaborn v0.14.0.\n",
            "\n",
            "Please adapt your code to use either `displot` (a figure-level function with\n",
            "similar flexibility) or `histplot` (an axes-level function for histograms).\n",
            "\n",
            "For a guide to updating your code to use the new functions, please see\n",
            "https://gist.github.com/mwaskom/de44147ed2974457ad6372750bbe5751\n",
            "\n",
            "  sns.distplot(df['Inches'])\n"
          ]
        },
        {
          "data": {
            "text/plain": [
              "<Axes: xlabel='Inches', ylabel='Density'>"
            ]
          },
          "execution_count": 19,
          "metadata": {},
          "output_type": "execute_result"
        },
        {
          "data": {
            "image/png": "[encoded data removed]",
            "text/plain": [
              "<Figure size 640x480 with 1 Axes>"
            ]
          },
          "metadata": {},
          "output_type": "display_data"
        }
      ],
      "source": [
        "sns.distplot(df['Inches'])"
      ]
    },
    {
      "cell_type": "markdown",
      "source": [
        "#Scatterplot\n",
        "of the inches and Price\n",
        "most expensive laptops have the screens of 15 to 17 inches"
      ],
      "metadata": {
        "id": "o1BTVhxHtpJj"
      }
    },
    {
      "cell_type": "code",
      "execution_count": null,
      "metadata": {
        "colab": {
          "base_uri": "https://localhost:8080/",
          "height": 467
        },
        "id": "5YBb_5T3_S8d",
        "outputId": "edfcf594-c6c6-4893-957b-ea5ce9d39b14"
      },
      "outputs": [
        {
          "data": {
            "text/plain": [
              "<Axes: xlabel='Inches', ylabel='Price'>"
            ]
          },
          "execution_count": 20,
          "metadata": {},
          "output_type": "execute_result"
        },
        {
          "data": {
            "image/png": "[encoded data removed]",
            "text/plain": [
              "<Figure size 640x480 with 1 Axes>"
            ]
          },
          "metadata": {},
          "output_type": "display_data"
        }
      ],
      "source": [
        "sns.scatterplot(x=df['Inches'],y=df['Price'])"
      ]
    },
    {
      "cell_type": "markdown",
      "source": [
        "#Feature Engineering:"
      ],
      "metadata": {
        "id": "SKTt2TILv8BQ"
      }
    },
    {
      "cell_type": "markdown",
      "source": [
        "##Screen Analysis"
      ],
      "metadata": {
        "id": "1mOri3ka7T1d"
      }
    },
    {
      "cell_type": "code",
      "execution_count": null,
      "metadata": {
        "colab": {
          "base_uri": "https://localhost:8080/",
          "height": 1000
        },
        "id": "VUQ5yrbp_jds",
        "outputId": "a2711eb9-4c79-4549-dab4-864a9e64649e"
      },
      "outputs": [
        {
          "data": {
            "text/plain": [
              "ScreenResolution\n",
              "Full HD 1920x1080                                495\n",
              "1366x768                                         274\n",
              "IPS Panel Full HD 1920x1080                      226\n",
              "IPS Panel Full HD / Touchscreen 1920x1080         52\n",
              "Full HD / Touchscreen 1920x1080                   45\n",
              "1600x900                                          23\n",
              "Touchscreen 1366x768                              16\n",
              "Quad HD+ / Touchscreen 3200x1800                  14\n",
              "IPS Panel 4K Ultra HD 3840x2160                   12\n",
              "IPS Panel 4K Ultra HD / Touchscreen 3840x2160     11\n",
              "4K Ultra HD / Touchscreen 3840x2160                9\n",
              "4K Ultra HD 3840x2160                              7\n",
              "IPS Panel 1366x768                                 7\n",
              "IPS Panel Retina Display 2560x1600                 6\n",
              "IPS Panel Quad HD+ / Touchscreen 3200x1800         6\n",
              "Touchscreen 2560x1440                              6\n",
              "IPS Panel Retina Display 2304x1440                 6\n",
              "Touchscreen 2256x1504                              6\n",
              "IPS Panel Touchscreen 2560x1440                    5\n",
              "1440x900                                           4\n",
              "IPS Panel 2560x1440                                4\n",
              "IPS Panel Retina Display 2880x1800                 4\n",
              "1920x1080                                          3\n",
              "IPS Panel Touchscreen 1920x1200                    3\n",
              "Quad HD+ 3200x1800                                 3\n",
              "Touchscreen 2400x1600                              3\n",
              "2560x1440                                          3\n",
              "IPS Panel Quad HD+ 2560x1440                       3\n",
              "IPS Panel Touchscreen 1366x768                     3\n",
              "IPS Panel Full HD 2160x1440                        2\n",
              "IPS Panel Touchscreen / 4K Ultra HD 3840x2160      2\n",
              "IPS Panel Quad HD+ 3200x1800                       2\n",
              "IPS Panel Full HD 1920x1200                        1\n",
              "IPS Panel Retina Display 2736x1824                 1\n",
              "IPS Panel Full HD 2560x1440                        1\n",
              "Touchscreen / Full HD 1920x1080                    1\n",
              "IPS Panel Full HD 1366x768                         1\n",
              "Touchscreen / Quad HD+ 3200x1800                   1\n",
              "Touchscreen / 4K Ultra HD 3840x2160                1\n",
              "IPS Panel Touchscreen 2400x1600                    1\n",
              "Name: count, dtype: int64"
            ]
          },
          "execution_count": 21,
          "metadata": {},
          "output_type": "execute_result"
        }
      ],
      "source": [
        "#Value count of the ScreenResolution\n",
        "df['ScreenResolution'].value_counts()"
      ]
    },
    {
      "cell_type": "code",
      "execution_count": null,
      "metadata": {
        "colab": {
          "base_uri": "https://localhost:8080/",
          "height": 462
        },
        "id": "6JLXVHQeBOnk",
        "outputId": "ca899644-f991-4580-cd47-c4708bb8c78f"
      },
      "outputs": [
        {
          "data": {
            "text/plain": [
              "<Axes: xlabel='Touchscreen'>"
            ]
          },
          "execution_count": 22,
          "metadata": {},
          "output_type": "execute_result"
        },
        {
          "data": {
            "image/png": "[encoded data removed]",
            "text/plain": [
              "<Figure size 640x480 with 1 Axes>"
            ]
          },
          "metadata": {},
          "output_type": "display_data"
        }
      ],
      "source": [
        "#Creating the new column in our dataset for better understanding\n",
        "#Column name is Touchscreen it has 0 and 1 0 for no touchscreen and 1 have touchscreen\n",
        "#Creating a lambda function for doing this\n",
        "df['Touchscreen'] = df['ScreenResolution'].apply(lambda x:1 if 'Touchscreen' in x else 0)\n",
        "#Value count of the Touchscreen non touchscreen laptop are more then Touchscree\n",
        "df['Touchscreen'].value_counts().plot(kind='bar')"
      ]
    },
    {
      "cell_type": "markdown",
      "source": [
        "# Barplot\n",
        "of the screens and their prices\n",
        "Touchscreens Are more expensive"
      ],
      "metadata": {
        "id": "ElIwxqU7yTi3"
      }
    },
    {
      "cell_type": "code",
      "execution_count": null,
      "metadata": {
        "colab": {
          "base_uri": "https://localhost:8080/",
          "height": 560
        },
        "id": "0wldGz_yCAEV",
        "outputId": "4d5cbc36-45ee-4c5a-ec6f-bc6739c707d0"
      },
      "outputs": [
        {
          "name": "stderr",
          "output_type": "stream",
          "text": [
            "C:\\Users\\VAIBHAV\\AppData\\Local\\Temp\\ipykernel_9360\\1008628701.py:1: FutureWarning: \n",
            "\n",
            "Passing `palette` without assigning `hue` is deprecated and will be removed in v0.14.0. Assign the `x` variable to `hue` and set `legend=False` for the same effect.\n",
            "\n",
            "  sns.barplot(x=df['Touchscreen'],y=df['Price'],palette='tab20')\n"
          ]
        },
        {
          "data": {
            "text/plain": [
              "<Axes: xlabel='Touchscreen', ylabel='Price'>"
            ]
          },
          "execution_count": 23,
          "metadata": {},
          "output_type": "execute_result"
        },
        {
          "data": {
            "image/png": "[encoded data removed]",
            "text/plain": [
              "<Figure size 640x480 with 1 Axes>"
            ]
          },
          "metadata": {},
          "output_type": "display_data"
        }
      ],
      "source": [
        "sns.barplot(x=df['Touchscreen'],y=df['Price'],palette='tab20')"
      ]
    },
    {
      "cell_type": "code",
      "execution_count": null,
      "metadata": {
        "colab": {
          "base_uri": "https://localhost:8080/",
          "height": 462
        },
        "id": "VcLFvmThCSCh",
        "outputId": "fa6a4999-5d04-49c3-bfb4-a0993b97e539"
      },
      "outputs": [
        {
          "data": {
            "text/plain": [
              "<Axes: xlabel='IPS'>"
            ]
          },
          "execution_count": 24,
          "metadata": {},
          "output_type": "execute_result"
        },
        {
          "data": {
            "image/png": "[encoded data removed]",
            "text/plain": [
              "<Figure size 640x480 with 1 Axes>"
            ]
          },
          "metadata": {},
          "output_type": "display_data"
        }
      ],
      "source": [
        "#Creating the new column in our dataset for better understanding\n",
        "#Column name is IPS it have 0 and 1 0 for no IPS panel and 1 have IPS panel\n",
        "#Creating a lambda function for doing this\n",
        "df['IPS']=df['ScreenResolution'].apply(lambda x:1 if 'IPS' in x else 0)\n",
        "#Value count of the IPS non  IPS panel laptop are more then  IPS panel\n",
        "df['IPS'].value_counts().plot(kind='bar')"
      ]
    },
    {
      "cell_type": "markdown",
      "source": [
        "#Barplot\n",
        "of the IPS and the price Ips Panels are more expensive"
      ],
      "metadata": {
        "id": "VXMR0aEo0dye"
      }
    },
    {
      "cell_type": "code",
      "execution_count": null,
      "metadata": {
        "colab": {
          "base_uri": "https://localhost:8080/",
          "height": 560
        },
        "id": "rulmdkEcC-Cr",
        "outputId": "26cef967-d580-480f-c5bf-f86cf13e449d"
      },
      "outputs": [
        {
          "name": "stderr",
          "output_type": "stream",
          "text": [
            "C:\\Users\\VAIBHAV\\AppData\\Local\\Temp\\ipykernel_9360\\2737504199.py:1: FutureWarning: \n",
            "\n",
            "Passing `palette` without assigning `hue` is deprecated and will be removed in v0.14.0. Assign the `x` variable to `hue` and set `legend=False` for the same effect.\n",
            "\n",
            "  sns.barplot(x=df['IPS'],y=df['Price'],palette='tab20')\n"
          ]
        },
        {
          "data": {
            "text/plain": [
              "<Axes: xlabel='IPS', ylabel='Price'>"
            ]
          },
          "execution_count": 25,
          "metadata": {},
          "output_type": "execute_result"
        },
        {
          "data": {
            "image/png": "[encoded data removed]",
            "text/plain": [
              "<Figure size 640x480 with 1 Axes>"
            ]
          },
          "metadata": {},
          "output_type": "display_data"
        }
      ],
      "source": [
        "sns.barplot(x=df['IPS'],y=df['Price'],palette='tab20')"
      ]
    },
    {
      "cell_type": "code",
      "execution_count": null,
      "metadata": {
        "colab": {
          "base_uri": "https://localhost:8080/",
          "height": 788
        },
        "id": "6IrsF-J8DCJi",
        "outputId": "2fe60297-4635-4125-8721-e15fa6540fc4"
      },
      "outputs": [
        {
          "data": {
            "text/html": [
              "<div>\n",
              "<style scoped>\n",
              "    .dataframe tbody tr th:only-of-type {\n",
              "        vertical-align: middle;\n",
              "    }\n",
              "\n",
              "    .dataframe tbody tr th {\n",
              "        vertical-align: top;\n",
              "    }\n",
              "\n",
              "    .dataframe thead th {\n",
              "        text-align: right;\n",
              "    }\n",
              "</style>\n",
              "<table border=\"1\" class=\"dataframe\">\n",
              "  <thead>\n",
              "    <tr style=\"text-align: right;\">\n",
              "      <th></th>\n",
              "      <th>Company</th>\n",
              "      <th>TypeName</th>\n",
              "      <th>Inches</th>\n",
              "      <th>ScreenResolution</th>\n",
              "      <th>Cpu</th>\n",
              "      <th>Ram</th>\n",
              "      <th>Memory</th>\n",
              "      <th>Gpu</th>\n",
              "      <th>OpSys</th>\n",
              "      <th>Weight</th>\n",
              "      <th>Price</th>\n",
              "      <th>Touchscreen</th>\n",
              "      <th>IPS</th>\n",
              "      <th>X_res</th>\n",
              "      <th>Y_res</th>\n",
              "    </tr>\n",
              "  </thead>\n",
              "  <tbody>\n",
              "    <tr>\n",
              "      <th>0</th>\n",
              "      <td>Apple</td>\n",
              "      <td>Ultrabook</td>\n",
              "      <td>13.3</td>\n",
              "      <td>IPS Panel Retina Display 2560x1600</td>\n",
              "      <td>Intel Core i5 2.3GHz</td>\n",
              "      <td>8</td>\n",
              "      <td>128GB SSD</td>\n",
              "      <td>Intel Iris Plus Graphics 640</td>\n",
              "      <td>macOS</td>\n",
              "      <td>1.37</td>\n",
              "      <td>71378.6832</td>\n",
              "      <td>0</td>\n",
              "      <td>1</td>\n",
              "      <td>IPS Panel Retina Display 2560</td>\n",
              "      <td>1600</td>\n",
              "    </tr>\n",
              "    <tr>\n",
              "      <th>1</th>\n",
              "      <td>Apple</td>\n",
              "      <td>Ultrabook</td>\n",
              "      <td>13.3</td>\n",
              "      <td>1440x900</td>\n",
              "      <td>Intel Core i5 1.8GHz</td>\n",
              "      <td>8</td>\n",
              "      <td>128GB Flash Storage</td>\n",
              "      <td>Intel HD Graphics 6000</td>\n",
              "      <td>macOS</td>\n",
              "      <td>1.34</td>\n",
              "      <td>47895.5232</td>\n",
              "      <td>0</td>\n",
              "      <td>0</td>\n",
              "      <td>1440</td>\n",
              "      <td>900</td>\n",
              "    </tr>\n",
              "    <tr>\n",
              "      <th>2</th>\n",
              "      <td>HP</td>\n",
              "      <td>Notebook</td>\n",
              "      <td>15.6</td>\n",
              "      <td>Full HD 1920x1080</td>\n",
              "      <td>Intel Core i5 7200U 2.5GHz</td>\n",
              "      <td>8</td>\n",
              "      <td>256GB SSD</td>\n",
              "      <td>Intel HD Graphics 620</td>\n",
              "      <td>No OS</td>\n",
              "      <td>1.86</td>\n",
              "      <td>30636.0000</td>\n",
              "      <td>0</td>\n",
              "      <td>0</td>\n",
              "      <td>Full HD 1920</td>\n",
              "      <td>1080</td>\n",
              "    </tr>\n",
              "    <tr>\n",
              "      <th>3</th>\n",
              "      <td>Apple</td>\n",
              "      <td>Ultrabook</td>\n",
              "      <td>15.4</td>\n",
              "      <td>IPS Panel Retina Display 2880x1800</td>\n",
              "      <td>Intel Core i7 2.7GHz</td>\n",
              "      <td>16</td>\n",
              "      <td>512GB SSD</td>\n",
              "      <td>AMD Radeon Pro 455</td>\n",
              "      <td>macOS</td>\n",
              "      <td>1.83</td>\n",
              "      <td>135195.3360</td>\n",
              "      <td>0</td>\n",
              "      <td>1</td>\n",
              "      <td>IPS Panel Retina Display 2880</td>\n",
              "      <td>1800</td>\n",
              "    </tr>\n",
              "    <tr>\n",
              "      <th>4</th>\n",
              "      <td>Apple</td>\n",
              "      <td>Ultrabook</td>\n",
              "      <td>13.3</td>\n",
              "      <td>IPS Panel Retina Display 2560x1600</td>\n",
              "      <td>Intel Core i5 3.1GHz</td>\n",
              "      <td>8</td>\n",
              "      <td>256GB SSD</td>\n",
              "      <td>Intel Iris Plus Graphics 650</td>\n",
              "      <td>macOS</td>\n",
              "      <td>1.37</td>\n",
              "      <td>96095.8080</td>\n",
              "      <td>0</td>\n",
              "      <td>1</td>\n",
              "      <td>IPS Panel Retina Display 2560</td>\n",
              "      <td>1600</td>\n",
              "    </tr>\n",
              "    <tr>\n",
              "      <th>...</th>\n",
              "      <td>...</td>\n",
              "      <td>...</td>\n",
              "      <td>...</td>\n",
              "      <td>...</td>\n",
              "      <td>...</td>\n",
              "      <td>...</td>\n",
              "      <td>...</td>\n",
              "      <td>...</td>\n",
              "      <td>...</td>\n",
              "      <td>...</td>\n",
              "      <td>...</td>\n",
              "      <td>...</td>\n",
              "      <td>...</td>\n",
              "      <td>...</td>\n",
              "      <td>...</td>\n",
              "    </tr>\n",
              "    <tr>\n",
              "      <th>1298</th>\n",
              "      <td>Lenovo</td>\n",
              "      <td>2 in 1 Convertible</td>\n",
              "      <td>14.0</td>\n",
              "      <td>IPS Panel Full HD / Touchscreen 1920x1080</td>\n",
              "      <td>Intel Core i7 6500U 2.5GHz</td>\n",
              "      <td>4</td>\n",
              "      <td>128GB SSD</td>\n",
              "      <td>Intel HD Graphics 520</td>\n",
              "      <td>Windows 10</td>\n",
              "      <td>1.80</td>\n",
              "      <td>33992.6400</td>\n",
              "      <td>1</td>\n",
              "      <td>1</td>\n",
              "      <td>IPS Panel Full HD / Touchscreen 1920</td>\n",
              "      <td>1080</td>\n",
              "    </tr>\n",
              "    <tr>\n",
              "      <th>1299</th>\n",
              "      <td>Lenovo</td>\n",
              "      <td>2 in 1 Convertible</td>\n",
              "      <td>13.3</td>\n",
              "      <td>IPS Panel Quad HD+ / Touchscreen 3200x1800</td>\n",
              "      <td>Intel Core i7 6500U 2.5GHz</td>\n",
              "      <td>16</td>\n",
              "      <td>512GB SSD</td>\n",
              "      <td>Intel HD Graphics 520</td>\n",
              "      <td>Windows 10</td>\n",
              "      <td>1.30</td>\n",
              "      <td>79866.7200</td>\n",
              "      <td>1</td>\n",
              "      <td>1</td>\n",
              "      <td>IPS Panel Quad HD+ / Touchscreen 3200</td>\n",
              "      <td>1800</td>\n",
              "    </tr>\n",
              "    <tr>\n",
              "      <th>1300</th>\n",
              "      <td>Lenovo</td>\n",
              "      <td>Notebook</td>\n",
              "      <td>14.0</td>\n",
              "      <td>1366x768</td>\n",
              "      <td>Intel Celeron Dual Core N3050 1.6GHz</td>\n",
              "      <td>2</td>\n",
              "      <td>64GB Flash Storage</td>\n",
              "      <td>Intel HD Graphics</td>\n",
              "      <td>Windows 10</td>\n",
              "      <td>1.50</td>\n",
              "      <td>12201.1200</td>\n",
              "      <td>0</td>\n",
              "      <td>0</td>\n",
              "      <td>1366</td>\n",
              "      <td>768</td>\n",
              "    </tr>\n",
              "    <tr>\n",
              "      <th>1301</th>\n",
              "      <td>HP</td>\n",
              "      <td>Notebook</td>\n",
              "      <td>15.6</td>\n",
              "      <td>1366x768</td>\n",
              "      <td>Intel Core i7 6500U 2.5GHz</td>\n",
              "      <td>6</td>\n",
              "      <td>1TB HDD</td>\n",
              "      <td>AMD Radeon R5 M330</td>\n",
              "      <td>Windows 10</td>\n",
              "      <td>2.19</td>\n",
              "      <td>40705.9200</td>\n",
              "      <td>0</td>\n",
              "      <td>0</td>\n",
              "      <td>1366</td>\n",
              "      <td>768</td>\n",
              "    </tr>\n",
              "    <tr>\n",
              "      <th>1302</th>\n",
              "      <td>Asus</td>\n",
              "      <td>Notebook</td>\n",
              "      <td>15.6</td>\n",
              "      <td>1366x768</td>\n",
              "      <td>Intel Celeron Dual Core N3050 1.6GHz</td>\n",
              "      <td>4</td>\n",
              "      <td>500GB HDD</td>\n",
              "      <td>Intel HD Graphics</td>\n",
              "      <td>Windows 10</td>\n",
              "      <td>2.20</td>\n",
              "      <td>19660.3200</td>\n",
              "      <td>0</td>\n",
              "      <td>0</td>\n",
              "      <td>1366</td>\n",
              "      <td>768</td>\n",
              "    </tr>\n",
              "  </tbody>\n",
              "</table>\n",
              "<p>1273 rows × 15 columns</p>\n",
              "</div>"
            ],
            "text/plain": [
              "     Company            TypeName  Inches  \\\n",
              "0      Apple           Ultrabook    13.3   \n",
              "1      Apple           Ultrabook    13.3   \n",
              "2         HP            Notebook    15.6   \n",
              "3      Apple           Ultrabook    15.4   \n",
              "4      Apple           Ultrabook    13.3   \n",
              "...      ...                 ...     ...   \n",
              "1298  Lenovo  2 in 1 Convertible    14.0   \n",
              "1299  Lenovo  2 in 1 Convertible    13.3   \n",
              "1300  Lenovo            Notebook    14.0   \n",
              "1301      HP            Notebook    15.6   \n",
              "1302    Asus            Notebook    15.6   \n",
              "\n",
              "                                ScreenResolution  \\\n",
              "0             IPS Panel Retina Display 2560x1600   \n",
              "1                                       1440x900   \n",
              "2                              Full HD 1920x1080   \n",
              "3             IPS Panel Retina Display 2880x1800   \n",
              "4             IPS Panel Retina Display 2560x1600   \n",
              "...                                          ...   \n",
              "1298   IPS Panel Full HD / Touchscreen 1920x1080   \n",
              "1299  IPS Panel Quad HD+ / Touchscreen 3200x1800   \n",
              "1300                                    1366x768   \n",
              "1301                                    1366x768   \n",
              "1302                                    1366x768   \n",
              "\n",
              "                                       Cpu  Ram               Memory  \\\n",
              "0                     Intel Core i5 2.3GHz    8            128GB SSD   \n",
              "1                     Intel Core i5 1.8GHz    8  128GB Flash Storage   \n",
              "2               Intel Core i5 7200U 2.5GHz    8            256GB SSD   \n",
              "3                     Intel Core i7 2.7GHz   16            512GB SSD   \n",
              "4                     Intel Core i5 3.1GHz    8            256GB SSD   \n",
              "...                                    ...  ...                  ...   \n",
              "1298            Intel Core i7 6500U 2.5GHz    4            128GB SSD   \n",
              "1299            Intel Core i7 6500U 2.5GHz   16            512GB SSD   \n",
              "1300  Intel Celeron Dual Core N3050 1.6GHz    2   64GB Flash Storage   \n",
              "1301            Intel Core i7 6500U 2.5GHz    6              1TB HDD   \n",
              "1302  Intel Celeron Dual Core N3050 1.6GHz    4            500GB HDD   \n",
              "\n",
              "                               Gpu       OpSys  Weight        Price  \\\n",
              "0     Intel Iris Plus Graphics 640       macOS    1.37   71378.6832   \n",
              "1           Intel HD Graphics 6000       macOS    1.34   47895.5232   \n",
              "2            Intel HD Graphics 620       No OS    1.86   30636.0000   \n",
              "3               AMD Radeon Pro 455       macOS    1.83  135195.3360   \n",
              "4     Intel Iris Plus Graphics 650       macOS    1.37   96095.8080   \n",
              "...                            ...         ...     ...          ...   \n",
              "1298         Intel HD Graphics 520  Windows 10    1.80   33992.6400   \n",
              "1299         Intel HD Graphics 520  Windows 10    1.30   79866.7200   \n",
              "1300             Intel HD Graphics  Windows 10    1.50   12201.1200   \n",
              "1301            AMD Radeon R5 M330  Windows 10    2.19   40705.9200   \n",
              "1302             Intel HD Graphics  Windows 10    2.20   19660.3200   \n",
              "\n",
              "      Touchscreen  IPS                                  X_res Y_res  \n",
              "0               0    1          IPS Panel Retina Display 2560  1600  \n",
              "1               0    0                                   1440   900  \n",
              "2               0    0                           Full HD 1920  1080  \n",
              "3               0    1          IPS Panel Retina Display 2880  1800  \n",
              "4               0    1          IPS Panel Retina Display 2560  1600  \n",
              "...           ...  ...                                    ...   ...  \n",
              "1298            1    1   IPS Panel Full HD / Touchscreen 1920  1080  \n",
              "1299            1    1  IPS Panel Quad HD+ / Touchscreen 3200  1800  \n",
              "1300            0    0                                   1366   768  \n",
              "1301            0    0                                   1366   768  \n",
              "1302            0    0                                   1366   768  \n",
              "\n",
              "[1273 rows x 15 columns]"
            ]
          },
          "execution_count": 26,
          "metadata": {},
          "output_type": "execute_result"
        }
      ],
      "source": [
        "#Spliting the ScreenResolution into 2 part for the better analysis\n",
        "#making a new variable new and also split the variabls into 2 part X and y res\n",
        "new = df['ScreenResolution'].str.split('x',n=1,expand=True)\n",
        "df['X_res'] = new[0]\n",
        "df['Y_res'] = new[1]\n",
        "df"
      ]
    },
    {
      "cell_type": "code",
      "execution_count": null,
      "metadata": {
        "colab": {
          "base_uri": "https://localhost:8080/",
          "height": 310
        },
        "id": "B-juQ1PjF_g0",
        "outputId": "50a6e52c-9d5c-47a2-c837-78493a2fcca0"
      },
      "outputs": [
        {
          "data": {
            "text/html": [
              "<div>\n",
              "<style scoped>\n",
              "    .dataframe tbody tr th:only-of-type {\n",
              "        vertical-align: middle;\n",
              "    }\n",
              "\n",
              "    .dataframe tbody tr th {\n",
              "        vertical-align: top;\n",
              "    }\n",
              "\n",
              "    .dataframe thead th {\n",
              "        text-align: right;\n",
              "    }\n",
              "</style>\n",
              "<table border=\"1\" class=\"dataframe\">\n",
              "  <thead>\n",
              "    <tr style=\"text-align: right;\">\n",
              "      <th></th>\n",
              "      <th>Company</th>\n",
              "      <th>TypeName</th>\n",
              "      <th>Inches</th>\n",
              "      <th>ScreenResolution</th>\n",
              "      <th>Cpu</th>\n",
              "      <th>Ram</th>\n",
              "      <th>Memory</th>\n",
              "      <th>Gpu</th>\n",
              "      <th>OpSys</th>\n",
              "      <th>Weight</th>\n",
              "      <th>Price</th>\n",
              "      <th>Touchscreen</th>\n",
              "      <th>IPS</th>\n",
              "      <th>X_res</th>\n",
              "      <th>Y_res</th>\n",
              "    </tr>\n",
              "  </thead>\n",
              "  <tbody>\n",
              "    <tr>\n",
              "      <th>0</th>\n",
              "      <td>Apple</td>\n",
              "      <td>Ultrabook</td>\n",
              "      <td>13.3</td>\n",
              "      <td>IPS Panel Retina Display 2560x1600</td>\n",
              "      <td>Intel Core i5 2.3GHz</td>\n",
              "      <td>8</td>\n",
              "      <td>128GB SSD</td>\n",
              "      <td>Intel Iris Plus Graphics 640</td>\n",
              "      <td>macOS</td>\n",
              "      <td>1.37</td>\n",
              "      <td>71378.6832</td>\n",
              "      <td>0</td>\n",
              "      <td>1</td>\n",
              "      <td>2560</td>\n",
              "      <td>1600</td>\n",
              "    </tr>\n",
              "    <tr>\n",
              "      <th>1</th>\n",
              "      <td>Apple</td>\n",
              "      <td>Ultrabook</td>\n",
              "      <td>13.3</td>\n",
              "      <td>1440x900</td>\n",
              "      <td>Intel Core i5 1.8GHz</td>\n",
              "      <td>8</td>\n",
              "      <td>128GB Flash Storage</td>\n",
              "      <td>Intel HD Graphics 6000</td>\n",
              "      <td>macOS</td>\n",
              "      <td>1.34</td>\n",
              "      <td>47895.5232</td>\n",
              "      <td>0</td>\n",
              "      <td>0</td>\n",
              "      <td>1440</td>\n",
              "      <td>900</td>\n",
              "    </tr>\n",
              "    <tr>\n",
              "      <th>2</th>\n",
              "      <td>HP</td>\n",
              "      <td>Notebook</td>\n",
              "      <td>15.6</td>\n",
              "      <td>Full HD 1920x1080</td>\n",
              "      <td>Intel Core i5 7200U 2.5GHz</td>\n",
              "      <td>8</td>\n",
              "      <td>256GB SSD</td>\n",
              "      <td>Intel HD Graphics 620</td>\n",
              "      <td>No OS</td>\n",
              "      <td>1.86</td>\n",
              "      <td>30636.0000</td>\n",
              "      <td>0</td>\n",
              "      <td>0</td>\n",
              "      <td>1920</td>\n",
              "      <td>1080</td>\n",
              "    </tr>\n",
              "    <tr>\n",
              "      <th>3</th>\n",
              "      <td>Apple</td>\n",
              "      <td>Ultrabook</td>\n",
              "      <td>15.4</td>\n",
              "      <td>IPS Panel Retina Display 2880x1800</td>\n",
              "      <td>Intel Core i7 2.7GHz</td>\n",
              "      <td>16</td>\n",
              "      <td>512GB SSD</td>\n",
              "      <td>AMD Radeon Pro 455</td>\n",
              "      <td>macOS</td>\n",
              "      <td>1.83</td>\n",
              "      <td>135195.3360</td>\n",
              "      <td>0</td>\n",
              "      <td>1</td>\n",
              "      <td>2880</td>\n",
              "      <td>1800</td>\n",
              "    </tr>\n",
              "    <tr>\n",
              "      <th>4</th>\n",
              "      <td>Apple</td>\n",
              "      <td>Ultrabook</td>\n",
              "      <td>13.3</td>\n",
              "      <td>IPS Panel Retina Display 2560x1600</td>\n",
              "      <td>Intel Core i5 3.1GHz</td>\n",
              "      <td>8</td>\n",
              "      <td>256GB SSD</td>\n",
              "      <td>Intel Iris Plus Graphics 650</td>\n",
              "      <td>macOS</td>\n",
              "      <td>1.37</td>\n",
              "      <td>96095.8080</td>\n",
              "      <td>0</td>\n",
              "      <td>1</td>\n",
              "      <td>2560</td>\n",
              "      <td>1600</td>\n",
              "    </tr>\n",
              "  </tbody>\n",
              "</table>\n",
              "</div>"
            ],
            "text/plain": [
              "  Company   TypeName  Inches                    ScreenResolution  \\\n",
              "0   Apple  Ultrabook    13.3  IPS Panel Retina Display 2560x1600   \n",
              "1   Apple  Ultrabook    13.3                            1440x900   \n",
              "2      HP   Notebook    15.6                   Full HD 1920x1080   \n",
              "3   Apple  Ultrabook    15.4  IPS Panel Retina Display 2880x1800   \n",
              "4   Apple  Ultrabook    13.3  IPS Panel Retina Display 2560x1600   \n",
              "\n",
              "                          Cpu  Ram               Memory  \\\n",
              "0        Intel Core i5 2.3GHz    8            128GB SSD   \n",
              "1        Intel Core i5 1.8GHz    8  128GB Flash Storage   \n",
              "2  Intel Core i5 7200U 2.5GHz    8            256GB SSD   \n",
              "3        Intel Core i7 2.7GHz   16            512GB SSD   \n",
              "4        Intel Core i5 3.1GHz    8            256GB SSD   \n",
              "\n",
              "                            Gpu  OpSys  Weight        Price  Touchscreen  IPS  \\\n",
              "0  Intel Iris Plus Graphics 640  macOS    1.37   71378.6832            0    1   \n",
              "1        Intel HD Graphics 6000  macOS    1.34   47895.5232            0    0   \n",
              "2         Intel HD Graphics 620  No OS    1.86   30636.0000            0    0   \n",
              "3            AMD Radeon Pro 455  macOS    1.83  135195.3360            0    1   \n",
              "4  Intel Iris Plus Graphics 650  macOS    1.37   96095.8080            0    1   \n",
              "\n",
              "  X_res Y_res  \n",
              "0  2560  1600  \n",
              "1  1440   900  \n",
              "2  1920  1080  \n",
              "3  2880  1800  \n",
              "4  2560  1600  "
            ]
          },
          "execution_count": 27,
          "metadata": {},
          "output_type": "execute_result"
        }
      ],
      "source": [
        "#X_res have some attached string so extract only the number from this\n",
        "df['X_res']=df['X_res'].str.replace(',','').str.findall(r'(\\d+\\.?\\d+)').apply(lambda x:x[0])\n",
        "df.head()"
      ]
    },
    {
      "cell_type": "code",
      "execution_count": null,
      "metadata": {
        "colab": {
          "base_uri": "https://localhost:8080/"
        },
        "id": "ROcrOMQwI3dD",
        "outputId": "d6bee17e-e391-46f9-fe90-f8c5faa1ec6a"
      },
      "outputs": [
        {
          "name": "stdout",
          "output_type": "stream",
          "text": [
            "<class 'pandas.core.frame.DataFrame'>\n",
            "Index: 1273 entries, 0 to 1302\n",
            "Data columns (total 15 columns):\n",
            " #   Column            Non-Null Count  Dtype  \n",
            "---  ------            --------------  -----  \n",
            " 0   Company           1273 non-null   object \n",
            " 1   TypeName          1273 non-null   object \n",
            " 2   Inches            1273 non-null   float64\n",
            " 3   ScreenResolution  1273 non-null   object \n",
            " 4   Cpu               1273 non-null   object \n",
            " 5   Ram               1273 non-null   int32  \n",
            " 6   Memory            1273 non-null   object \n",
            " 7   Gpu               1273 non-null   object \n",
            " 8   OpSys             1273 non-null   object \n",
            " 9   Weight            1273 non-null   float32\n",
            " 10  Price             1273 non-null   float64\n",
            " 11  Touchscreen       1273 non-null   int64  \n",
            " 12  IPS               1273 non-null   int64  \n",
            " 13  X_res             1273 non-null   int32  \n",
            " 14  Y_res             1273 non-null   int32  \n",
            "dtypes: float32(1), float64(2), int32(3), int64(2), object(7)\n",
            "memory usage: 139.2+ KB\n"
          ]
        }
      ],
      "source": [
        "#Changing the datatype of the both x and y res into the int for getting our PPI values\n",
        "df['X_res']=df['X_res'].astype('int')\n",
        "df['Y_res']=df['Y_res'].astype('int')\n",
        "df.info()"
      ]
    },
    {
      "cell_type": "markdown",
      "source": [
        "#PPI\n",
        " is a measurement of the number of pixels in a digital image or display per inch.![1_Il5yaePUUw4yAfrt_87afw.png](data:image/png;base64,iVBORw0KGgoAAAANSUhEUgAAA/AAAAG9CAYAAACyBp2VAAAACXBIWXMAAAsTAAALEwEAmpwYAAAgAElEQVR4nO3d4XXayPs/7Mlzvu9XW8HKFQRXYFFBcAXGFRhXAFQAqQBSgUkF4ApMKkCuAKUCnhf5wR8E2GCDYZzrOoezCwFpEMKHj+aemS+z2WwWAAAAgLP2/526AQAAAMDrBHgAAACIgAAPAAAAERDgAQAAIAICPAAAAERAgAcAAIAICPAAAAAQAQEeAAAAIiDAAwAAQAQEeAAAAIiAAA8AAAAREOABAAAgAgI8AAAARECABwAAgAgI8AAAABABAR4AAAAiIMADAABABAR4AAAAiIAADwAAABEQ4AEAACACAjwAAABEQIAHAACACAjwAAAAEAEBHgAAACIgwAMAAEAEBHgAAACIgAAPAAAAERDgAQAAIAICPAAAAERAgAcAAIAICPAAAAAQAQEeAAAAIiDAAwAAQAQEeAAAAIiAAA8AAAAREOABAAAgAgI8AAAARECABwAAgAgI8AAAABABAR4AAAAiIMADAABABAR4AAAAiIAADwAAABEQ4AEAACACAjwAAABEQIAHAACACAjwAAAAEAEBHgAAACIgwAMAAEAEBHgAAACIgAAPAAAAERDgAQAAIAICPAAAAERAgAcAAIAICPAAAAAQAQEeAAAAIiDAAwAAQAQEeAAAAIiAAA8AAAAREOABAAAgAgI8AAAARECABwAAgAgI8AAAABABAR4AAAAiIMADAABABAR4AAAAiIAADwAAABEQ4AEAACACAjwAAABEQIAHAACACAjwAAAAEAEBHgAAACIgwAMAAEAEBHgAAACIgAAPAAAAERDgAQAAIAICPAAAAERAgAcAAIAICPAAAAAQAQEeAAAAIiDAAwAAQAQEeAAAAIiAAA8AAAAREOABAAAgAgI8AAAARECABwAAgAgI8AAAABABAR4AAAAiIMADAABABAR4AAAAiIAADwAAABEQ4AEAACACAjwAAABEQIAHAACACAjwAAAAEAEBHgAAACIgwAMAAEAEBHgAAACIgAAPAAAAERDgAQAAIAICPAAAAERAgAcAAIAICPAAAAAQAQEeAAAAIiDAAwAAQAQEeAAAAIiAAA8AAAAREOABAAAgAgI8AAAARECABwAAgAgI8AAAABABAR4AAAAiIMADAABABAR4AAAAiIAADwAAABEQ4AEAACACAjwAAABEQIAHAACACAjwAAAAEAEBHgAAACIgwAMAAEAEBHgAAACIgAAPAAAAERDgAQAAIAICPAAAAERAgAcAAIAICPAAAAAQAQEeAAAAIiDAAwAAQAQEeAAAAIiAAA8AAAAREOABAAAgAgI8AAAARECABwAAgAgI8AAAABABAR4AAAAiIMADAABABAR4AAAAiIAADwAAABEQ4AEAACACAjwAAABEQIAHAACACAjwAAAAEIH/nboBAAAfbTQahVarFX7//h2m02loNBqh0WgcfD95nu/83DRN37WvoihCURSL+0mShCRJ3rXNGDQajTAejxfHejAYhEqlctpGARyJAA8AH6jRaKyErGPIsizU6/Wj7iN2eZ6Hx8fHxf1jfSYXFxd7vyZJkpCmaahUKuHq6irUarWdgvh4PA7VanVxP8uyMBwO995/bMbj8Yd8lgDnQIAHgA80GAzC8/PzUffx5csXAT5iRVGE8XgcxuNx6Pf74fb2NtTr9dBsNt/dSw9A3IyBBwA4c/1+P1Sr1TAej0/dFABOSA88AHygi4uL8OXLl52eWx4/vWvv6z///LNnqw5vNBqFfr8fQgih1WrpOf4/r5XD53m+6IHf9G/VajUMh0NjvAH+UgI8AHygXcck53m+Mn46TdMwmUyO1ayDGwwG4cePHyGEEOr1ugD/fzqdzk7HoiiKMBgMQrvdXrmQUxRFuL6+3ngupGm6MnTiv//+O0CLATgnAjwAcHBKvd8nSZJQr9cXt/nFkBD+XNwZDAahVqutvCZN09Dr9T66qQB8IGPgAYCDW54VnPfpdrtrvfbLgR6Av4cADwAc1Gg0OnUTPpUkScLd3d3KYyocAP5OSugB4C9WFMVi4rQQ/oTF906QdsxwOW/rcnvTNN1pnfSYlT+T8gSHMSqfe5VK5eSf46bvw99wfgHxEOAB4C+T53no9/uh3+9vXZP+6uoq1Ov1kGXZq5Ouzcdkz4NPuXz+/v5+68z4jUZjbSz3stFoFAaDQXh8fFwJVmWVSiV8+/bt006Yt8t7Go/HodFoLO5fXl6GTqez9rxarbZyHGu12srrdpHn+cqEeSH8WW0gy7IXX1cUReh2u1vPvTRNw7dv30Kj0fiwz3F+jg0Gg63fhyRJwtXVVajVajt9JwCOZgYAnJ3JZDILISxuaZq+e5vT6XR2d3e3st3XbmmazjqdzovbfXh42Guby7der7dxm81mc5Ykyd7bS9N09vDw8Oqx6PV6K69rNptvOKKvK7dvMpm8aTvD4XBtW689J8uynbaVJMns6elpr/akabqyjXq9/upr9vlMkyR59bybu7q6WnntcDjc+X3s+3147bwFODZj4AHgL5Dnebi8vAzfv3/f+3X39/fh/v5+63O29Yq/R7/ff9N28zwP19fXn34c/ntKurMsW+lxL4oi3N7e7ny8W63WSgl/mqah2WxufX5RFCHLstBut3feR1EU4f7+PrRarZ2e/xb1en3v78OcHnjgVAR4APjk8jwP1Wp1bdx0lmWh1+uFyWQSZrNZmE6n4enpKfR6vbWA0u12t4b4LMvCcDhc3L59+7by751OZ+Xfl2/byueXy7PTNA13d3eLtk6n0zCbzcJsNgtPT08by7/b7fbrByYig8Fg5f575yloNpsrn/F4PN7pmOV5vva8TefLstvb27VhFfV6PQyHw8VnOZ1Ow3A4DDc3NyvPa7fbodvtvv6G9tTtdtdm8m+1WmE4HC7OreV2dTqdxbmapumrQwUAjuaEvf8AwBaHLKG/ublZK0/epcy41WqtlQ7vUtZc3t8+Jc1z0+l0VqvVdn7t09PTWnn2S6+NrYS+XLJ+d3e39pxdS+jn9j1m0+l0rR2tVuvFfTSbzbXz+LVy/fJ5lyTJi8ftLSX05fex63k2mUzedD4DHIoeeAD4xPr9/lpP43A43KkHsdlsrpUw71MG/R5JkoSHh4edezorlcqnXWqtXLIeQth70rlNKpXKWun7S6X0+5bOb+qtHw6Hr1YPNJvNtRL/Q/bCj0ajlfcxn5huF3rfgVMT4AHgEysHqFartVf5dbPZXAkshw5Th1QOVr9+/TpNQw5kPtN7+TM85Ez7jUZj5bjleR5ub2/Xntfv91fGiydJEobD4YvbLl/8abVaO7e72WyujPP/8ePHwS4clbfz9evXg2wX4CNYRg4APqlyT2OSJGtjjHfRbDZXJoX78ePHUScXe6tyODzHtdJ//fr1YrvyPA/j8TiMx+O1ceMhvN7r/RYPDw/h8vJy0a7BYBC63e6iF3xTT3qn03k1jP/8+XPl/j7n3vxcnV80KIoijMfjg/R+lycA/IiKEoBDEeAB4JMqT3xWq9Xe1HObZVlIkmQRdPI8D3mem4n7DV5a8/41aZqGh4eHgx/3JElCr9cL1Wp18Vi73V6cL+XS+Xq9vrYGfNlgMFhba37fdpcrRQaDwUECfHm7P378+NB15wHeQwk9AHxS5THg5dnh93F1dbVy/7Mv03ZuarXaTuPH32rb0nLl2dp3rQAonx/l82cX5UD9/Py89zY2SZJkbVhItVoN3W73LKs2AJbpgQeAT6o8Bvw9PYyVSmWlJPpcJoibB6556flnkSRJqFQqIcuycHd3965133c1HyoxP47L/z+3awXAps/iveH4kKXunU4nXF5eLu7neR7u7+8XlQc3NzcmqwPOkgAPAJ9UOfC8p/e2HNp+//795m29xTxMjsfj8OvXrzCdTg/WI/uRnp6eQghhZTjCXJIkIUmSkKbpScq55zP/X15eLtq3fA7tMwFi+fy4v78P9/f372rfIXvHK5VKeHh4WJt1vyiK0O/3Q7/fX8w4L8wD50SAB4BP6NilwB9Rajyf8f779++fZqKxeUA/V/MS+XLY3rTk3Eum0+mhm3bw41ar1UKlUgmtVmttqcUQ/pzjy2G+2Wy+OvYf4NgEeADg7LRarReD+7yXOk3T8M8//yx6r9/by8txZmU/RPg+xjCCNE1Dv98PrVYrdLvd8PPnz40Xp+bL67Xb7TAcDs/6IgzwuQnwAPAJHXvM9DG3X6/X13pEkyQJjUYjXF1dhUqlsnH/83HMvN1oNFpbMi6EP2Pa7+/vQ6fTedN2zz30pmkaut1u6Ha7YTQahX6/Hx4fH9fCfJ7noVqtnv37AT4vs9ADwCc075Fe9p6y9/Jr//vvvzdv6yX9fn8tvHe73TCdTkOz2VwsacfhzXuZly0f63m43UU53MY0wWCWZaHf74fJZBJ6vd7ae9l0nAA+igAPAJ/UpuDxVuUAdqzex3Lvb7fbDXd3d0fZF6vK6703Go3w8PCw8pzypG/bHPLcO6V6vR4mk0lotVorj49GI0spAichwAPAJ3XItdvLS9IdYz3y8Xi8EvTSNBXeP8i29d7L68Pv2vtcPj/K509sms3mynEIIa6qAuDzEOAB4JOq1Wor9zfNtL2LTcF6n2W1dp0Urfy8fXv59Yi+TZ7na5UPw+FwUT7f6XRWAvlgMAjdbvfFbZbPvcFgcLSVBD5qLHr5YlLsFyWAOAnwAPBJlceL53n+ppBbDmuvhffyGPVdg1u5zHrfse6vhcqXxLim/KFUq9W19d7Lofjh4WHl82i32y+WxZcv8syXBPwIn2XJQYBNBHgA+MTKvYa7jmGe2zSp3Gvrgb91ArNy2fU+46ZbrdZePaLv2ddnUh73Pi+dLys/XhRFuL6+fnHbNzc3K/fb7fZRqiQ+arx9+Tw+1kSOAC8R4AHgE2s0GisBZ74M1i4hZ7502LJNvbNl5X//+fPnTm3dFPx3CXzdbnfj0mf77utv67kdDAYrxy1JkjAcDrc+v9ForPSqbzo/ltXr9bVqjevr69Dv93duY1EUodVqrU0it+wt51u3291rDHtRFGvvdZ9hJAAHMwMAzs5kMpmFEBa3NE3fvK2np6dZkiRr2+v1erPpdLr2/Ol0Oms2m2uvqVQqO+1vOp2uvbbZbM4mk8nG5y7LsmytnQ8PDxv3MxwOZ1dXVyvPX95vlmUvtrO8r3q9vtP728fy9kMIG4/BoQyHw5V9vfT+J5PJLE3Tled3u91X9zGZTNY+2+FwuNfz58d60+um0+ns6elp1ul0Vj7bl8696XS6tv1Op/Pi+6hUKrMQwuzq6mrW6/VmT09PW587HA4Xzz/E9xHgPb7MZrPZoS8KAADvk+d5uLi4WNxP0zRMJpM3b288Hq+NdZ6rVCrhn3/+Wex303jwNE3DcDjcecKwer2+cdK8+cz4eZ6H379/h1qtFnq93ko7Ly8vN+7/69evIUmSUBRFeHx8XHkvSZKEbre70rOaZdmLPcrdbnetVzVJkvD169eVNnY6nVCv13d632VfvnxZuT+ZTI426dpoNArVanVx/6X3f319HQaDweJ+vV5f+RxeMhgMVsrn0zQNT09PW+csGI/H4fr6emvVx3Ip+ra5CJIkCdPpdGubqtXqWrXG/LP8/ft3mE6n4fn5OUyn05Akydrnsvz8ud+/f4c8z9e+M0mShKenpw+bPA9gxamvIAAA6w7ZA7+8zXKv6y63er2+saf+EPva1Ovd6/X2al+apose1Lu7u5174Gez2VrP6qZbr9fb670vK2/rHHrgm83m2vHbt12NRmPn3v7Z7O3nXvi/qopWq/Xq9jf19G86/tPp9M1tWT7XAE7BGHgA+EvMe/F7vd5OvYfzHtxer7f3jPDzHvvyRGZlm3pl6/V6mEwma0uRlSVJElqtVnh6elpMSrfv+vRvbWOsNi0Z12w29+5NLr9mNBq9OMv88rm369jxLMtCp9MJk8lkp4kTn56eXt12URQhSZK927LpXAM4BSX0APCXmq/vvjyZV5IkiyXA9g3t28z3MS9HTtN0sZ/5/7/22nIbK5XKQScRK4oijEajRRuTJFns57U2sr/yOTE3Pycqlcqbj3n5nNnlfBuNRqEoirWJ7eZtEdqBcyHAAwAAQASU0AMAAEAEBHgAAACIgAAPAAAAERDgAQAAIAICPAAAAERAgAcAAIAICPAAAAAQAQEeAAAAIiDAAwAAQAQEeAAAAIiAAA8AAAAREOABAAAgAgI8AAAARECABwAAgAj879QNgGPq9/uh3++/eztpmoY0TUOlUgmVSiWkafqm7YzH49BoNA7anvl/32M8HoeiKFYeS5Lk3dsFAAAOR4DnU8vzPDw+Pr57O+VtpGkavn37FhqNxl5hviiKo7Uny7Jwc3MTsizbe3u1Wi08Pz+vPFav10Ov13tPMwEAgANSQg9vkOd5+P79e7i4uAi3t7chz/OTt6ff74dqtRqyLDt5ewAAgMMT4OGd5sF5MBicuikhhD+98xcXF6HVap26KQAAwAEJ8HAAeZ6H6+vr8OPHj1M3ZaHdbgvxAADwiRgDz1+p1+vtNXZ9PB6H8XgcHh8fXyxPr9fr4evXr3tP/nZ3dxdqtdrOz8/zfNGe8Xi89XntdjskSXKQifMAAIDTEuD5K2VZtleAX54YbjQahfv7+63B+f7+PgyHw73aU6lU3jT5XAh/wnyr1dra+99ut0O9Xg9Jkrxp+wAAwHlQQg97yrIsPD09bS1PH41GYTQafVh70jQN/X4/PDw8bAzpRVGEbrf7Ye0BAACOQ4CHN2o2m1tL09vt9ge35s9ScNuWffv+/fsHtwYAADg0AR7eodlsbuz1fmlc+jHVarWNpfhFUZysTQAAwGEI8PAOSZKEb9++rT1eFMXJ1mK/ubnZ+LgADwAAcRPg4Z22zTh/qgC/bTK8U7UHAAA4DAEe3sns7gAAwEcQ4AEAACACAjwAAABEQICHdyqKYuPjpyqtP7f2AAAAhyHAwzttm909TdOPbcj/2daebZPtAQAAcfjfqRsAsXt8fFx7rFKpnKzHezAYbHz8VBcUXjMajcJoNPrw/VYqlVCr1T58vwAA8FYCPLxDv9/fuDzbqXq78zwPP3/+XHs8TdOzDvDtdvvD91uv1wV4AACiooQe3ijP863B8+bm5oNb80e9Xt/4+KnaAwAAHI4AD2+Q53moVqsbe9/TNA1Zln1oe4qiCNfX1xvL+UPYHuwBAIB4KKGHPYxGozAYDML379+3Pufh4eHD2pPneej3++H79+9bZ59vtVpnWz4PAADsToDnrzQYDHaeZC7P88XY8m0hea7Var1p/Pu2nvOX2jMajcLz8/OLz61UKqHZbO7dno/UarVCq9U6dTMAAODsCfD8le7v7w++zVar9eaw3O/3Q7/fP2h7KpVKGA6HB90mcfjy5cupmwAAZ2U2m526CXAQxsDDOyVJErrd7ln1dDcajTAcDk+2lB0AAHB4euDhjZIkCTc3N6HRaJzNGPMsy0Kz2fzwSfQAAIDjE+BhD/MZ5q+urkKtVjt5D3eSJIv21Ov1k7eH86BMEADgcxLg+SvNy8uLoljcQggry8IlSbK4pWka0jQ9WkDudDohy7Kd2hPCn/Htx2wPAABwfgR4/krzQH4ukiR50+z1AADA38MkdgAAABABPfDASc3Xtf9oqh4AAIiNAA+cVL/fD+12+8P3W6/XQ6/X+/D9AgDAWymhBwAAgAgI8AAAABABAR4AAAAiYAw8cFL1ej1kWfbh+z2nZQQBAGAXAjxwUmmaCtMAALADJfQAAAAQAQEeAAAAIiDAAwAAQAQEeAAAAIiAAA8AAAAREOABAAAgAgI8AAAARECABwAAgAgI8AAAABABAR4AAAAi8GU2m81O3QgAAADgZXrgAQAAIAICPAAAAERAgAcAAIAICPAAAAAQAQEeAAAAIiDAAwAAQAQEeAAAAIiAAA8AAAAREOABAAAgAgI8AAAARECABwAAgAgI8AAAABABAR4AAAAiIMADAABABAR4AAAAiIAADwAAABEQ4AEAACACAjwAAABEQIAHAACACAjwAAAAEAEBHgAAACLwv1M3AAA2KYoijEajMB6PQ57noSiKUBTF4t/TNA1pmoZKpbL4L5yT8jmbJElIkuSELfoc8jxfuZ+m6Una8dGyLAsh/Hn/aZqG0Wh00vYAp/FlNpvNTt0IAJjr9/uh3++Hx8fHvV6XpmnIsizc3NwsfujCKbVardButxf3m81maLVap2vQmWu1WqHf7y/uj8fjjRc8sixb+fswmUz+ihD/5cuXxf+naRomk8lBtz8ej0OtVlvc73a7K/eB86CEHoCzMBqNwsXFRbi9vd07vIfwp1eq3++HarUaLi4u1nrpgPOV53lot9vh+fk5PD8/h9vbW9UKH6xSqYSLi4uVz2C5ggQ4DwI8ACc3D94vhe55yfz89pI8zwV4iEi1Wl38f5qmodlsnrA1f69er7f4/6IoVipIgPMgwANwUnmeh9vb27XHsywLnU4nTCaTMJvNwmQyWbnNZrPw9PQUHh4ews3NzUqon5fTA+ev3++vXHAT3k8nTdNwc3OzuN/tdl0MhTNjDDwAJ7Wp3L3b7Ya7u7u9tzUajUK/3w9fvnxZ6UmCUxgMBuHnz5+L+9++fTOmeIPlvwG7jO3udrvh169fi/udTuevKLc/9hj4uTzPw8XFxeJ+lmVhOBweZV/A/gR4AE5mNBqtlM6G8PbwDsSn3++vVOD0er1Qr9dP16Az9lEBPoQQarXaysWnv2WiQIiBEnoATqa8DFKapsI7/EXKY6wNfTkPjUZj5X632z1RS4AyAR6AkxmPxyv3v337dqKWAB9tNBqtDJ+p1+t6ec9ElmUrF1N+/PhhRno4E/87dQMA+HuVfxCeyzjWoihCURSLcJEkSUjT9GzatzzLfpIkoVKpRL2f5f3Nj30If5a1OtUxL7fl3M6BQ5mf56c45strvocQViZPO4VTfK9COPwxP9RnenV1taiSKooi9Pv9tZ554OMJ8ACcjVP28BRFEbrdbhiNRlvXoa9UKqFSqYSbm5utpb7Lj3e73ZUQMP8RPBgMQp7n4fn5Ofz3339hMBi8GhZGo1FotVrh169fG4/T1dVVqNfr7x4/fOj9jMfjlR/9g8FgJUzkeR663e7WHr758a7VakfvnR2NRmEwGLzY25imafj69Wuo1Wohy7IX29Tv91dC6rbjVhTFQSa3Kw9J2SbP80Xbnp+f1/69UqmEb9++Hb1HfPl7liTJzuXzjUZjpXqn3+9vbefyZ5AkSRgMBiv//hHfq+Xv/ba/LfOVM9460eH8ezQYDDZ+pvPtN5vNnT/Ter2+MsTh58+fAjycgxkAnMjNzc0shLC4ZVl2knY0m81ZkiQrbXnt1mg0Nm5r+TkPDw+Lx4fD4SxN043bGg6HW9s2mUxmV1dXO7crTdPZZDLZ+xg8PT3ttZ8sy3baz3A4XHnd09PTbDabzabT6ezu7u7o72sX+7Zl+dbr9bZut9lsrjy32WxufN5kMnnTvsu3XZTb9Noxf+n9vUf5vKjVaju/tnyevnReLL/fJEkWj+/7vapUKm86/zqdzt5/W9I03bitTc95y/do+e/Sa/7777+V10+n072PAXBYxsADcDLlXufRaBR+/PjxYfsviiJkWRba7fbevf+7PH/+nFarFarV6tb1lLeVt47H43B5ebm1126TPM9f3Ncm/X4/VKvVvfYzX0Fg3zWix+NxyPM8XF5ehu/fv+/8uvlrjrEmdbVa3asty449rOBQls/1XeV5Hm5vb0Or1Tp4e8o94R8x/8W8tLzf7+/9vRqPx+H6+nqv/dXr9XB/f7/335Zdz6n5d33f79H19fXO1RrlaoBdXwccjxJ6AE5mXqK5/AO3Xq+HyWRylNBQVq1W1ybSS9M01Ov1cHV1tSg1nf/wn5fA5nm+02z5RVGEVqu1Fprmpfgh/PlBvamkdf7jfPnYzGfpXy4nH4/HYTweh3a7vQi389c+PT29OvZ1PB6vLON1rP3MjUajlW0kSbIYkjA/JsvHe/mCTlEU4fb29qBrUrdarZVzIEmS0Gg0wrdv39aGP8yPwc+fP8NoNFr5HN8jSZLQ6/X2es33799X2v1aWXStVlsLrPPPeD5GuiiKMBqNwvfv31eCWrvdDhcXFwcdo17+3n3UhZB+v7/yfZx/3l+/fl05/8rn+rzNrVZrp79NjUZj7WLkfF+v/W3Z9WLG8gW0Td+jEP7fcIlyW25vb3dahm7TRdZDDPcA3uHUJQAA/N06nc7WUs96vT4bDodHKdvcVHa6rSy+7KWy4uXt1Wq1te3v8l4mk8lauX29Xn/xtZPJZFapVPZ6P5v281obt71mm3Kp9L7Ho9Vqrb3upSEH+5hOp2vbnpf4v2YymbxaUr1rCf2+NpXcv3RMyu1I0/TV91k+7kmSHPR7WN72Pt5aQl++dbvdV/fVaDT2buumfe763d/1b8vybZfhLJu+h7uU0pfPtUql8uprgOMS4AE4uU0hrXy7urqa3d3dzR4eHt4dJDYFoFardZD3sq39/X5/522ULy7sOj54Mpmsjbd96Yd9eQ6C9+xn22eyLcDvc7yzLDtKEH54eFi7SHJIxwrw+1xA2XSu7zqWuxxeD9X+p6entQC6j0ME+F2/j9PpdO1cf23Oio/827LP3AHlY7Hra5ff/74XW4DDMwYegJNrNpuvlqU+Pj6G79+/h+vr6/Dvv/+Gy8vLcHt7uzaWdhflGaXr9XpoNpt7b2dXrVZr5/LjPM/XxrR2Op2dXjsvfV9WXqpreT/LZbVpmr5rP91ud6fXhvCnLHef410+dr9+/dr5tS8pj02+uro6yHaPqdVqrZR1p2n64rEsf69ardbOs5A3m82VoRHfv38/yEoR5XkMPnppvn2+j/PS9GXl8v/ytpe99vm8R5qmew29KP/d23U8+/L5sry8JnAaAjwAZ6HZbIbJZBJubv13jrkAAA3ASURBVG52Chjj8Tj0+/1wfX0dLi4uwu3t7U4/LPM8XxsLfMzwvu8P+PKP6n2X8iov87RtUsDyhY/XlkR7bT8/f/7c+bW7XiiYKy8v9lKAeo9jbfdQ8jxfm0+h1+ttDcBFUax8/pvC6EuSJFkZjz0fG/5e5e/p169f373NXSVJstP8FcvK48BfuoBU/h7sO7fBPsoXWF6TpunK84ui2OmCzH///bdy/9y/J/DZCfAAnI00TUO/3w+TySQMh8Nwd3e309rQ84maqtXqqz3B5eB67PXF9704UO4x33fisCRJ1iax2vQjvXwc3rKf5R/24/F4pzCwz3rfc+XP51A9gOVg9uPHj7PuXaxWqyv3G43Gi8eyfDFo34s089e8tM23OGUPfJZle++vfMy2neeDwWDl3yqVyt7n+j7eMvHfru9lWfl4HaIKA3g7AR6As5RlWeh2u2E4HIbpdLpToM/zPNzf379Yjl8OIMdevmrfH/Dl6oC3BIByj9mmUHqI/ZQDxC7h960XS8rv6RDKs8gXRRGq1erWYQentG/pfAjr5/pbhgiUP6/n5+e9t1FWDoAfGeDfch7tGnoPcbz38ZYA/88//6zc3yWMvyX0A8djGTkAzt6813YeMufLXQ0Gg/Dz58+1H5TtdnuxZFNZOYAcc/mqJEn2CqyblrQ7RI/weDxeeZ/H2k+e568ez48e7/yaTqez0rM9X/u83W6HLMsWS3Od0qbS+eFwuNMSgcuSJNn7cy5/tw5xnpS3ecwKmLJjnn/l433q82YXbwnjAjyclgAPQHSSJAm1Wi3UarXFpG/l0vl2ux3q9fraD/ZN4fWY7dzHprB0cXFxyCYddT8x/rDPsix0Op1wf3+/8vh8WEa/3w9pmoZv376Fer3+YeuVLyuXzu86Ed3v379X7t/e3h6yWW8W43myi/LxPubflo+86AGcFyX0AERtPnt6uWy+KIqdZqg/px7hjwo2xxrnfU7Hch+NRiNMJpOtwynmF4kuLy/D5eXlh5bYv6V0fm46nR6pVWxSPt6xfh+A86YHHoBPodlshn6/vxJ2Hh8f15ZOOmebxgYfIgS8to2P2s85S9M0DAaDkOd5aLVa4fHxceOFjvF4HG5vb8Pj42NoNptH7QndVjr/Vodo6yE+4zRNV+Zg+Kw98gDHIMAD8Gl8+/ZtZQ31c55RfJNyOKpUKu8KbLvKsiw8PDwcfT8xmK+EEMKfScn6/f7GeRb6/X4YjUZhOBweLcS/tXR+m2O29T0E+PN2ykkHgXVK6AH4NHaZFb384/OcQv5HzfZ8rGXZPpssyxbLGvZ6vY3H7Vjjyt9TOj/377//rtw/l6D8WZclKx/vz7JeugAP50WAB+DT2vRDsxzCzulH9kcFawF+P0mShHq9HiaTydpcC6PR6ODH71Cl81+/fl25fy7n+mc9/8rH+7O8r/L7OMcqDvibCPAAfBq79BSV12Yur918SkmSrKxTPV8u79DSNF05Nsfaz2fUbDbDzc3NymOHPnaHKp0vV6Qsjzs/pWOsLX8Oysf758+fJ2rJYf369Wvl/ilWYgD+HwEegE+jHKTKPWIhhFCr1Vbu//jx45hN2lu5fbvMpP8W5RnXBfjdlT+jQ/a0HqJ0fq4ctAaDwVmUq5fbdS6VAe9VPi/G4/FZHO/3KIpi5T0casJL4O0EeAA+hTzP13q8NvUUZVm21vtcXkP+lDZdYDhGKW55dv7v379/mpLfYztWgDn0rPNZlq18B87lXC9XgOR5Hn3QDeHP+8qybHH/XI73e5Qvruh9h9MT4AE4qfls3u9VHpscQlj5Mb3s7u5u5X673T6b8Jpl2VoIOMZEaVmWrZQyH2s/n1H5XDlUqDn0rPMhbD7Xz6HH+5yHsrxHuVqi3W5H/d7KbS9/bsDHE+ABOJl5aKxWq+Hy8nJtHfddt9FoNNZK4RuNxtbwU/63oihCtVrded/lstJDK4eA0Wi0V/vmr8my7MXX9Hq9tddcX18ffD/nrNvt7tX2oijWeskPEeAPWTq/rF6vr7WvWq3uNTSjKIrQarU2XiR7q/LFtZhD7rLyBbgQQri+vt75oklRFGf1XSp/LtsuigIfR4AH4GSWQ8R4PA63t7fh4uIiXF5ehtvb29DtdsNoNArj8Xjxo3b+A3cwGIRWqxUuLi5W1n4P4fXwkyRJeHh4WCvjvbi4CLe3txt/QM8neqvVauHi4uJoY9ND+PMjedNs59VqNfT7/Y1hoCiKMBgMQqPRCP/++2+oVqvh8fHxxeCQZVloNBorjw0Gg8V+th2Hffdzztrtdri4uFgsGfdSeBqNRuHy8nLlOfV6/d295JtK53u9XsjzfK/btotK5XO9KIpwfX0dbm9vNwbnoijCeDwO3W43ZFkW/v3339Butw86CV55qMhnmfAthLC25GBRFIu/adu+u6PRKDQajXBxcXE2ZfdFUax85uUhAsBp/O/UDQDg77UtBI/H4zcHwjRNw3A4fHWccqVSCZ1OJ9zf368En36/H/r9fkiSJHz9+jX8/v07TKfTtZmyjx1Y5xcgloP88rrjSZKEf/75J4QQwu/fv7eGt/lFh206nU4IIayEhrfs55x6DXe1XEnx+Pi4CCvzz37u9+/fGwPyoXrJ+/3+2mPlcvpd9Hq9tbkNQvh/34lqtbrxXA8hrKx+sG1W+EOe8/MwOL+AML8I8RmWKEvTNDw8PKxVsyz/bZm/z01/W85lVn6973Ce9MADcDKDwSD0er2D/TCs1+vh6elp5xDw0vPnvU/j8XjjD+rfv3+/s7WvazabW8uWi6IIz8/P4fn5eWuozrJsY6Ar63Q6795PjD/ui6J48bOf3zbNJj4PxbEEzkql8uJ3Y/4ZbwuPSZKsVWu8V3klhE0XMmJVqVS2nh/zCodtf1vO5WJY+QJreflE4DQEeABOql6vh+FwGCaTSeh0OmuzxL8mSZJwd3cXhsNh6PV6e88QnqZpmEwmodfr7TSWuVKphFartTZ+/FiazWaYTCbh5uZmp7C4fDyGw+HO47M/aj/nZPmz3/UCRJIkodVq7XWh6Fzse66H8OfiTKfTCZPJ5CDVBsvq9frK9/XclnR8r33Pr/m59Z6VBw4lz/OVz0P5PJyPL7PZbHbqRgBA2bzXc15aW5amaahUKgcPjnmebyzhn/+APXVoG41Ga8dkvjbzIdv3Ufs5N5vedwjHO99O6aVzff5+j73md6PRWJnDYjgcftqgOD/e5eEY53hu9fv9lVUptg3PAD6eAA8AwEmMx+NweXm5uJ9l2Vn0QP/tLi4uFhex5pUEwHlQQg8AwElUKpWVsdXzCghOp7waw6GHTgDvowceAICTyfM8XF5eLsrK6/X6h80xwTq973De9MADAHAyaZqGu7u7xf1+v79xfXqOT+87nD898AAAnFRRFOHy8nIRHo2F/3h5nodqtbr4DFRCwHn636kbAADA3y1JkjAcDld63ouiOPos+Pw/RVGs9Lh/1tUAIHZ64AEAACACxsADAABABAR4AAAAiIAADwAAABEQ4AEAACACAjwAAABEQIAHAACACAjwAAAAEAEBHgAAACIgwAMAAEAEBHgAAACIgAAPAAAAERDgAQAAIAICPAAAAERAgAcAAIAICPAAAAAQAQEeAAAAIiDAAwAAQAQEeAAAAIiAAA8AAAAREOABAAAgAgI8AAAARECABwAAgAgI8AAAABABAR4AAAAiIMADAABABAR4AAAAiIAADwAAABEQ4AEAACACAjwAAABEQIAHAACACAjwAAAAEAEBHgAAACIgwAMAAEAEBHgAAACIgAAPAAAAERDgAQAAIAICPAAAAERAgAcAAIAICPAAAAAQAQEeAAAAIiDAAwAAQAQEeAAAAIiAAA8AAAAREOABAAAgAgI8AAAARECABwAAgAgI8AAAABABAR4AAAAiIMADAABABAR4AAAAiIAADwAAABEQ4AEAACACAjwAAABEQIAHAACACAjwAAAAEAEBHgAAACIgwAMAAEAEBHgAAACIgAAPAAAAERDgAQAAIAICPAAAAERAgAcAAIAICPAAAAAQAQEeAAAAIiDAAwAAQAQEeAAAAIiAAA8AAAAREOABAAAgAgI8AAAARECABwAAgAgI8AAAABABAR4AAAAiIMADAABABAR4AAAAiIAADwAAABEQ4AEAACACAjwAAABEQIAHAACACAjwAAAAEAEBHgAAACIgwAMAAEAEBHgAAACIgAAPAAAAERDgAQAAIAICPAAAAERAgAcAAIAICPAAAAAQAQEeAAAAIiDAAwAAQAQEeAAAAIiAAA8AAAAREOABAAAgAgI8AAAARECABwAAgAgI8AAAABABAR4AAAAiIMADAABABAR4AAAAiIAADwAAABEQ4AEAACACAjwAAABEQIAHAACACAjwAAAAEAEBHgAAACIgwAMAAEAEBHgAAACIgAAPAAAAERDgAQAAIAICPAAAAERAgAcAAIAICPAAAAAQAQEeAAAAIiDAAwAAQAQEeAAAAIiAAA8AAAAREOABAAAgAgI8AAAARECABwAAgAgI8AAAABABAR4AAAAiIMADAABABAR4AAAAiIAADwAAABEQ4AEAACACAjwAAABEQIAHAACACAjwAAAAEAEBHgAAACIgwAMAAEAEBHgAAACIgAAPAAAAERDgAQAAIAICPAAAAERAgAcAAIAICPAAAAAQAQEeAAAAIvD/AxjWcO7vPZkIAAAAAElFTkSuQmCC)"
      ],
      "metadata": {
        "id": "o04YllAt5zp1"
      }
    },
    {
      "cell_type": "code",
      "execution_count": null,
      "metadata": {
        "colab": {
          "base_uri": "https://localhost:8080/",
          "height": 310
        },
        "id": "Q16PW89qLeaM",
        "outputId": "b36de2b3-8190-48ad-8078-15bcb45d58ef"
      },
      "outputs": [
        {
          "data": {
            "text/html": [
              "<div>\n",
              "<style scoped>\n",
              "    .dataframe tbody tr th:only-of-type {\n",
              "        vertical-align: middle;\n",
              "    }\n",
              "\n",
              "    .dataframe tbody tr th {\n",
              "        vertical-align: top;\n",
              "    }\n",
              "\n",
              "    .dataframe thead th {\n",
              "        text-align: right;\n",
              "    }\n",
              "</style>\n",
              "<table border=\"1\" class=\"dataframe\">\n",
              "  <thead>\n",
              "    <tr style=\"text-align: right;\">\n",
              "      <th></th>\n",
              "      <th>Company</th>\n",
              "      <th>TypeName</th>\n",
              "      <th>Inches</th>\n",
              "      <th>ScreenResolution</th>\n",
              "      <th>Cpu</th>\n",
              "      <th>Ram</th>\n",
              "      <th>Memory</th>\n",
              "      <th>Gpu</th>\n",
              "      <th>OpSys</th>\n",
              "      <th>Weight</th>\n",
              "      <th>Price</th>\n",
              "      <th>Touchscreen</th>\n",
              "      <th>IPS</th>\n",
              "      <th>X_res</th>\n",
              "      <th>Y_res</th>\n",
              "      <th>Ppi</th>\n",
              "    </tr>\n",
              "  </thead>\n",
              "  <tbody>\n",
              "    <tr>\n",
              "      <th>0</th>\n",
              "      <td>Apple</td>\n",
              "      <td>Ultrabook</td>\n",
              "      <td>13.3</td>\n",
              "      <td>IPS Panel Retina Display 2560x1600</td>\n",
              "      <td>Intel Core i5 2.3GHz</td>\n",
              "      <td>8</td>\n",
              "      <td>128GB SSD</td>\n",
              "      <td>Intel Iris Plus Graphics 640</td>\n",
              "      <td>macOS</td>\n",
              "      <td>1.37</td>\n",
              "      <td>71378.6832</td>\n",
              "      <td>0</td>\n",
              "      <td>1</td>\n",
              "      <td>2560</td>\n",
              "      <td>1600</td>\n",
              "      <td>226.983005</td>\n",
              "    </tr>\n",
              "    <tr>\n",
              "      <th>1</th>\n",
              "      <td>Apple</td>\n",
              "      <td>Ultrabook</td>\n",
              "      <td>13.3</td>\n",
              "      <td>1440x900</td>\n",
              "      <td>Intel Core i5 1.8GHz</td>\n",
              "      <td>8</td>\n",
              "      <td>128GB Flash Storage</td>\n",
              "      <td>Intel HD Graphics 6000</td>\n",
              "      <td>macOS</td>\n",
              "      <td>1.34</td>\n",
              "      <td>47895.5232</td>\n",
              "      <td>0</td>\n",
              "      <td>0</td>\n",
              "      <td>1440</td>\n",
              "      <td>900</td>\n",
              "      <td>127.677940</td>\n",
              "    </tr>\n",
              "    <tr>\n",
              "      <th>2</th>\n",
              "      <td>HP</td>\n",
              "      <td>Notebook</td>\n",
              "      <td>15.6</td>\n",
              "      <td>Full HD 1920x1080</td>\n",
              "      <td>Intel Core i5 7200U 2.5GHz</td>\n",
              "      <td>8</td>\n",
              "      <td>256GB SSD</td>\n",
              "      <td>Intel HD Graphics 620</td>\n",
              "      <td>No OS</td>\n",
              "      <td>1.86</td>\n",
              "      <td>30636.0000</td>\n",
              "      <td>0</td>\n",
              "      <td>0</td>\n",
              "      <td>1920</td>\n",
              "      <td>1080</td>\n",
              "      <td>141.211998</td>\n",
              "    </tr>\n",
              "    <tr>\n",
              "      <th>3</th>\n",
              "      <td>Apple</td>\n",
              "      <td>Ultrabook</td>\n",
              "      <td>15.4</td>\n",
              "      <td>IPS Panel Retina Display 2880x1800</td>\n",
              "      <td>Intel Core i7 2.7GHz</td>\n",
              "      <td>16</td>\n",
              "      <td>512GB SSD</td>\n",
              "      <td>AMD Radeon Pro 455</td>\n",
              "      <td>macOS</td>\n",
              "      <td>1.83</td>\n",
              "      <td>135195.3360</td>\n",
              "      <td>0</td>\n",
              "      <td>1</td>\n",
              "      <td>2880</td>\n",
              "      <td>1800</td>\n",
              "      <td>220.534624</td>\n",
              "    </tr>\n",
              "    <tr>\n",
              "      <th>4</th>\n",
              "      <td>Apple</td>\n",
              "      <td>Ultrabook</td>\n",
              "      <td>13.3</td>\n",
              "      <td>IPS Panel Retina Display 2560x1600</td>\n",
              "      <td>Intel Core i5 3.1GHz</td>\n",
              "      <td>8</td>\n",
              "      <td>256GB SSD</td>\n",
              "      <td>Intel Iris Plus Graphics 650</td>\n",
              "      <td>macOS</td>\n",
              "      <td>1.37</td>\n",
              "      <td>96095.8080</td>\n",
              "      <td>0</td>\n",
              "      <td>1</td>\n",
              "      <td>2560</td>\n",
              "      <td>1600</td>\n",
              "      <td>226.983005</td>\n",
              "    </tr>\n",
              "  </tbody>\n",
              "</table>\n",
              "</div>"
            ],
            "text/plain": [
              "  Company   TypeName  Inches                    ScreenResolution  \\\n",
              "0   Apple  Ultrabook    13.3  IPS Panel Retina Display 2560x1600   \n",
              "1   Apple  Ultrabook    13.3                            1440x900   \n",
              "2      HP   Notebook    15.6                   Full HD 1920x1080   \n",
              "3   Apple  Ultrabook    15.4  IPS Panel Retina Display 2880x1800   \n",
              "4   Apple  Ultrabook    13.3  IPS Panel Retina Display 2560x1600   \n",
              "\n",
              "                          Cpu  Ram               Memory  \\\n",
              "0        Intel Core i5 2.3GHz    8            128GB SSD   \n",
              "1        Intel Core i5 1.8GHz    8  128GB Flash Storage   \n",
              "2  Intel Core i5 7200U 2.5GHz    8            256GB SSD   \n",
              "3        Intel Core i7 2.7GHz   16            512GB SSD   \n",
              "4        Intel Core i5 3.1GHz    8            256GB SSD   \n",
              "\n",
              "                            Gpu  OpSys  Weight        Price  Touchscreen  IPS  \\\n",
              "0  Intel Iris Plus Graphics 640  macOS    1.37   71378.6832            0    1   \n",
              "1        Intel HD Graphics 6000  macOS    1.34   47895.5232            0    0   \n",
              "2         Intel HD Graphics 620  No OS    1.86   30636.0000            0    0   \n",
              "3            AMD Radeon Pro 455  macOS    1.83  135195.3360            0    1   \n",
              "4  Intel Iris Plus Graphics 650  macOS    1.37   96095.8080            0    1   \n",
              "\n",
              "   X_res  Y_res         Ppi  \n",
              "0   2560   1600  226.983005  \n",
              "1   1440    900  127.677940  \n",
              "2   1920   1080  141.211998  \n",
              "3   2880   1800  220.534624  \n",
              "4   2560   1600  226.983005  "
            ]
          },
          "execution_count": 29,
          "metadata": {},
          "output_type": "execute_result"
        }
      ],
      "source": [
        "#This help us to reduce the features of our model\n",
        "df['Ppi']=(((df['X_res']**2)+ (df['Y_res']**2))**0.5/df['Inches']).astype('float')\n",
        "df.head()"
      ]
    },
    {
      "cell_type": "code",
      "execution_count": null,
      "metadata": {
        "colab": {
          "base_uri": "https://localhost:8080/",
          "height": 859
        },
        "id": "6lIyS2FBKJR5",
        "outputId": "fa582510-2b72-45f1-bf72-06380e13bd0e"
      },
      "outputs": [
        {
          "data": {
            "text/plain": [
              "<Axes: >"
            ]
          },
          "execution_count": 30,
          "metadata": {},
          "output_type": "execute_result"
        },
        {
          "data": {
            "image/png": "[encoded data removed]",
            "text/plain": [
              "<Figure size 2000x1000 with 2 Axes>"
            ]
          },
          "metadata": {},
          "output_type": "display_data"
        }
      ],
      "source": [
        "numeric_df=df.select_dtypes(include=['number'])\n",
        "plt.figure(figsize=(20,10))\n",
        "sns.heatmap(numeric_df.corr(),annot=True,cmap='coolwarm')\n",
        "# Xand Y res is positively correleted by the price"
      ]
    },
    {
      "cell_type": "code",
      "execution_count": null,
      "metadata": {
        "colab": {
          "base_uri": "https://localhost:8080/",
          "height": 580
        },
        "id": "qXUbbsGDLlGL",
        "outputId": "3b942ca1-8213-4dbe-8bd9-222676088d31"
      },
      "outputs": [
        {
          "data": {
            "text/html": [
              "<div>\n",
              "<style scoped>\n",
              "    .dataframe tbody tr th:only-of-type {\n",
              "        vertical-align: middle;\n",
              "    }\n",
              "\n",
              "    .dataframe tbody tr th {\n",
              "        vertical-align: top;\n",
              "    }\n",
              "\n",
              "    .dataframe thead th {\n",
              "        text-align: right;\n",
              "    }\n",
              "</style>\n",
              "<table border=\"1\" class=\"dataframe\">\n",
              "  <thead>\n",
              "    <tr style=\"text-align: right;\">\n",
              "      <th></th>\n",
              "      <th>Company</th>\n",
              "      <th>TypeName</th>\n",
              "      <th>Inches</th>\n",
              "      <th>Cpu</th>\n",
              "      <th>Ram</th>\n",
              "      <th>Memory</th>\n",
              "      <th>Gpu</th>\n",
              "      <th>OpSys</th>\n",
              "      <th>Weight</th>\n",
              "      <th>Price</th>\n",
              "      <th>Touchscreen</th>\n",
              "      <th>IPS</th>\n",
              "      <th>Ppi</th>\n",
              "    </tr>\n",
              "  </thead>\n",
              "  <tbody>\n",
              "    <tr>\n",
              "      <th>0</th>\n",
              "      <td>Apple</td>\n",
              "      <td>Ultrabook</td>\n",
              "      <td>13.3</td>\n",
              "      <td>Intel Core i5 2.3GHz</td>\n",
              "      <td>8</td>\n",
              "      <td>128GB SSD</td>\n",
              "      <td>Intel Iris Plus Graphics 640</td>\n",
              "      <td>macOS</td>\n",
              "      <td>1.37</td>\n",
              "      <td>71378.6832</td>\n",
              "      <td>0</td>\n",
              "      <td>1</td>\n",
              "      <td>226.983005</td>\n",
              "    </tr>\n",
              "    <tr>\n",
              "      <th>1</th>\n",
              "      <td>Apple</td>\n",
              "      <td>Ultrabook</td>\n",
              "      <td>13.3</td>\n",
              "      <td>Intel Core i5 1.8GHz</td>\n",
              "      <td>8</td>\n",
              "      <td>128GB Flash Storage</td>\n",
              "      <td>Intel HD Graphics 6000</td>\n",
              "      <td>macOS</td>\n",
              "      <td>1.34</td>\n",
              "      <td>47895.5232</td>\n",
              "      <td>0</td>\n",
              "      <td>0</td>\n",
              "      <td>127.677940</td>\n",
              "    </tr>\n",
              "    <tr>\n",
              "      <th>2</th>\n",
              "      <td>HP</td>\n",
              "      <td>Notebook</td>\n",
              "      <td>15.6</td>\n",
              "      <td>Intel Core i5 7200U 2.5GHz</td>\n",
              "      <td>8</td>\n",
              "      <td>256GB SSD</td>\n",
              "      <td>Intel HD Graphics 620</td>\n",
              "      <td>No OS</td>\n",
              "      <td>1.86</td>\n",
              "      <td>30636.0000</td>\n",
              "      <td>0</td>\n",
              "      <td>0</td>\n",
              "      <td>141.211998</td>\n",
              "    </tr>\n",
              "    <tr>\n",
              "      <th>3</th>\n",
              "      <td>Apple</td>\n",
              "      <td>Ultrabook</td>\n",
              "      <td>15.4</td>\n",
              "      <td>Intel Core i7 2.7GHz</td>\n",
              "      <td>16</td>\n",
              "      <td>512GB SSD</td>\n",
              "      <td>AMD Radeon Pro 455</td>\n",
              "      <td>macOS</td>\n",
              "      <td>1.83</td>\n",
              "      <td>135195.3360</td>\n",
              "      <td>0</td>\n",
              "      <td>1</td>\n",
              "      <td>220.534624</td>\n",
              "    </tr>\n",
              "    <tr>\n",
              "      <th>4</th>\n",
              "      <td>Apple</td>\n",
              "      <td>Ultrabook</td>\n",
              "      <td>13.3</td>\n",
              "      <td>Intel Core i5 3.1GHz</td>\n",
              "      <td>8</td>\n",
              "      <td>256GB SSD</td>\n",
              "      <td>Intel Iris Plus Graphics 650</td>\n",
              "      <td>macOS</td>\n",
              "      <td>1.37</td>\n",
              "      <td>96095.8080</td>\n",
              "      <td>0</td>\n",
              "      <td>1</td>\n",
              "      <td>226.983005</td>\n",
              "    </tr>\n",
              "    <tr>\n",
              "      <th>...</th>\n",
              "      <td>...</td>\n",
              "      <td>...</td>\n",
              "      <td>...</td>\n",
              "      <td>...</td>\n",
              "      <td>...</td>\n",
              "      <td>...</td>\n",
              "      <td>...</td>\n",
              "      <td>...</td>\n",
              "      <td>...</td>\n",
              "      <td>...</td>\n",
              "      <td>...</td>\n",
              "      <td>...</td>\n",
              "      <td>...</td>\n",
              "    </tr>\n",
              "    <tr>\n",
              "      <th>1298</th>\n",
              "      <td>Lenovo</td>\n",
              "      <td>2 in 1 Convertible</td>\n",
              "      <td>14.0</td>\n",
              "      <td>Intel Core i7 6500U 2.5GHz</td>\n",
              "      <td>4</td>\n",
              "      <td>128GB SSD</td>\n",
              "      <td>Intel HD Graphics 520</td>\n",
              "      <td>Windows 10</td>\n",
              "      <td>1.80</td>\n",
              "      <td>33992.6400</td>\n",
              "      <td>1</td>\n",
              "      <td>1</td>\n",
              "      <td>157.350512</td>\n",
              "    </tr>\n",
              "    <tr>\n",
              "      <th>1299</th>\n",
              "      <td>Lenovo</td>\n",
              "      <td>2 in 1 Convertible</td>\n",
              "      <td>13.3</td>\n",
              "      <td>Intel Core i7 6500U 2.5GHz</td>\n",
              "      <td>16</td>\n",
              "      <td>512GB SSD</td>\n",
              "      <td>Intel HD Graphics 520</td>\n",
              "      <td>Windows 10</td>\n",
              "      <td>1.30</td>\n",
              "      <td>79866.7200</td>\n",
              "      <td>1</td>\n",
              "      <td>1</td>\n",
              "      <td>276.053530</td>\n",
              "    </tr>\n",
              "    <tr>\n",
              "      <th>1300</th>\n",
              "      <td>Lenovo</td>\n",
              "      <td>Notebook</td>\n",
              "      <td>14.0</td>\n",
              "      <td>Intel Celeron Dual Core N3050 1.6GHz</td>\n",
              "      <td>2</td>\n",
              "      <td>64GB Flash Storage</td>\n",
              "      <td>Intel HD Graphics</td>\n",
              "      <td>Windows 10</td>\n",
              "      <td>1.50</td>\n",
              "      <td>12201.1200</td>\n",
              "      <td>0</td>\n",
              "      <td>0</td>\n",
              "      <td>111.935204</td>\n",
              "    </tr>\n",
              "    <tr>\n",
              "      <th>1301</th>\n",
              "      <td>HP</td>\n",
              "      <td>Notebook</td>\n",
              "      <td>15.6</td>\n",
              "      <td>Intel Core i7 6500U 2.5GHz</td>\n",
              "      <td>6</td>\n",
              "      <td>1TB HDD</td>\n",
              "      <td>AMD Radeon R5 M330</td>\n",
              "      <td>Windows 10</td>\n",
              "      <td>2.19</td>\n",
              "      <td>40705.9200</td>\n",
              "      <td>0</td>\n",
              "      <td>0</td>\n",
              "      <td>100.454670</td>\n",
              "    </tr>\n",
              "    <tr>\n",
              "      <th>1302</th>\n",
              "      <td>Asus</td>\n",
              "      <td>Notebook</td>\n",
              "      <td>15.6</td>\n",
              "      <td>Intel Celeron Dual Core N3050 1.6GHz</td>\n",
              "      <td>4</td>\n",
              "      <td>500GB HDD</td>\n",
              "      <td>Intel HD Graphics</td>\n",
              "      <td>Windows 10</td>\n",
              "      <td>2.20</td>\n",
              "      <td>19660.3200</td>\n",
              "      <td>0</td>\n",
              "      <td>0</td>\n",
              "      <td>100.454670</td>\n",
              "    </tr>\n",
              "  </tbody>\n",
              "</table>\n",
              "<p>1273 rows × 13 columns</p>\n",
              "</div>"
            ],
            "text/plain": [
              "     Company            TypeName  Inches  \\\n",
              "0      Apple           Ultrabook    13.3   \n",
              "1      Apple           Ultrabook    13.3   \n",
              "2         HP            Notebook    15.6   \n",
              "3      Apple           Ultrabook    15.4   \n",
              "4      Apple           Ultrabook    13.3   \n",
              "...      ...                 ...     ...   \n",
              "1298  Lenovo  2 in 1 Convertible    14.0   \n",
              "1299  Lenovo  2 in 1 Convertible    13.3   \n",
              "1300  Lenovo            Notebook    14.0   \n",
              "1301      HP            Notebook    15.6   \n",
              "1302    Asus            Notebook    15.6   \n",
              "\n",
              "                                       Cpu  Ram               Memory  \\\n",
              "0                     Intel Core i5 2.3GHz    8            128GB SSD   \n",
              "1                     Intel Core i5 1.8GHz    8  128GB Flash Storage   \n",
              "2               Intel Core i5 7200U 2.5GHz    8            256GB SSD   \n",
              "3                     Intel Core i7 2.7GHz   16            512GB SSD   \n",
              "4                     Intel Core i5 3.1GHz    8            256GB SSD   \n",
              "...                                    ...  ...                  ...   \n",
              "1298            Intel Core i7 6500U 2.5GHz    4            128GB SSD   \n",
              "1299            Intel Core i7 6500U 2.5GHz   16            512GB SSD   \n",
              "1300  Intel Celeron Dual Core N3050 1.6GHz    2   64GB Flash Storage   \n",
              "1301            Intel Core i7 6500U 2.5GHz    6              1TB HDD   \n",
              "1302  Intel Celeron Dual Core N3050 1.6GHz    4            500GB HDD   \n",
              "\n",
              "                               Gpu       OpSys  Weight        Price  \\\n",
              "0     Intel Iris Plus Graphics 640       macOS    1.37   71378.6832   \n",
              "1           Intel HD Graphics 6000       macOS    1.34   47895.5232   \n",
              "2            Intel HD Graphics 620       No OS    1.86   30636.0000   \n",
              "3               AMD Radeon Pro 455       macOS    1.83  135195.3360   \n",
              "4     Intel Iris Plus Graphics 650       macOS    1.37   96095.8080   \n",
              "...                            ...         ...     ...          ...   \n",
              "1298         Intel HD Graphics 520  Windows 10    1.80   33992.6400   \n",
              "1299         Intel HD Graphics 520  Windows 10    1.30   79866.7200   \n",
              "1300             Intel HD Graphics  Windows 10    1.50   12201.1200   \n",
              "1301            AMD Radeon R5 M330  Windows 10    2.19   40705.9200   \n",
              "1302             Intel HD Graphics  Windows 10    2.20   19660.3200   \n",
              "\n",
              "      Touchscreen  IPS         Ppi  \n",
              "0               0    1  226.983005  \n",
              "1               0    0  127.677940  \n",
              "2               0    0  141.211998  \n",
              "3               0    1  220.534624  \n",
              "4               0    1  226.983005  \n",
              "...           ...  ...         ...  \n",
              "1298            1    1  157.350512  \n",
              "1299            1    1  276.053530  \n",
              "1300            0    0  111.935204  \n",
              "1301            0    0  100.454670  \n",
              "1302            0    0  100.454670  \n",
              "\n",
              "[1273 rows x 13 columns]"
            ]
          },
          "execution_count": 31,
          "metadata": {},
          "output_type": "execute_result"
        }
      ],
      "source": [
        "#Drop ScreenResolution','X_res','Y_res becouse now we have PPI\n",
        "df=df.drop(columns=['ScreenResolution','X_res','Y_res'])\n",
        "df"
      ]
    },
    {
      "cell_type": "markdown",
      "source": [
        "##CPU Analysis"
      ],
      "metadata": {
        "id": "aoH_7MIv7wMM"
      }
    },
    {
      "cell_type": "code",
      "execution_count": null,
      "metadata": {
        "colab": {
          "base_uri": "https://localhost:8080/",
          "height": 310
        },
        "id": "AQw3xVwmMP2C",
        "outputId": "7ec275a7-eed0-440f-9cd4-2b07bf46f5d1"
      },
      "outputs": [
        {
          "data": {
            "text/html": [
              "<div>\n",
              "<style scoped>\n",
              "    .dataframe tbody tr th:only-of-type {\n",
              "        vertical-align: middle;\n",
              "    }\n",
              "\n",
              "    .dataframe tbody tr th {\n",
              "        vertical-align: top;\n",
              "    }\n",
              "\n",
              "    .dataframe thead th {\n",
              "        text-align: right;\n",
              "    }\n",
              "</style>\n",
              "<table border=\"1\" class=\"dataframe\">\n",
              "  <thead>\n",
              "    <tr style=\"text-align: right;\">\n",
              "      <th></th>\n",
              "      <th>Company</th>\n",
              "      <th>TypeName</th>\n",
              "      <th>Inches</th>\n",
              "      <th>Cpu</th>\n",
              "      <th>Ram</th>\n",
              "      <th>Memory</th>\n",
              "      <th>Gpu</th>\n",
              "      <th>OpSys</th>\n",
              "      <th>Weight</th>\n",
              "      <th>Price</th>\n",
              "      <th>Touchscreen</th>\n",
              "      <th>IPS</th>\n",
              "      <th>Ppi</th>\n",
              "      <th>Cpu_Name</th>\n",
              "    </tr>\n",
              "  </thead>\n",
              "  <tbody>\n",
              "    <tr>\n",
              "      <th>0</th>\n",
              "      <td>Apple</td>\n",
              "      <td>Ultrabook</td>\n",
              "      <td>13.3</td>\n",
              "      <td>Intel Core i5 2.3GHz</td>\n",
              "      <td>8</td>\n",
              "      <td>128GB SSD</td>\n",
              "      <td>Intel Iris Plus Graphics 640</td>\n",
              "      <td>macOS</td>\n",
              "      <td>1.37</td>\n",
              "      <td>71378.6832</td>\n",
              "      <td>0</td>\n",
              "      <td>1</td>\n",
              "      <td>226.983005</td>\n",
              "      <td>Intel Core i5</td>\n",
              "    </tr>\n",
              "    <tr>\n",
              "      <th>1</th>\n",
              "      <td>Apple</td>\n",
              "      <td>Ultrabook</td>\n",
              "      <td>13.3</td>\n",
              "      <td>Intel Core i5 1.8GHz</td>\n",
              "      <td>8</td>\n",
              "      <td>128GB Flash Storage</td>\n",
              "      <td>Intel HD Graphics 6000</td>\n",
              "      <td>macOS</td>\n",
              "      <td>1.34</td>\n",
              "      <td>47895.5232</td>\n",
              "      <td>0</td>\n",
              "      <td>0</td>\n",
              "      <td>127.677940</td>\n",
              "      <td>Intel Core i5</td>\n",
              "    </tr>\n",
              "    <tr>\n",
              "      <th>2</th>\n",
              "      <td>HP</td>\n",
              "      <td>Notebook</td>\n",
              "      <td>15.6</td>\n",
              "      <td>Intel Core i5 7200U 2.5GHz</td>\n",
              "      <td>8</td>\n",
              "      <td>256GB SSD</td>\n",
              "      <td>Intel HD Graphics 620</td>\n",
              "      <td>No OS</td>\n",
              "      <td>1.86</td>\n",
              "      <td>30636.0000</td>\n",
              "      <td>0</td>\n",
              "      <td>0</td>\n",
              "      <td>141.211998</td>\n",
              "      <td>Intel Core i5</td>\n",
              "    </tr>\n",
              "    <tr>\n",
              "      <th>3</th>\n",
              "      <td>Apple</td>\n",
              "      <td>Ultrabook</td>\n",
              "      <td>15.4</td>\n",
              "      <td>Intel Core i7 2.7GHz</td>\n",
              "      <td>16</td>\n",
              "      <td>512GB SSD</td>\n",
              "      <td>AMD Radeon Pro 455</td>\n",
              "      <td>macOS</td>\n",
              "      <td>1.83</td>\n",
              "      <td>135195.3360</td>\n",
              "      <td>0</td>\n",
              "      <td>1</td>\n",
              "      <td>220.534624</td>\n",
              "      <td>Intel Core i7</td>\n",
              "    </tr>\n",
              "    <tr>\n",
              "      <th>4</th>\n",
              "      <td>Apple</td>\n",
              "      <td>Ultrabook</td>\n",
              "      <td>13.3</td>\n",
              "      <td>Intel Core i5 3.1GHz</td>\n",
              "      <td>8</td>\n",
              "      <td>256GB SSD</td>\n",
              "      <td>Intel Iris Plus Graphics 650</td>\n",
              "      <td>macOS</td>\n",
              "      <td>1.37</td>\n",
              "      <td>96095.8080</td>\n",
              "      <td>0</td>\n",
              "      <td>1</td>\n",
              "      <td>226.983005</td>\n",
              "      <td>Intel Core i5</td>\n",
              "    </tr>\n",
              "  </tbody>\n",
              "</table>\n",
              "</div>"
            ],
            "text/plain": [
              "  Company   TypeName  Inches                         Cpu  Ram  \\\n",
              "0   Apple  Ultrabook    13.3        Intel Core i5 2.3GHz    8   \n",
              "1   Apple  Ultrabook    13.3        Intel Core i5 1.8GHz    8   \n",
              "2      HP   Notebook    15.6  Intel Core i5 7200U 2.5GHz    8   \n",
              "3   Apple  Ultrabook    15.4        Intel Core i7 2.7GHz   16   \n",
              "4   Apple  Ultrabook    13.3        Intel Core i5 3.1GHz    8   \n",
              "\n",
              "                Memory                           Gpu  OpSys  Weight  \\\n",
              "0            128GB SSD  Intel Iris Plus Graphics 640  macOS    1.37   \n",
              "1  128GB Flash Storage        Intel HD Graphics 6000  macOS    1.34   \n",
              "2            256GB SSD         Intel HD Graphics 620  No OS    1.86   \n",
              "3            512GB SSD            AMD Radeon Pro 455  macOS    1.83   \n",
              "4            256GB SSD  Intel Iris Plus Graphics 650  macOS    1.37   \n",
              "\n",
              "         Price  Touchscreen  IPS         Ppi       Cpu_Name  \n",
              "0   71378.6832            0    1  226.983005  Intel Core i5  \n",
              "1   47895.5232            0    0  127.677940  Intel Core i5  \n",
              "2   30636.0000            0    0  141.211998  Intel Core i5  \n",
              "3  135195.3360            0    1  220.534624  Intel Core i7  \n",
              "4   96095.8080            0    1  226.983005  Intel Core i5  "
            ]
          },
          "execution_count": 32,
          "metadata": {},
          "output_type": "execute_result"
        }
      ],
      "source": [
        "#Creating new column for Cpu and spliting names in new column and extracting the name of the CPU\n",
        "df['Cpu_Name']=df['Cpu'].apply(lambda x:' '.join(x.split()[0:3]))\n",
        "df.head()"
      ]
    },
    {
      "cell_type": "code",
      "execution_count": null,
      "metadata": {
        "id": "pcQu1J03MiYu"
      },
      "outputs": [],
      "source": [
        "#Creating new function and segregating the CPU Brand name and virsons\n",
        "def fetch_processor(text):\n",
        "    if text == 'Intel Core i7' or text == 'Intel Core i5' or text == 'Intel Core i3':\n",
        "        return text\n",
        "    else:\n",
        "        if text.split()[0] == 'Intel':\n",
        "            return 'Other Intel Processor'\n",
        "        else:\n",
        "            return 'AMD Processor'"
      ]
    },
    {
      "cell_type": "code",
      "execution_count": null,
      "metadata": {
        "colab": {
          "base_uri": "https://localhost:8080/",
          "height": 423
        },
        "id": "keFvkcEmTxIc",
        "outputId": "db24a7ca-898d-4c56-814e-baf361a1117a"
      },
      "outputs": [
        {
          "data": {
            "text/html": [
              "<div>\n",
              "<style scoped>\n",
              "    .dataframe tbody tr th:only-of-type {\n",
              "        vertical-align: middle;\n",
              "    }\n",
              "\n",
              "    .dataframe tbody tr th {\n",
              "        vertical-align: top;\n",
              "    }\n",
              "\n",
              "    .dataframe thead th {\n",
              "        text-align: right;\n",
              "    }\n",
              "</style>\n",
              "<table border=\"1\" class=\"dataframe\">\n",
              "  <thead>\n",
              "    <tr style=\"text-align: right;\">\n",
              "      <th></th>\n",
              "      <th>Company</th>\n",
              "      <th>TypeName</th>\n",
              "      <th>Inches</th>\n",
              "      <th>Ram</th>\n",
              "      <th>Memory</th>\n",
              "      <th>Gpu</th>\n",
              "      <th>OpSys</th>\n",
              "      <th>Weight</th>\n",
              "      <th>Price</th>\n",
              "      <th>Touchscreen</th>\n",
              "      <th>IPS</th>\n",
              "      <th>Ppi</th>\n",
              "      <th>Cpu_Brand</th>\n",
              "    </tr>\n",
              "  </thead>\n",
              "  <tbody>\n",
              "    <tr>\n",
              "      <th>0</th>\n",
              "      <td>Apple</td>\n",
              "      <td>Ultrabook</td>\n",
              "      <td>13.3</td>\n",
              "      <td>8</td>\n",
              "      <td>128GB SSD</td>\n",
              "      <td>Intel Iris Plus Graphics 640</td>\n",
              "      <td>macOS</td>\n",
              "      <td>1.37</td>\n",
              "      <td>71378.6832</td>\n",
              "      <td>0</td>\n",
              "      <td>1</td>\n",
              "      <td>226.983005</td>\n",
              "      <td>Intel Core i5</td>\n",
              "    </tr>\n",
              "    <tr>\n",
              "      <th>1</th>\n",
              "      <td>Apple</td>\n",
              "      <td>Ultrabook</td>\n",
              "      <td>13.3</td>\n",
              "      <td>8</td>\n",
              "      <td>128GB Flash Storage</td>\n",
              "      <td>Intel HD Graphics 6000</td>\n",
              "      <td>macOS</td>\n",
              "      <td>1.34</td>\n",
              "      <td>47895.5232</td>\n",
              "      <td>0</td>\n",
              "      <td>0</td>\n",
              "      <td>127.677940</td>\n",
              "      <td>Intel Core i5</td>\n",
              "    </tr>\n",
              "    <tr>\n",
              "      <th>2</th>\n",
              "      <td>HP</td>\n",
              "      <td>Notebook</td>\n",
              "      <td>15.6</td>\n",
              "      <td>8</td>\n",
              "      <td>256GB SSD</td>\n",
              "      <td>Intel HD Graphics 620</td>\n",
              "      <td>No OS</td>\n",
              "      <td>1.86</td>\n",
              "      <td>30636.0000</td>\n",
              "      <td>0</td>\n",
              "      <td>0</td>\n",
              "      <td>141.211998</td>\n",
              "      <td>Intel Core i5</td>\n",
              "    </tr>\n",
              "    <tr>\n",
              "      <th>3</th>\n",
              "      <td>Apple</td>\n",
              "      <td>Ultrabook</td>\n",
              "      <td>15.4</td>\n",
              "      <td>16</td>\n",
              "      <td>512GB SSD</td>\n",
              "      <td>AMD Radeon Pro 455</td>\n",
              "      <td>macOS</td>\n",
              "      <td>1.83</td>\n",
              "      <td>135195.3360</td>\n",
              "      <td>0</td>\n",
              "      <td>1</td>\n",
              "      <td>220.534624</td>\n",
              "      <td>Intel Core i7</td>\n",
              "    </tr>\n",
              "    <tr>\n",
              "      <th>4</th>\n",
              "      <td>Apple</td>\n",
              "      <td>Ultrabook</td>\n",
              "      <td>13.3</td>\n",
              "      <td>8</td>\n",
              "      <td>256GB SSD</td>\n",
              "      <td>Intel Iris Plus Graphics 650</td>\n",
              "      <td>macOS</td>\n",
              "      <td>1.37</td>\n",
              "      <td>96095.8080</td>\n",
              "      <td>0</td>\n",
              "      <td>1</td>\n",
              "      <td>226.983005</td>\n",
              "      <td>Intel Core i5</td>\n",
              "    </tr>\n",
              "    <tr>\n",
              "      <th>...</th>\n",
              "      <td>...</td>\n",
              "      <td>...</td>\n",
              "      <td>...</td>\n",
              "      <td>...</td>\n",
              "      <td>...</td>\n",
              "      <td>...</td>\n",
              "      <td>...</td>\n",
              "      <td>...</td>\n",
              "      <td>...</td>\n",
              "      <td>...</td>\n",
              "      <td>...</td>\n",
              "      <td>...</td>\n",
              "      <td>...</td>\n",
              "    </tr>\n",
              "    <tr>\n",
              "      <th>1298</th>\n",
              "      <td>Lenovo</td>\n",
              "      <td>2 in 1 Convertible</td>\n",
              "      <td>14.0</td>\n",
              "      <td>4</td>\n",
              "      <td>128GB SSD</td>\n",
              "      <td>Intel HD Graphics 520</td>\n",
              "      <td>Windows 10</td>\n",
              "      <td>1.80</td>\n",
              "      <td>33992.6400</td>\n",
              "      <td>1</td>\n",
              "      <td>1</td>\n",
              "      <td>157.350512</td>\n",
              "      <td>Intel Core i7</td>\n",
              "    </tr>\n",
              "    <tr>\n",
              "      <th>1299</th>\n",
              "      <td>Lenovo</td>\n",
              "      <td>2 in 1 Convertible</td>\n",
              "      <td>13.3</td>\n",
              "      <td>16</td>\n",
              "      <td>512GB SSD</td>\n",
              "      <td>Intel HD Graphics 520</td>\n",
              "      <td>Windows 10</td>\n",
              "      <td>1.30</td>\n",
              "      <td>79866.7200</td>\n",
              "      <td>1</td>\n",
              "      <td>1</td>\n",
              "      <td>276.053530</td>\n",
              "      <td>Intel Core i7</td>\n",
              "    </tr>\n",
              "    <tr>\n",
              "      <th>1300</th>\n",
              "      <td>Lenovo</td>\n",
              "      <td>Notebook</td>\n",
              "      <td>14.0</td>\n",
              "      <td>2</td>\n",
              "      <td>64GB Flash Storage</td>\n",
              "      <td>Intel HD Graphics</td>\n",
              "      <td>Windows 10</td>\n",
              "      <td>1.50</td>\n",
              "      <td>12201.1200</td>\n",
              "      <td>0</td>\n",
              "      <td>0</td>\n",
              "      <td>111.935204</td>\n",
              "      <td>Other Intel Processor</td>\n",
              "    </tr>\n",
              "    <tr>\n",
              "      <th>1301</th>\n",
              "      <td>HP</td>\n",
              "      <td>Notebook</td>\n",
              "      <td>15.6</td>\n",
              "      <td>6</td>\n",
              "      <td>1TB HDD</td>\n",
              "      <td>AMD Radeon R5 M330</td>\n",
              "      <td>Windows 10</td>\n",
              "      <td>2.19</td>\n",
              "      <td>40705.9200</td>\n",
              "      <td>0</td>\n",
              "      <td>0</td>\n",
              "      <td>100.454670</td>\n",
              "      <td>Intel Core i7</td>\n",
              "    </tr>\n",
              "    <tr>\n",
              "      <th>1302</th>\n",
              "      <td>Asus</td>\n",
              "      <td>Notebook</td>\n",
              "      <td>15.6</td>\n",
              "      <td>4</td>\n",
              "      <td>500GB HDD</td>\n",
              "      <td>Intel HD Graphics</td>\n",
              "      <td>Windows 10</td>\n",
              "      <td>2.20</td>\n",
              "      <td>19660.3200</td>\n",
              "      <td>0</td>\n",
              "      <td>0</td>\n",
              "      <td>100.454670</td>\n",
              "      <td>Other Intel Processor</td>\n",
              "    </tr>\n",
              "  </tbody>\n",
              "</table>\n",
              "<p>1273 rows × 13 columns</p>\n",
              "</div>"
            ],
            "text/plain": [
              "     Company            TypeName  Inches  Ram               Memory  \\\n",
              "0      Apple           Ultrabook    13.3    8            128GB SSD   \n",
              "1      Apple           Ultrabook    13.3    8  128GB Flash Storage   \n",
              "2         HP            Notebook    15.6    8            256GB SSD   \n",
              "3      Apple           Ultrabook    15.4   16            512GB SSD   \n",
              "4      Apple           Ultrabook    13.3    8            256GB SSD   \n",
              "...      ...                 ...     ...  ...                  ...   \n",
              "1298  Lenovo  2 in 1 Convertible    14.0    4            128GB SSD   \n",
              "1299  Lenovo  2 in 1 Convertible    13.3   16            512GB SSD   \n",
              "1300  Lenovo            Notebook    14.0    2   64GB Flash Storage   \n",
              "1301      HP            Notebook    15.6    6              1TB HDD   \n",
              "1302    Asus            Notebook    15.6    4            500GB HDD   \n",
              "\n",
              "                               Gpu       OpSys  Weight        Price  \\\n",
              "0     Intel Iris Plus Graphics 640       macOS    1.37   71378.6832   \n",
              "1           Intel HD Graphics 6000       macOS    1.34   47895.5232   \n",
              "2            Intel HD Graphics 620       No OS    1.86   30636.0000   \n",
              "3               AMD Radeon Pro 455       macOS    1.83  135195.3360   \n",
              "4     Intel Iris Plus Graphics 650       macOS    1.37   96095.8080   \n",
              "...                            ...         ...     ...          ...   \n",
              "1298         Intel HD Graphics 520  Windows 10    1.80   33992.6400   \n",
              "1299         Intel HD Graphics 520  Windows 10    1.30   79866.7200   \n",
              "1300             Intel HD Graphics  Windows 10    1.50   12201.1200   \n",
              "1301            AMD Radeon R5 M330  Windows 10    2.19   40705.9200   \n",
              "1302             Intel HD Graphics  Windows 10    2.20   19660.3200   \n",
              "\n",
              "      Touchscreen  IPS         Ppi              Cpu_Brand  \n",
              "0               0    1  226.983005          Intel Core i5  \n",
              "1               0    0  127.677940          Intel Core i5  \n",
              "2               0    0  141.211998          Intel Core i5  \n",
              "3               0    1  220.534624          Intel Core i7  \n",
              "4               0    1  226.983005          Intel Core i5  \n",
              "...           ...  ...         ...                    ...  \n",
              "1298            1    1  157.350512          Intel Core i7  \n",
              "1299            1    1  276.053530          Intel Core i7  \n",
              "1300            0    0  111.935204  Other Intel Processor  \n",
              "1301            0    0  100.454670          Intel Core i7  \n",
              "1302            0    0  100.454670  Other Intel Processor  \n",
              "\n",
              "[1273 rows x 13 columns]"
            ]
          },
          "execution_count": 34,
          "metadata": {},
          "output_type": "execute_result"
        }
      ],
      "source": [
        "# segregating the CPU Brand name and virsons\n",
        "df['Cpu_Brand']=df['Cpu_Name'].apply(fetch_processor)\n",
        "df.drop(columns=['Cpu','Cpu_Name'],inplace=True)\n",
        "df\n"
      ]
    },
    {
      "cell_type": "markdown",
      "source": [
        "#Barplot\n",
        "of valuecount of the Cpu and the most used cpu in the laptop in i7"
      ],
      "metadata": {
        "id": "XPA_GvoZGoi6"
      }
    },
    {
      "cell_type": "code",
      "execution_count": null,
      "metadata": {
        "colab": {
          "base_uri": "https://localhost:8080/",
          "height": 599
        },
        "id": "oPPi2RjfVM_U",
        "outputId": "d8e8e4c7-8788-4539-9440-9a2821d95153"
      },
      "outputs": [
        {
          "data": {
            "text/plain": [
              "<Axes: xlabel='Cpu_Brand'>"
            ]
          },
          "execution_count": 35,
          "metadata": {},
          "output_type": "execute_result"
        },
        {
          "data": {
            "image/png": "[encoded data removed]",
            "text/plain": [
              "<Figure size 640x480 with 1 Axes>"
            ]
          },
          "metadata": {},
          "output_type": "display_data"
        }
      ],
      "source": [
        "df['Cpu_Brand'].value_counts().plot(kind='bar')"
      ]
    },
    {
      "cell_type": "code",
      "execution_count": null,
      "metadata": {
        "colab": {
          "base_uri": "https://localhost:8080/",
          "height": 784
        },
        "id": "8sUUw_FAVijt",
        "outputId": "a785e9c1-c0b5-4fa8-bf8d-61a9aca19aa9"
      },
      "outputs": [
        {
          "name": "stderr",
          "output_type": "stream",
          "text": [
            "C:\\Users\\VAIBHAV\\AppData\\Local\\Temp\\ipykernel_9360\\1986250525.py:1: FutureWarning: \n",
            "\n",
            "Passing `palette` without assigning `hue` is deprecated and will be removed in v0.14.0. Assign the `x` variable to `hue` and set `legend=False` for the same effect.\n",
            "\n",
            "  sns.barplot(x = df['Cpu_Brand'],y=df['Price'],palette='tab20')\n"
          ]
        },
        {
          "data": {
            "text/plain": [
              "([0, 1, 2, 3, 4],\n",
              " [Text(0, 0, 'Intel Core i5'),\n",
              "  Text(1, 0, 'Intel Core i7'),\n",
              "  Text(2, 0, 'AMD Processor'),\n",
              "  Text(3, 0, 'Intel Core i3'),\n",
              "  Text(4, 0, 'Other Intel Processor')])"
            ]
          },
          "execution_count": 36,
          "metadata": {},
          "output_type": "execute_result"
        },
        {
          "data": {
            "image/png": "[encoded data removed]",
            "text/plain": [
              "<Figure size 640x480 with 1 Axes>"
            ]
          },
          "metadata": {},
          "output_type": "display_data"
        }
      ],
      "source": [
        "# i7 is the more expensive then others\n",
        "sns.barplot(x = df['Cpu_Brand'],y=df['Price'],palette='tab20')\n",
        "plt.xticks(rotation='vertical')"
      ]
    },
    {
      "cell_type": "markdown",
      "source": [
        "# Ram Analysis"
      ],
      "metadata": {
        "id": "qB2psG9JHgqz"
      }
    },
    {
      "cell_type": "code",
      "execution_count": null,
      "metadata": {
        "colab": {
          "base_uri": "https://localhost:8080/",
          "height": 471
        },
        "id": "G0sYS9msWCmg",
        "outputId": "67af02f8-9a73-4dae-de82-f6fcef0208d9"
      },
      "outputs": [
        {
          "data": {
            "text/plain": [
              "<Axes: xlabel='Ram'>"
            ]
          },
          "execution_count": 37,
          "metadata": {},
          "output_type": "execute_result"
        },
        {
          "data": {
            "image/png": "[encoded data removed]",
            "text/plain": [
              "<Figure size 640x480 with 1 Axes>"
            ]
          },
          "metadata": {},
          "output_type": "display_data"
        }
      ],
      "source": [
        "# Most used ram is 8gb in the laptops\n",
        "df['Ram'].value_counts().plot(kind='bar')"
      ]
    },
    {
      "cell_type": "code",
      "execution_count": null,
      "metadata": {
        "colab": {
          "base_uri": "https://localhost:8080/",
          "height": 748
        },
        "id": "H8Ryv_tkWXXS",
        "outputId": "7c7c92a0-7145-42b2-e23a-eef3034e9e13"
      },
      "outputs": [
        {
          "name": "stderr",
          "output_type": "stream",
          "text": [
            "C:\\Users\\VAIBHAV\\AppData\\Local\\Temp\\ipykernel_9360\\726188371.py:2: FutureWarning: \n",
            "\n",
            "Passing `palette` without assigning `hue` is deprecated and will be removed in v0.14.0. Assign the `x` variable to `hue` and set `legend=False` for the same effect.\n",
            "\n",
            "  sns.barplot(x = df['Ram'],y=df['Price'],palette='tab20')\n"
          ]
        },
        {
          "data": {
            "text/plain": [
              "([0, 1, 2, 3, 4, 5, 6, 7, 8, 9],\n",
              " [Text(0, 0, '1'),\n",
              "  Text(1, 0, '2'),\n",
              "  Text(2, 0, '4'),\n",
              "  Text(3, 0, '6'),\n",
              "  Text(4, 0, '8'),\n",
              "  Text(5, 0, '12'),\n",
              "  Text(6, 0, '16'),\n",
              "  Text(7, 0, '24'),\n",
              "  Text(8, 0, '32'),\n",
              "  Text(9, 0, '64')])"
            ]
          },
          "execution_count": 38,
          "metadata": {},
          "output_type": "execute_result"
        },
        {
          "data": {
            "image/png": "[encoded data removed]",
            "text/plain": [
              "<Figure size 640x480 with 1 Axes>"
            ]
          },
          "metadata": {},
          "output_type": "display_data"
        }
      ],
      "source": [
        "# Most expensive rams are 64 and 32gb\n",
        "import seaborn as sns\n",
        "sns.barplot(x = df['Ram'],y=df['Price'],palette='tab20')\n",
        "plt.xticks(rotation='vertical')"
      ]
    },
    {
      "cell_type": "markdown",
      "source": [
        "#Momory Analysis"
      ],
      "metadata": {
        "id": "aeU22iqsIc-K"
      }
    },
    {
      "cell_type": "code",
      "execution_count": null,
      "metadata": {
        "colab": {
          "base_uri": "https://localhost:8080/",
          "height": 1000
        },
        "id": "yw-cCsFwYwUo",
        "outputId": "9fb1d5a9-1ef9-4b97-d231-184378285a07"
      },
      "outputs": [
        {
          "data": {
            "text/plain": [
              "Memory\n",
              "256GB SSD                        401\n",
              "1TB HDD                          217\n",
              "500GB HDD                        130\n",
              "512GB SSD                        116\n",
              "128GB SSD +  1TB HDD              92\n",
              "128GB SSD                         74\n",
              "256GB SSD +  1TB HDD              71\n",
              "32GB Flash Storage                37\n",
              "2TB HDD                           16\n",
              "64GB Flash Storage                14\n",
              "512GB SSD +  1TB HDD              14\n",
              "1TB SSD                           13\n",
              "256GB SSD +  2TB HDD              10\n",
              "1.0TB Hybrid                       9\n",
              "256GB Flash Storage                8\n",
              "16GB Flash Storage                 7\n",
              "32GB SSD                           6\n",
              "180GB SSD                          4\n",
              "128GB Flash Storage                4\n",
              "512GB SSD +  2TB HDD               3\n",
              "16GB SSD                           3\n",
              "512GB Flash Storage                2\n",
              "1TB SSD +  1TB HDD                 2\n",
              "128GB SSD +  2TB HDD               2\n",
              "256GB SSD +  500GB HDD             2\n",
              "256GB SSD +  256GB SSD             2\n",
              "512GB SSD +  256GB SSD             1\n",
              "512GB SSD +  512GB SSD             1\n",
              "64GB Flash Storage +  1TB HDD      1\n",
              "1TB HDD +  1TB HDD                 1\n",
              "32GB HDD                           1\n",
              "64GB SSD                           1\n",
              "?                                  1\n",
              "128GB HDD                          1\n",
              "240GB SSD                          1\n",
              "8GB SSD                            1\n",
              "508GB Hybrid                       1\n",
              "1.0TB HDD                          1\n",
              "512GB SSD +  1.0TB Hybrid          1\n",
              "256GB SSD +  1.0TB Hybrid          1\n",
              "Name: count, dtype: int64"
            ]
          },
          "execution_count": 39,
          "metadata": {},
          "output_type": "execute_result"
        }
      ],
      "source": [
        "# Value count of the memory\n",
        "df['Memory'].value_counts()"
      ]
    },
    {
      "cell_type": "code",
      "execution_count": null,
      "metadata": {
        "colab": {
          "base_uri": "https://localhost:8080/",
          "height": 310
        },
        "id": "5GwrUo_6ctl4",
        "outputId": "8052eef6-e974-47ad-adc0-241f993344b3"
      },
      "outputs": [
        {
          "name": "stderr",
          "output_type": "stream",
          "text": [
            "<>:1: SyntaxWarning: invalid escape sequence '\\.'\n",
            "<>:1: SyntaxWarning: invalid escape sequence '\\.'\n",
            "C:\\Users\\VAIBHAV\\AppData\\Local\\Temp\\ipykernel_9360\\2615404716.py:1: SyntaxWarning: invalid escape sequence '\\.'\n",
            "  df['Memory'] = df['Memory'].astype(str).replace('\\.0', '', regex=True)\n",
            "C:\\Users\\VAIBHAV\\AppData\\Local\\Temp\\ipykernel_9360\\2615404716.py:18: FutureWarning: A value is trying to be set on a copy of a DataFrame or Series through chained assignment using an inplace method.\n",
            "The behavior will change in pandas 3.0. This inplace method will never work because the intermediate object on which we are setting values always behaves as a copy.\n",
            "\n",
            "For example, when doing 'df[col].method(value, inplace=True)', try using 'df.method({col: value}, inplace=True)' or df[col] = df[col].method(value) instead, to perform the operation inplace on the original object.\n",
            "\n",
            "\n",
            "  df['second'].fillna(\"0\", inplace = True)\n"
          ]
        },
        {
          "data": {
            "text/html": [
              "<div>\n",
              "<style scoped>\n",
              "    .dataframe tbody tr th:only-of-type {\n",
              "        vertical-align: middle;\n",
              "    }\n",
              "\n",
              "    .dataframe tbody tr th {\n",
              "        vertical-align: top;\n",
              "    }\n",
              "\n",
              "    .dataframe thead th {\n",
              "        text-align: right;\n",
              "    }\n",
              "</style>\n",
              "<table border=\"1\" class=\"dataframe\">\n",
              "  <thead>\n",
              "    <tr style=\"text-align: right;\">\n",
              "      <th></th>\n",
              "      <th>Company</th>\n",
              "      <th>TypeName</th>\n",
              "      <th>Inches</th>\n",
              "      <th>Ram</th>\n",
              "      <th>Memory</th>\n",
              "      <th>Gpu</th>\n",
              "      <th>OpSys</th>\n",
              "      <th>Weight</th>\n",
              "      <th>Price</th>\n",
              "      <th>Touchscreen</th>\n",
              "      <th>IPS</th>\n",
              "      <th>Ppi</th>\n",
              "      <th>Cpu_Brand</th>\n",
              "      <th>HDD</th>\n",
              "      <th>SSD</th>\n",
              "      <th>Hybrid</th>\n",
              "      <th>Flash_Storage</th>\n",
              "    </tr>\n",
              "  </thead>\n",
              "  <tbody>\n",
              "    <tr>\n",
              "      <th>0</th>\n",
              "      <td>Apple</td>\n",
              "      <td>Ultrabook</td>\n",
              "      <td>13.3</td>\n",
              "      <td>8</td>\n",
              "      <td>128 SSD</td>\n",
              "      <td>Intel Iris Plus Graphics 640</td>\n",
              "      <td>macOS</td>\n",
              "      <td>1.37</td>\n",
              "      <td>71378.6832</td>\n",
              "      <td>0</td>\n",
              "      <td>1</td>\n",
              "      <td>226.983005</td>\n",
              "      <td>Intel Core i5</td>\n",
              "      <td>0</td>\n",
              "      <td>128</td>\n",
              "      <td>0</td>\n",
              "      <td>0</td>\n",
              "    </tr>\n",
              "    <tr>\n",
              "      <th>1</th>\n",
              "      <td>Apple</td>\n",
              "      <td>Ultrabook</td>\n",
              "      <td>13.3</td>\n",
              "      <td>8</td>\n",
              "      <td>128 Flash Storage</td>\n",
              "      <td>Intel HD Graphics 6000</td>\n",
              "      <td>macOS</td>\n",
              "      <td>1.34</td>\n",
              "      <td>47895.5232</td>\n",
              "      <td>0</td>\n",
              "      <td>0</td>\n",
              "      <td>127.677940</td>\n",
              "      <td>Intel Core i5</td>\n",
              "      <td>0</td>\n",
              "      <td>0</td>\n",
              "      <td>0</td>\n",
              "      <td>128</td>\n",
              "    </tr>\n",
              "    <tr>\n",
              "      <th>2</th>\n",
              "      <td>HP</td>\n",
              "      <td>Notebook</td>\n",
              "      <td>15.6</td>\n",
              "      <td>8</td>\n",
              "      <td>256 SSD</td>\n",
              "      <td>Intel HD Graphics 620</td>\n",
              "      <td>No OS</td>\n",
              "      <td>1.86</td>\n",
              "      <td>30636.0000</td>\n",
              "      <td>0</td>\n",
              "      <td>0</td>\n",
              "      <td>141.211998</td>\n",
              "      <td>Intel Core i5</td>\n",
              "      <td>0</td>\n",
              "      <td>256</td>\n",
              "      <td>0</td>\n",
              "      <td>0</td>\n",
              "    </tr>\n",
              "    <tr>\n",
              "      <th>3</th>\n",
              "      <td>Apple</td>\n",
              "      <td>Ultrabook</td>\n",
              "      <td>15.4</td>\n",
              "      <td>16</td>\n",
              "      <td>512 SSD</td>\n",
              "      <td>AMD Radeon Pro 455</td>\n",
              "      <td>macOS</td>\n",
              "      <td>1.83</td>\n",
              "      <td>135195.3360</td>\n",
              "      <td>0</td>\n",
              "      <td>1</td>\n",
              "      <td>220.534624</td>\n",
              "      <td>Intel Core i7</td>\n",
              "      <td>0</td>\n",
              "      <td>512</td>\n",
              "      <td>0</td>\n",
              "      <td>0</td>\n",
              "    </tr>\n",
              "    <tr>\n",
              "      <th>4</th>\n",
              "      <td>Apple</td>\n",
              "      <td>Ultrabook</td>\n",
              "      <td>13.3</td>\n",
              "      <td>8</td>\n",
              "      <td>256 SSD</td>\n",
              "      <td>Intel Iris Plus Graphics 650</td>\n",
              "      <td>macOS</td>\n",
              "      <td>1.37</td>\n",
              "      <td>96095.8080</td>\n",
              "      <td>0</td>\n",
              "      <td>1</td>\n",
              "      <td>226.983005</td>\n",
              "      <td>Intel Core i5</td>\n",
              "      <td>0</td>\n",
              "      <td>256</td>\n",
              "      <td>0</td>\n",
              "      <td>0</td>\n",
              "    </tr>\n",
              "  </tbody>\n",
              "</table>\n",
              "</div>"
            ],
            "text/plain": [
              "  Company   TypeName  Inches  Ram             Memory  \\\n",
              "0   Apple  Ultrabook    13.3    8            128 SSD   \n",
              "1   Apple  Ultrabook    13.3    8  128 Flash Storage   \n",
              "2      HP   Notebook    15.6    8            256 SSD   \n",
              "3   Apple  Ultrabook    15.4   16            512 SSD   \n",
              "4   Apple  Ultrabook    13.3    8            256 SSD   \n",
              "\n",
              "                            Gpu  OpSys  Weight        Price  Touchscreen  IPS  \\\n",
              "0  Intel Iris Plus Graphics 640  macOS    1.37   71378.6832            0    1   \n",
              "1        Intel HD Graphics 6000  macOS    1.34   47895.5232            0    0   \n",
              "2         Intel HD Graphics 620  No OS    1.86   30636.0000            0    0   \n",
              "3            AMD Radeon Pro 455  macOS    1.83  135195.3360            0    1   \n",
              "4  Intel Iris Plus Graphics 650  macOS    1.37   96095.8080            0    1   \n",
              "\n",
              "          Ppi      Cpu_Brand  HDD  SSD  Hybrid  Flash_Storage  \n",
              "0  226.983005  Intel Core i5    0  128       0              0  \n",
              "1  127.677940  Intel Core i5    0    0       0            128  \n",
              "2  141.211998  Intel Core i5    0  256       0              0  \n",
              "3  220.534624  Intel Core i7    0  512       0              0  \n",
              "4  226.983005  Intel Core i5    0  256       0              0  "
            ]
          },
          "execution_count": 40,
          "metadata": {},
          "output_type": "execute_result"
        }
      ],
      "source": [
        "# Here we are creating some new columns and and insert the momery's numeric value into these columns and drop some columns also\n",
        "df['Memory'] = df['Memory'].astype(str).replace('\\.0', '', regex=True)\n",
        "df['Memory'] = df['Memory'].str.replace('GB', '')\n",
        "df['Memory'] = df['Memory'].str.replace('TB', '000')\n",
        "new = df['Memory'].str.split(\"+\", n = 1, expand = True)\n",
        "df['first']=new[0]\n",
        "df['first']=df['first'].str.strip()\n",
        "\n",
        "df['second']=new[1]\n",
        "\n",
        "df['Layer1HDD']=df['first'].apply(lambda x: 1 if \"HDD\" in x else 0)\n",
        "df['Layer1SSD']=df['first'].apply(lambda x: 1 if \"SSD\" in x else 0)\n",
        "df['Layer1Hybrid']=df['first'].apply(lambda x:1 if \"Hybrid\" in x else 0)\n",
        "df['Layer1Flash_Storage']=df['first'].apply(lambda x:1 if \"Flash Storage\" in x else 0)\n",
        "\n",
        "# The following line was modified to replace all non-digit characters\n",
        "df['first']=df['first'].str.replace(r'\\D', '',regex=True)\n",
        "\n",
        "df['second'].fillna(\"0\", inplace = True)\n",
        "\n",
        "df['Layer2HDD']=df['second'].apply(lambda x: 1 if \"HDD\" in x else 0)\n",
        "df['Layer2SSD']=df['second'].apply(lambda x: 1 if \"SSD\" in x else 0)\n",
        "df['Layer2Hybrid']=df['second'].apply(lambda x:1 if \"Hybrid\" in x else 0)\n",
        "df['Layer2Flash_Storage']=df['second'].apply(lambda x:1 if \"Flash Storage\" in x else 0)\n",
        "\n",
        "df['second']=df['second'].str.replace(r'\\D', '',regex=True)\n",
        "df['first'] = df['first'].replace('', '0')\n",
        "df['second'] = df['second'].replace('', '0')\n",
        "\n",
        "df['first']=df['first'].astype('int')\n",
        "df['second']=df['second'].astype('int')\n",
        "\n",
        "df['HDD']=df['first']*df['Layer1HDD']+df['second']*df['Layer2HDD']\n",
        "df['SSD']=df['first']*df['Layer1SSD']+df['second']*df['Layer2SSD']\n",
        "df['Hybrid']=df['first']*df['Layer1Hybrid']+df['second']*df['Layer2Hybrid']\n",
        "df['Flash_Storage']=df['first']*df['Layer1Flash_Storage']+df['second']*df['Layer2Flash_Storage']\n",
        "\n",
        "df.drop(columns=['first','second','Layer1HDD','Layer1SSD','Layer1Hybrid','Layer1Flash_Storage','Layer2HDD','Layer2SSD','Layer2Hybrid','Layer2Flash_Storage'],inplace=True)\n",
        "df.head()"
      ]
    },
    {
      "cell_type": "code",
      "execution_count": null,
      "metadata": {
        "colab": {
          "base_uri": "https://localhost:8080/",
          "height": 310
        },
        "id": "jzdVonHhdws1",
        "outputId": "8b582174-9909-4b30-db7e-818c109f7895"
      },
      "outputs": [
        {
          "data": {
            "text/html": [
              "<div>\n",
              "<style scoped>\n",
              "    .dataframe tbody tr th:only-of-type {\n",
              "        vertical-align: middle;\n",
              "    }\n",
              "\n",
              "    .dataframe tbody tr th {\n",
              "        vertical-align: top;\n",
              "    }\n",
              "\n",
              "    .dataframe thead th {\n",
              "        text-align: right;\n",
              "    }\n",
              "</style>\n",
              "<table border=\"1\" class=\"dataframe\">\n",
              "  <thead>\n",
              "    <tr style=\"text-align: right;\">\n",
              "      <th></th>\n",
              "      <th>Company</th>\n",
              "      <th>TypeName</th>\n",
              "      <th>Inches</th>\n",
              "      <th>Ram</th>\n",
              "      <th>Memory</th>\n",
              "      <th>Gpu</th>\n",
              "      <th>OpSys</th>\n",
              "      <th>Weight</th>\n",
              "      <th>Price</th>\n",
              "      <th>Touchscreen</th>\n",
              "      <th>IPS</th>\n",
              "      <th>Ppi</th>\n",
              "      <th>Cpu_Brand</th>\n",
              "      <th>HDD</th>\n",
              "      <th>SSD</th>\n",
              "      <th>Hybrid</th>\n",
              "      <th>Flash_Storage</th>\n",
              "    </tr>\n",
              "  </thead>\n",
              "  <tbody>\n",
              "    <tr>\n",
              "      <th>951</th>\n",
              "      <td>Dell</td>\n",
              "      <td>Ultrabook</td>\n",
              "      <td>14.0</td>\n",
              "      <td>8</td>\n",
              "      <td>256 SSD</td>\n",
              "      <td>Intel HD Graphics 620</td>\n",
              "      <td>Windows 10</td>\n",
              "      <td>1.36</td>\n",
              "      <td>94572.00</td>\n",
              "      <td>0</td>\n",
              "      <td>0</td>\n",
              "      <td>157.350512</td>\n",
              "      <td>Intel Core i7</td>\n",
              "      <td>0</td>\n",
              "      <td>256</td>\n",
              "      <td>0</td>\n",
              "      <td>0</td>\n",
              "    </tr>\n",
              "    <tr>\n",
              "      <th>668</th>\n",
              "      <td>Toshiba</td>\n",
              "      <td>Notebook</td>\n",
              "      <td>15.6</td>\n",
              "      <td>8</td>\n",
              "      <td>256 SSD</td>\n",
              "      <td>Intel HD Graphics 620</td>\n",
              "      <td>Windows 10</td>\n",
              "      <td>2.00</td>\n",
              "      <td>67026.24</td>\n",
              "      <td>0</td>\n",
              "      <td>1</td>\n",
              "      <td>141.211998</td>\n",
              "      <td>Intel Core i5</td>\n",
              "      <td>0</td>\n",
              "      <td>256</td>\n",
              "      <td>0</td>\n",
              "      <td>0</td>\n",
              "    </tr>\n",
              "    <tr>\n",
              "      <th>322</th>\n",
              "      <td>Asus</td>\n",
              "      <td>Notebook</td>\n",
              "      <td>14.0</td>\n",
              "      <td>8</td>\n",
              "      <td>256 SSD</td>\n",
              "      <td>Intel HD Graphics 620</td>\n",
              "      <td>Windows 10</td>\n",
              "      <td>2.00</td>\n",
              "      <td>58288.32</td>\n",
              "      <td>0</td>\n",
              "      <td>0</td>\n",
              "      <td>157.350512</td>\n",
              "      <td>Intel Core i7</td>\n",
              "      <td>0</td>\n",
              "      <td>256</td>\n",
              "      <td>0</td>\n",
              "      <td>0</td>\n",
              "    </tr>\n",
              "    <tr>\n",
              "      <th>1071</th>\n",
              "      <td>HP</td>\n",
              "      <td>Notebook</td>\n",
              "      <td>15.6</td>\n",
              "      <td>4</td>\n",
              "      <td>500 HDD</td>\n",
              "      <td>Intel HD Graphics 520</td>\n",
              "      <td>Windows 10</td>\n",
              "      <td>2.31</td>\n",
              "      <td>63882.72</td>\n",
              "      <td>0</td>\n",
              "      <td>0</td>\n",
              "      <td>100.454670</td>\n",
              "      <td>Intel Core i5</td>\n",
              "      <td>500</td>\n",
              "      <td>0</td>\n",
              "      <td>0</td>\n",
              "      <td>0</td>\n",
              "    </tr>\n",
              "    <tr>\n",
              "      <th>391</th>\n",
              "      <td>Asus</td>\n",
              "      <td>Gaming</td>\n",
              "      <td>17.3</td>\n",
              "      <td>16</td>\n",
              "      <td>256 SSD +  1000 HDD</td>\n",
              "      <td>Nvidia GeForce GTX 1050 Ti</td>\n",
              "      <td>Windows 10</td>\n",
              "      <td>3.00</td>\n",
              "      <td>84768.48</td>\n",
              "      <td>0</td>\n",
              "      <td>0</td>\n",
              "      <td>127.335675</td>\n",
              "      <td>Intel Core i7</td>\n",
              "      <td>1000</td>\n",
              "      <td>256</td>\n",
              "      <td>0</td>\n",
              "      <td>0</td>\n",
              "    </tr>\n",
              "  </tbody>\n",
              "</table>\n",
              "</div>"
            ],
            "text/plain": [
              "      Company   TypeName  Inches  Ram               Memory  \\\n",
              "951      Dell  Ultrabook    14.0    8              256 SSD   \n",
              "668   Toshiba   Notebook    15.6    8              256 SSD   \n",
              "322      Asus   Notebook    14.0    8              256 SSD   \n",
              "1071       HP   Notebook    15.6    4              500 HDD   \n",
              "391      Asus     Gaming    17.3   16  256 SSD +  1000 HDD   \n",
              "\n",
              "                             Gpu       OpSys  Weight     Price  Touchscreen  \\\n",
              "951        Intel HD Graphics 620  Windows 10    1.36  94572.00            0   \n",
              "668        Intel HD Graphics 620  Windows 10    2.00  67026.24            0   \n",
              "322        Intel HD Graphics 620  Windows 10    2.00  58288.32            0   \n",
              "1071       Intel HD Graphics 520  Windows 10    2.31  63882.72            0   \n",
              "391   Nvidia GeForce GTX 1050 Ti  Windows 10    3.00  84768.48            0   \n",
              "\n",
              "      IPS         Ppi      Cpu_Brand   HDD  SSD  Hybrid  Flash_Storage  \n",
              "951     0  157.350512  Intel Core i7     0  256       0              0  \n",
              "668     1  141.211998  Intel Core i5     0  256       0              0  \n",
              "322     0  157.350512  Intel Core i7     0  256       0              0  \n",
              "1071    0  100.454670  Intel Core i5   500    0       0              0  \n",
              "391     0  127.335675  Intel Core i7  1000  256       0              0  "
            ]
          },
          "execution_count": 41,
          "metadata": {},
          "output_type": "execute_result"
        }
      ],
      "source": [
        "df.sample(5)"
      ]
    },
    {
      "cell_type": "code",
      "execution_count": null,
      "metadata": {
        "colab": {
          "base_uri": "https://localhost:8080/",
          "height": 206
        },
        "id": "VGMbV93mehdV",
        "outputId": "803148e3-fe0f-417d-faaa-418b1345651d"
      },
      "outputs": [
        {
          "data": {
            "text/html": [
              "<div>\n",
              "<style scoped>\n",
              "    .dataframe tbody tr th:only-of-type {\n",
              "        vertical-align: middle;\n",
              "    }\n",
              "\n",
              "    .dataframe tbody tr th {\n",
              "        vertical-align: top;\n",
              "    }\n",
              "\n",
              "    .dataframe thead th {\n",
              "        text-align: right;\n",
              "    }\n",
              "</style>\n",
              "<table border=\"1\" class=\"dataframe\">\n",
              "  <thead>\n",
              "    <tr style=\"text-align: right;\">\n",
              "      <th></th>\n",
              "      <th>Company</th>\n",
              "      <th>TypeName</th>\n",
              "      <th>Inches</th>\n",
              "      <th>Ram</th>\n",
              "      <th>Gpu</th>\n",
              "      <th>OpSys</th>\n",
              "      <th>Weight</th>\n",
              "      <th>Price</th>\n",
              "      <th>Touchscreen</th>\n",
              "      <th>IPS</th>\n",
              "      <th>Ppi</th>\n",
              "      <th>Cpu_Brand</th>\n",
              "      <th>HDD</th>\n",
              "      <th>SSD</th>\n",
              "      <th>Hybrid</th>\n",
              "      <th>Flash_Storage</th>\n",
              "    </tr>\n",
              "  </thead>\n",
              "  <tbody>\n",
              "    <tr>\n",
              "      <th>0</th>\n",
              "      <td>Apple</td>\n",
              "      <td>Ultrabook</td>\n",
              "      <td>13.3</td>\n",
              "      <td>8</td>\n",
              "      <td>Intel Iris Plus Graphics 640</td>\n",
              "      <td>macOS</td>\n",
              "      <td>1.37</td>\n",
              "      <td>71378.6832</td>\n",
              "      <td>0</td>\n",
              "      <td>1</td>\n",
              "      <td>226.983005</td>\n",
              "      <td>Intel Core i5</td>\n",
              "      <td>0</td>\n",
              "      <td>128</td>\n",
              "      <td>0</td>\n",
              "      <td>0</td>\n",
              "    </tr>\n",
              "    <tr>\n",
              "      <th>1</th>\n",
              "      <td>Apple</td>\n",
              "      <td>Ultrabook</td>\n",
              "      <td>13.3</td>\n",
              "      <td>8</td>\n",
              "      <td>Intel HD Graphics 6000</td>\n",
              "      <td>macOS</td>\n",
              "      <td>1.34</td>\n",
              "      <td>47895.5232</td>\n",
              "      <td>0</td>\n",
              "      <td>0</td>\n",
              "      <td>127.677940</td>\n",
              "      <td>Intel Core i5</td>\n",
              "      <td>0</td>\n",
              "      <td>0</td>\n",
              "      <td>0</td>\n",
              "      <td>128</td>\n",
              "    </tr>\n",
              "    <tr>\n",
              "      <th>2</th>\n",
              "      <td>HP</td>\n",
              "      <td>Notebook</td>\n",
              "      <td>15.6</td>\n",
              "      <td>8</td>\n",
              "      <td>Intel HD Graphics 620</td>\n",
              "      <td>No OS</td>\n",
              "      <td>1.86</td>\n",
              "      <td>30636.0000</td>\n",
              "      <td>0</td>\n",
              "      <td>0</td>\n",
              "      <td>141.211998</td>\n",
              "      <td>Intel Core i5</td>\n",
              "      <td>0</td>\n",
              "      <td>256</td>\n",
              "      <td>0</td>\n",
              "      <td>0</td>\n",
              "    </tr>\n",
              "    <tr>\n",
              "      <th>3</th>\n",
              "      <td>Apple</td>\n",
              "      <td>Ultrabook</td>\n",
              "      <td>15.4</td>\n",
              "      <td>16</td>\n",
              "      <td>AMD Radeon Pro 455</td>\n",
              "      <td>macOS</td>\n",
              "      <td>1.83</td>\n",
              "      <td>135195.3360</td>\n",
              "      <td>0</td>\n",
              "      <td>1</td>\n",
              "      <td>220.534624</td>\n",
              "      <td>Intel Core i7</td>\n",
              "      <td>0</td>\n",
              "      <td>512</td>\n",
              "      <td>0</td>\n",
              "      <td>0</td>\n",
              "    </tr>\n",
              "    <tr>\n",
              "      <th>4</th>\n",
              "      <td>Apple</td>\n",
              "      <td>Ultrabook</td>\n",
              "      <td>13.3</td>\n",
              "      <td>8</td>\n",
              "      <td>Intel Iris Plus Graphics 650</td>\n",
              "      <td>macOS</td>\n",
              "      <td>1.37</td>\n",
              "      <td>96095.8080</td>\n",
              "      <td>0</td>\n",
              "      <td>1</td>\n",
              "      <td>226.983005</td>\n",
              "      <td>Intel Core i5</td>\n",
              "      <td>0</td>\n",
              "      <td>256</td>\n",
              "      <td>0</td>\n",
              "      <td>0</td>\n",
              "    </tr>\n",
              "  </tbody>\n",
              "</table>\n",
              "</div>"
            ],
            "text/plain": [
              "  Company   TypeName  Inches  Ram                           Gpu  OpSys  \\\n",
              "0   Apple  Ultrabook    13.3    8  Intel Iris Plus Graphics 640  macOS   \n",
              "1   Apple  Ultrabook    13.3    8        Intel HD Graphics 6000  macOS   \n",
              "2      HP   Notebook    15.6    8         Intel HD Graphics 620  No OS   \n",
              "3   Apple  Ultrabook    15.4   16            AMD Radeon Pro 455  macOS   \n",
              "4   Apple  Ultrabook    13.3    8  Intel Iris Plus Graphics 650  macOS   \n",
              "\n",
              "   Weight        Price  Touchscreen  IPS         Ppi      Cpu_Brand  HDD  SSD  \\\n",
              "0    1.37   71378.6832            0    1  226.983005  Intel Core i5    0  128   \n",
              "1    1.34   47895.5232            0    0  127.677940  Intel Core i5    0    0   \n",
              "2    1.86   30636.0000            0    0  141.211998  Intel Core i5    0  256   \n",
              "3    1.83  135195.3360            0    1  220.534624  Intel Core i7    0  512   \n",
              "4    1.37   96095.8080            0    1  226.983005  Intel Core i5    0  256   \n",
              "\n",
              "   Hybrid  Flash_Storage  \n",
              "0       0              0  \n",
              "1       0            128  \n",
              "2       0              0  \n",
              "3       0              0  \n",
              "4       0              0  "
            ]
          },
          "execution_count": 42,
          "metadata": {},
          "output_type": "execute_result"
        }
      ],
      "source": [
        "# Droping memory column\n",
        "df.drop(columns=['Memory'],inplace=True)\n",
        "df.head()"
      ]
    },
    {
      "cell_type": "code",
      "execution_count": null,
      "metadata": {
        "colab": {
          "base_uri": "https://localhost:8080/",
          "height": 206
        },
        "id": "PjuWPgzjfDts",
        "outputId": "e1597712-7c4e-4678-8810-c3f2ff879e6c"
      },
      "outputs": [
        {
          "data": {
            "text/html": [
              "<div>\n",
              "<style scoped>\n",
              "    .dataframe tbody tr th:only-of-type {\n",
              "        vertical-align: middle;\n",
              "    }\n",
              "\n",
              "    .dataframe tbody tr th {\n",
              "        vertical-align: top;\n",
              "    }\n",
              "\n",
              "    .dataframe thead th {\n",
              "        text-align: right;\n",
              "    }\n",
              "</style>\n",
              "<table border=\"1\" class=\"dataframe\">\n",
              "  <thead>\n",
              "    <tr style=\"text-align: right;\">\n",
              "      <th></th>\n",
              "      <th>Company</th>\n",
              "      <th>TypeName</th>\n",
              "      <th>Inches</th>\n",
              "      <th>Ram</th>\n",
              "      <th>Gpu</th>\n",
              "      <th>OpSys</th>\n",
              "      <th>Weight</th>\n",
              "      <th>Price</th>\n",
              "      <th>Touchscreen</th>\n",
              "      <th>IPS</th>\n",
              "      <th>Ppi</th>\n",
              "      <th>Cpu_Brand</th>\n",
              "      <th>HDD</th>\n",
              "      <th>SSD</th>\n",
              "    </tr>\n",
              "  </thead>\n",
              "  <tbody>\n",
              "    <tr>\n",
              "      <th>0</th>\n",
              "      <td>Apple</td>\n",
              "      <td>Ultrabook</td>\n",
              "      <td>13.3</td>\n",
              "      <td>8</td>\n",
              "      <td>Intel Iris Plus Graphics 640</td>\n",
              "      <td>macOS</td>\n",
              "      <td>1.37</td>\n",
              "      <td>71378.6832</td>\n",
              "      <td>0</td>\n",
              "      <td>1</td>\n",
              "      <td>226.983005</td>\n",
              "      <td>Intel Core i5</td>\n",
              "      <td>0</td>\n",
              "      <td>128</td>\n",
              "    </tr>\n",
              "    <tr>\n",
              "      <th>1</th>\n",
              "      <td>Apple</td>\n",
              "      <td>Ultrabook</td>\n",
              "      <td>13.3</td>\n",
              "      <td>8</td>\n",
              "      <td>Intel HD Graphics 6000</td>\n",
              "      <td>macOS</td>\n",
              "      <td>1.34</td>\n",
              "      <td>47895.5232</td>\n",
              "      <td>0</td>\n",
              "      <td>0</td>\n",
              "      <td>127.677940</td>\n",
              "      <td>Intel Core i5</td>\n",
              "      <td>0</td>\n",
              "      <td>0</td>\n",
              "    </tr>\n",
              "    <tr>\n",
              "      <th>2</th>\n",
              "      <td>HP</td>\n",
              "      <td>Notebook</td>\n",
              "      <td>15.6</td>\n",
              "      <td>8</td>\n",
              "      <td>Intel HD Graphics 620</td>\n",
              "      <td>No OS</td>\n",
              "      <td>1.86</td>\n",
              "      <td>30636.0000</td>\n",
              "      <td>0</td>\n",
              "      <td>0</td>\n",
              "      <td>141.211998</td>\n",
              "      <td>Intel Core i5</td>\n",
              "      <td>0</td>\n",
              "      <td>256</td>\n",
              "    </tr>\n",
              "    <tr>\n",
              "      <th>3</th>\n",
              "      <td>Apple</td>\n",
              "      <td>Ultrabook</td>\n",
              "      <td>15.4</td>\n",
              "      <td>16</td>\n",
              "      <td>AMD Radeon Pro 455</td>\n",
              "      <td>macOS</td>\n",
              "      <td>1.83</td>\n",
              "      <td>135195.3360</td>\n",
              "      <td>0</td>\n",
              "      <td>1</td>\n",
              "      <td>220.534624</td>\n",
              "      <td>Intel Core i7</td>\n",
              "      <td>0</td>\n",
              "      <td>512</td>\n",
              "    </tr>\n",
              "    <tr>\n",
              "      <th>4</th>\n",
              "      <td>Apple</td>\n",
              "      <td>Ultrabook</td>\n",
              "      <td>13.3</td>\n",
              "      <td>8</td>\n",
              "      <td>Intel Iris Plus Graphics 650</td>\n",
              "      <td>macOS</td>\n",
              "      <td>1.37</td>\n",
              "      <td>96095.8080</td>\n",
              "      <td>0</td>\n",
              "      <td>1</td>\n",
              "      <td>226.983005</td>\n",
              "      <td>Intel Core i5</td>\n",
              "      <td>0</td>\n",
              "      <td>256</td>\n",
              "    </tr>\n",
              "  </tbody>\n",
              "</table>\n",
              "</div>"
            ],
            "text/plain": [
              "  Company   TypeName  Inches  Ram                           Gpu  OpSys  \\\n",
              "0   Apple  Ultrabook    13.3    8  Intel Iris Plus Graphics 640  macOS   \n",
              "1   Apple  Ultrabook    13.3    8        Intel HD Graphics 6000  macOS   \n",
              "2      HP   Notebook    15.6    8         Intel HD Graphics 620  No OS   \n",
              "3   Apple  Ultrabook    15.4   16            AMD Radeon Pro 455  macOS   \n",
              "4   Apple  Ultrabook    13.3    8  Intel Iris Plus Graphics 650  macOS   \n",
              "\n",
              "   Weight        Price  Touchscreen  IPS         Ppi      Cpu_Brand  HDD  SSD  \n",
              "0    1.37   71378.6832            0    1  226.983005  Intel Core i5    0  128  \n",
              "1    1.34   47895.5232            0    0  127.677940  Intel Core i5    0    0  \n",
              "2    1.86   30636.0000            0    0  141.211998  Intel Core i5    0  256  \n",
              "3    1.83  135195.3360            0    1  220.534624  Intel Core i7    0  512  \n",
              "4    1.37   96095.8080            0    1  226.983005  Intel Core i5    0  256  "
            ]
          },
          "execution_count": 43,
          "metadata": {},
          "output_type": "execute_result"
        }
      ],
      "source": [
        "#Droping unnecessory columns\n",
        "df.drop(columns=['Hybrid','Flash_Storage'],inplace=True)\n",
        "df.head()"
      ]
    },
    {
      "cell_type": "markdown",
      "source": [
        "# GPU Analysis"
      ],
      "metadata": {
        "id": "y5_l7L9VMVvw"
      }
    },
    {
      "cell_type": "code",
      "execution_count": null,
      "metadata": {
        "colab": {
          "base_uri": "https://localhost:8080/",
          "height": 489
        },
        "id": "szzEcXPKfPqf",
        "outputId": "99ea2ad2-b019-4bad-ccd9-abb3aaade75e"
      },
      "outputs": [
        {
          "data": {
            "text/plain": [
              "Gpu\n",
              "Intel HD Graphics 620      271\n",
              "Intel HD Graphics 520      181\n",
              "Intel UHD Graphics 620      66\n",
              "Nvidia GeForce GTX 1050     64\n",
              "Nvidia GeForce GTX 1060     48\n",
              "                          ... \n",
              "AMD Radeon R5 520            1\n",
              "AMD Radeon R7                1\n",
              "Intel HD Graphics 540        1\n",
              "AMD Radeon 540               1\n",
              "ARM Mali T860 MP4            1\n",
              "Name: count, Length: 110, dtype: int64"
            ]
          },
          "execution_count": 44,
          "metadata": {},
          "output_type": "execute_result"
        }
      ],
      "source": [
        "df['Gpu'].value_counts()"
      ]
    },
    {
      "cell_type": "code",
      "execution_count": null,
      "metadata": {
        "colab": {
          "base_uri": "https://localhost:8080/",
          "height": 206
        },
        "id": "OChozN_0fbrb",
        "outputId": "5c0ab1f4-0adb-4a36-fd24-a0363997bf5e"
      },
      "outputs": [
        {
          "data": {
            "text/html": [
              "<div>\n",
              "<style scoped>\n",
              "    .dataframe tbody tr th:only-of-type {\n",
              "        vertical-align: middle;\n",
              "    }\n",
              "\n",
              "    .dataframe tbody tr th {\n",
              "        vertical-align: top;\n",
              "    }\n",
              "\n",
              "    .dataframe thead th {\n",
              "        text-align: right;\n",
              "    }\n",
              "</style>\n",
              "<table border=\"1\" class=\"dataframe\">\n",
              "  <thead>\n",
              "    <tr style=\"text-align: right;\">\n",
              "      <th></th>\n",
              "      <th>Company</th>\n",
              "      <th>TypeName</th>\n",
              "      <th>Inches</th>\n",
              "      <th>Ram</th>\n",
              "      <th>Gpu</th>\n",
              "      <th>OpSys</th>\n",
              "      <th>Weight</th>\n",
              "      <th>Price</th>\n",
              "      <th>Touchscreen</th>\n",
              "      <th>IPS</th>\n",
              "      <th>Ppi</th>\n",
              "      <th>Cpu_Brand</th>\n",
              "      <th>HDD</th>\n",
              "      <th>SSD</th>\n",
              "      <th>Gpu_brand</th>\n",
              "    </tr>\n",
              "  </thead>\n",
              "  <tbody>\n",
              "    <tr>\n",
              "      <th>0</th>\n",
              "      <td>Apple</td>\n",
              "      <td>Ultrabook</td>\n",
              "      <td>13.3</td>\n",
              "      <td>8</td>\n",
              "      <td>Intel Iris Plus Graphics 640</td>\n",
              "      <td>macOS</td>\n",
              "      <td>1.37</td>\n",
              "      <td>71378.6832</td>\n",
              "      <td>0</td>\n",
              "      <td>1</td>\n",
              "      <td>226.983005</td>\n",
              "      <td>Intel Core i5</td>\n",
              "      <td>0</td>\n",
              "      <td>128</td>\n",
              "      <td>Intel</td>\n",
              "    </tr>\n",
              "    <tr>\n",
              "      <th>1</th>\n",
              "      <td>Apple</td>\n",
              "      <td>Ultrabook</td>\n",
              "      <td>13.3</td>\n",
              "      <td>8</td>\n",
              "      <td>Intel HD Graphics 6000</td>\n",
              "      <td>macOS</td>\n",
              "      <td>1.34</td>\n",
              "      <td>47895.5232</td>\n",
              "      <td>0</td>\n",
              "      <td>0</td>\n",
              "      <td>127.677940</td>\n",
              "      <td>Intel Core i5</td>\n",
              "      <td>0</td>\n",
              "      <td>0</td>\n",
              "      <td>Intel</td>\n",
              "    </tr>\n",
              "    <tr>\n",
              "      <th>2</th>\n",
              "      <td>HP</td>\n",
              "      <td>Notebook</td>\n",
              "      <td>15.6</td>\n",
              "      <td>8</td>\n",
              "      <td>Intel HD Graphics 620</td>\n",
              "      <td>No OS</td>\n",
              "      <td>1.86</td>\n",
              "      <td>30636.0000</td>\n",
              "      <td>0</td>\n",
              "      <td>0</td>\n",
              "      <td>141.211998</td>\n",
              "      <td>Intel Core i5</td>\n",
              "      <td>0</td>\n",
              "      <td>256</td>\n",
              "      <td>Intel</td>\n",
              "    </tr>\n",
              "    <tr>\n",
              "      <th>3</th>\n",
              "      <td>Apple</td>\n",
              "      <td>Ultrabook</td>\n",
              "      <td>15.4</td>\n",
              "      <td>16</td>\n",
              "      <td>AMD Radeon Pro 455</td>\n",
              "      <td>macOS</td>\n",
              "      <td>1.83</td>\n",
              "      <td>135195.3360</td>\n",
              "      <td>0</td>\n",
              "      <td>1</td>\n",
              "      <td>220.534624</td>\n",
              "      <td>Intel Core i7</td>\n",
              "      <td>0</td>\n",
              "      <td>512</td>\n",
              "      <td>AMD</td>\n",
              "    </tr>\n",
              "    <tr>\n",
              "      <th>4</th>\n",
              "      <td>Apple</td>\n",
              "      <td>Ultrabook</td>\n",
              "      <td>13.3</td>\n",
              "      <td>8</td>\n",
              "      <td>Intel Iris Plus Graphics 650</td>\n",
              "      <td>macOS</td>\n",
              "      <td>1.37</td>\n",
              "      <td>96095.8080</td>\n",
              "      <td>0</td>\n",
              "      <td>1</td>\n",
              "      <td>226.983005</td>\n",
              "      <td>Intel Core i5</td>\n",
              "      <td>0</td>\n",
              "      <td>256</td>\n",
              "      <td>Intel</td>\n",
              "    </tr>\n",
              "  </tbody>\n",
              "</table>\n",
              "</div>"
            ],
            "text/plain": [
              "  Company   TypeName  Inches  Ram                           Gpu  OpSys  \\\n",
              "0   Apple  Ultrabook    13.3    8  Intel Iris Plus Graphics 640  macOS   \n",
              "1   Apple  Ultrabook    13.3    8        Intel HD Graphics 6000  macOS   \n",
              "2      HP   Notebook    15.6    8         Intel HD Graphics 620  No OS   \n",
              "3   Apple  Ultrabook    15.4   16            AMD Radeon Pro 455  macOS   \n",
              "4   Apple  Ultrabook    13.3    8  Intel Iris Plus Graphics 650  macOS   \n",
              "\n",
              "   Weight        Price  Touchscreen  IPS         Ppi      Cpu_Brand  HDD  SSD  \\\n",
              "0    1.37   71378.6832            0    1  226.983005  Intel Core i5    0  128   \n",
              "1    1.34   47895.5232            0    0  127.677940  Intel Core i5    0    0   \n",
              "2    1.86   30636.0000            0    0  141.211998  Intel Core i5    0  256   \n",
              "3    1.83  135195.3360            0    1  220.534624  Intel Core i7    0  512   \n",
              "4    1.37   96095.8080            0    1  226.983005  Intel Core i5    0  256   \n",
              "\n",
              "  Gpu_brand  \n",
              "0     Intel  \n",
              "1     Intel  \n",
              "2     Intel  \n",
              "3       AMD  \n",
              "4     Intel  "
            ]
          },
          "execution_count": 45,
          "metadata": {},
          "output_type": "execute_result"
        }
      ],
      "source": [
        "# Extracting the GPU Brand name\n",
        "df['Gpu_brand']=df['Gpu'].apply(lambda x:x.split()[0])\n",
        "df.head()"
      ]
    },
    {
      "cell_type": "code",
      "execution_count": null,
      "metadata": {
        "colab": {
          "base_uri": "https://localhost:8080/",
          "height": 497
        },
        "id": "YLkMdJJzfmyM",
        "outputId": "75fda790-0fcf-4129-e0fc-5b0173e155f9"
      },
      "outputs": [
        {
          "data": {
            "text/plain": [
              "<Axes: xlabel='Gpu_brand'>"
            ]
          },
          "execution_count": 46,
          "metadata": {},
          "output_type": "execute_result"
        },
        {
          "data": {
            "image/png": "[encoded data removed]",
            "text/plain": [
              "<Figure size 640x480 with 1 Axes>"
            ]
          },
          "metadata": {},
          "output_type": "display_data"
        }
      ],
      "source": [
        "# Most use GPU brand is Intel\n",
        "df['Gpu_brand'].value_counts().plot(kind='bar')"
      ]
    },
    {
      "cell_type": "code",
      "execution_count": null,
      "metadata": {
        "colab": {
          "base_uri": "https://localhost:8080/",
          "height": 684
        },
        "id": "9I1c-L3zgK2F",
        "outputId": "9a08477e-3801-4923-c87f-493ea1064873"
      },
      "outputs": [
        {
          "name": "stderr",
          "output_type": "stream",
          "text": [
            "C:\\Users\\VAIBHAV\\AppData\\Local\\Temp\\ipykernel_9360\\2023357280.py:1: FutureWarning: \n",
            "\n",
            "Passing `palette` without assigning `hue` is deprecated and will be removed in v0.14.0. Assign the `x` variable to `hue` and set `legend=False` for the same effect.\n",
            "\n",
            "  sns.barplot(x = df['Gpu_brand'],y=df['Price'],palette='tab20')\n"
          ]
        },
        {
          "data": {
            "text/plain": [
              "([0, 1, 2, 3],\n",
              " [Text(0, 0, 'Intel'),\n",
              "  Text(1, 0, 'AMD'),\n",
              "  Text(2, 0, 'Nvidia'),\n",
              "  Text(3, 0, 'ARM')])"
            ]
          },
          "execution_count": 47,
          "metadata": {},
          "output_type": "execute_result"
        },
        {
          "data": {
            "image/png": "[encoded data removed]",
            "text/plain": [
              "<Figure size 640x480 with 1 Axes>"
            ]
          },
          "metadata": {},
          "output_type": "display_data"
        }
      ],
      "source": [
        "# Most expensive Gpu Brand is Nvidia\n",
        "sns.barplot(x = df['Gpu_brand'],y=df['Price'],palette='tab20')\n",
        "plt.xticks(rotation='vertical')"
      ]
    },
    {
      "cell_type": "code",
      "execution_count": null,
      "metadata": {
        "colab": {
          "base_uri": "https://localhost:8080/",
          "height": 206
        },
        "id": "IOZboQSugosc",
        "outputId": "d8df564b-bc03-4ce8-efac-832bd9362155"
      },
      "outputs": [
        {
          "data": {
            "text/html": [
              "<div>\n",
              "<style scoped>\n",
              "    .dataframe tbody tr th:only-of-type {\n",
              "        vertical-align: middle;\n",
              "    }\n",
              "\n",
              "    .dataframe tbody tr th {\n",
              "        vertical-align: top;\n",
              "    }\n",
              "\n",
              "    .dataframe thead th {\n",
              "        text-align: right;\n",
              "    }\n",
              "</style>\n",
              "<table border=\"1\" class=\"dataframe\">\n",
              "  <thead>\n",
              "    <tr style=\"text-align: right;\">\n",
              "      <th></th>\n",
              "      <th>Company</th>\n",
              "      <th>TypeName</th>\n",
              "      <th>Inches</th>\n",
              "      <th>Ram</th>\n",
              "      <th>OpSys</th>\n",
              "      <th>Weight</th>\n",
              "      <th>Price</th>\n",
              "      <th>Touchscreen</th>\n",
              "      <th>IPS</th>\n",
              "      <th>Ppi</th>\n",
              "      <th>Cpu_Brand</th>\n",
              "      <th>HDD</th>\n",
              "      <th>SSD</th>\n",
              "      <th>Gpu_brand</th>\n",
              "    </tr>\n",
              "  </thead>\n",
              "  <tbody>\n",
              "    <tr>\n",
              "      <th>0</th>\n",
              "      <td>Apple</td>\n",
              "      <td>Ultrabook</td>\n",
              "      <td>13.3</td>\n",
              "      <td>8</td>\n",
              "      <td>macOS</td>\n",
              "      <td>1.37</td>\n",
              "      <td>71378.6832</td>\n",
              "      <td>0</td>\n",
              "      <td>1</td>\n",
              "      <td>226.983005</td>\n",
              "      <td>Intel Core i5</td>\n",
              "      <td>0</td>\n",
              "      <td>128</td>\n",
              "      <td>Intel</td>\n",
              "    </tr>\n",
              "    <tr>\n",
              "      <th>1</th>\n",
              "      <td>Apple</td>\n",
              "      <td>Ultrabook</td>\n",
              "      <td>13.3</td>\n",
              "      <td>8</td>\n",
              "      <td>macOS</td>\n",
              "      <td>1.34</td>\n",
              "      <td>47895.5232</td>\n",
              "      <td>0</td>\n",
              "      <td>0</td>\n",
              "      <td>127.677940</td>\n",
              "      <td>Intel Core i5</td>\n",
              "      <td>0</td>\n",
              "      <td>0</td>\n",
              "      <td>Intel</td>\n",
              "    </tr>\n",
              "    <tr>\n",
              "      <th>2</th>\n",
              "      <td>HP</td>\n",
              "      <td>Notebook</td>\n",
              "      <td>15.6</td>\n",
              "      <td>8</td>\n",
              "      <td>No OS</td>\n",
              "      <td>1.86</td>\n",
              "      <td>30636.0000</td>\n",
              "      <td>0</td>\n",
              "      <td>0</td>\n",
              "      <td>141.211998</td>\n",
              "      <td>Intel Core i5</td>\n",
              "      <td>0</td>\n",
              "      <td>256</td>\n",
              "      <td>Intel</td>\n",
              "    </tr>\n",
              "    <tr>\n",
              "      <th>3</th>\n",
              "      <td>Apple</td>\n",
              "      <td>Ultrabook</td>\n",
              "      <td>15.4</td>\n",
              "      <td>16</td>\n",
              "      <td>macOS</td>\n",
              "      <td>1.83</td>\n",
              "      <td>135195.3360</td>\n",
              "      <td>0</td>\n",
              "      <td>1</td>\n",
              "      <td>220.534624</td>\n",
              "      <td>Intel Core i7</td>\n",
              "      <td>0</td>\n",
              "      <td>512</td>\n",
              "      <td>AMD</td>\n",
              "    </tr>\n",
              "    <tr>\n",
              "      <th>4</th>\n",
              "      <td>Apple</td>\n",
              "      <td>Ultrabook</td>\n",
              "      <td>13.3</td>\n",
              "      <td>8</td>\n",
              "      <td>macOS</td>\n",
              "      <td>1.37</td>\n",
              "      <td>96095.8080</td>\n",
              "      <td>0</td>\n",
              "      <td>1</td>\n",
              "      <td>226.983005</td>\n",
              "      <td>Intel Core i5</td>\n",
              "      <td>0</td>\n",
              "      <td>256</td>\n",
              "      <td>Intel</td>\n",
              "    </tr>\n",
              "  </tbody>\n",
              "</table>\n",
              "</div>"
            ],
            "text/plain": [
              "  Company   TypeName  Inches  Ram  OpSys  Weight        Price  Touchscreen  \\\n",
              "0   Apple  Ultrabook    13.3    8  macOS    1.37   71378.6832            0   \n",
              "1   Apple  Ultrabook    13.3    8  macOS    1.34   47895.5232            0   \n",
              "2      HP   Notebook    15.6    8  No OS    1.86   30636.0000            0   \n",
              "3   Apple  Ultrabook    15.4   16  macOS    1.83  135195.3360            0   \n",
              "4   Apple  Ultrabook    13.3    8  macOS    1.37   96095.8080            0   \n",
              "\n",
              "   IPS         Ppi      Cpu_Brand  HDD  SSD Gpu_brand  \n",
              "0    1  226.983005  Intel Core i5    0  128     Intel  \n",
              "1    0  127.677940  Intel Core i5    0    0     Intel  \n",
              "2    0  141.211998  Intel Core i5    0  256     Intel  \n",
              "3    1  220.534624  Intel Core i7    0  512       AMD  \n",
              "4    1  226.983005  Intel Core i5    0  256     Intel  "
            ]
          },
          "execution_count": 48,
          "metadata": {},
          "output_type": "execute_result"
        }
      ],
      "source": [
        "# Drop unimportant column\n",
        "df.drop(columns=['Gpu'],inplace=True)\n",
        "df.head()"
      ]
    },
    {
      "cell_type": "markdown",
      "source": [
        "# OS Analysis"
      ],
      "metadata": {
        "id": "1BhCHSvQNS4g"
      }
    },
    {
      "cell_type": "code",
      "execution_count": null,
      "metadata": {
        "colab": {
          "base_uri": "https://localhost:8080/",
          "height": 551
        },
        "id": "tIUoMTFggwsM",
        "outputId": "137c4c4c-c3bd-482f-eba7-745a540429fa"
      },
      "outputs": [
        {
          "data": {
            "text/plain": [
              "<Axes: xlabel='OpSys'>"
            ]
          },
          "execution_count": 49,
          "metadata": {},
          "output_type": "execute_result"
        },
        {
          "data": {
            "image/png": "[encoded data removed]",
            "text/plain": [
              "<Figure size 640x480 with 1 Axes>"
            ]
          },
          "metadata": {},
          "output_type": "display_data"
        }
      ],
      "source": [
        "# Most use os is window 10\n",
        "df['OpSys'].value_counts().plot(kind='bar')"
      ]
    },
    {
      "cell_type": "code",
      "execution_count": null,
      "metadata": {
        "colab": {
          "base_uri": "https://localhost:8080/",
          "height": 810
        },
        "id": "033WOduxgyyU",
        "outputId": "8d60fa90-019e-4146-b55b-97dd9c118b49"
      },
      "outputs": [
        {
          "name": "stderr",
          "output_type": "stream",
          "text": [
            "C:\\Users\\VAIBHAV\\AppData\\Local\\Temp\\ipykernel_9360\\3541250558.py:1: FutureWarning: \n",
            "\n",
            "Passing `palette` without assigning `hue` is deprecated and will be removed in v0.14.0. Assign the `x` variable to `hue` and set `legend=False` for the same effect.\n",
            "\n",
            "  sns.barplot(x = df['OpSys'],y=df['Price'],palette='tab20')\n"
          ]
        },
        {
          "data": {
            "text/plain": [
              "([0, 1, 2, 3, 4, 5, 6, 7, 8],\n",
              " [Text(0, 0, 'macOS'),\n",
              "  Text(1, 0, 'No OS'),\n",
              "  Text(2, 0, 'Windows 10'),\n",
              "  Text(3, 0, 'Mac OS X'),\n",
              "  Text(4, 0, 'Linux'),\n",
              "  Text(5, 0, 'Windows 10 S'),\n",
              "  Text(6, 0, 'Chrome OS'),\n",
              "  Text(7, 0, 'Windows 7'),\n",
              "  Text(8, 0, 'Android')])"
            ]
          },
          "execution_count": 50,
          "metadata": {},
          "output_type": "execute_result"
        },
        {
          "data": {
            "image/png": "[encoded data removed]",
            "text/plain": [
              "<Figure size 640x480 with 1 Axes>"
            ]
          },
          "metadata": {},
          "output_type": "display_data"
        }
      ],
      "source": [
        "# Most expensive os is Macos\n",
        "sns.barplot(x = df['OpSys'],y=df['Price'],palette='tab20')\n",
        "plt.xticks(rotation='vertical')"
      ]
    },
    {
      "cell_type": "code",
      "execution_count": null,
      "metadata": {
        "id": "RqCdirF1g-Fl"
      },
      "outputs": [],
      "source": [
        "# Creating a function for Extracting the os name\n",
        "def cat_os(inp):\n",
        "    if inp == 'Windows 10' or inp == 'Windows 7' or inp == 'Windows 10 S':\n",
        "        return 'Windows'\n",
        "    elif inp == 'macOS' or inp == 'Mac OS X':\n",
        "        return 'Mac'\n",
        "    else:\n",
        "        return 'Others/No OS/Linux'"
      ]
    },
    {
      "cell_type": "code",
      "execution_count": null,
      "metadata": {
        "collapsed": true,
        "id": "k3aAgn46hVML"
      },
      "outputs": [],
      "source": [
        "# Extracting the os name\n",
        "df['cat_os'] = df['OpSys'].apply(cat_os)"
      ]
    },
    {
      "cell_type": "code",
      "execution_count": null,
      "metadata": {
        "colab": {
          "base_uri": "https://localhost:8080/",
          "height": 206
        },
        "id": "ASj5HHJghaMj",
        "outputId": "b06dbd37-038c-4f24-a802-7da000fd7bba"
      },
      "outputs": [
        {
          "data": {
            "text/html": [
              "<div>\n",
              "<style scoped>\n",
              "    .dataframe tbody tr th:only-of-type {\n",
              "        vertical-align: middle;\n",
              "    }\n",
              "\n",
              "    .dataframe tbody tr th {\n",
              "        vertical-align: top;\n",
              "    }\n",
              "\n",
              "    .dataframe thead th {\n",
              "        text-align: right;\n",
              "    }\n",
              "</style>\n",
              "<table border=\"1\" class=\"dataframe\">\n",
              "  <thead>\n",
              "    <tr style=\"text-align: right;\">\n",
              "      <th></th>\n",
              "      <th>Company</th>\n",
              "      <th>TypeName</th>\n",
              "      <th>Inches</th>\n",
              "      <th>Ram</th>\n",
              "      <th>Weight</th>\n",
              "      <th>Price</th>\n",
              "      <th>Touchscreen</th>\n",
              "      <th>IPS</th>\n",
              "      <th>Ppi</th>\n",
              "      <th>Cpu_Brand</th>\n",
              "      <th>HDD</th>\n",
              "      <th>SSD</th>\n",
              "      <th>Gpu_brand</th>\n",
              "      <th>cat_os</th>\n",
              "    </tr>\n",
              "  </thead>\n",
              "  <tbody>\n",
              "    <tr>\n",
              "      <th>0</th>\n",
              "      <td>Apple</td>\n",
              "      <td>Ultrabook</td>\n",
              "      <td>13.3</td>\n",
              "      <td>8</td>\n",
              "      <td>1.37</td>\n",
              "      <td>71378.6832</td>\n",
              "      <td>0</td>\n",
              "      <td>1</td>\n",
              "      <td>226.983005</td>\n",
              "      <td>Intel Core i5</td>\n",
              "      <td>0</td>\n",
              "      <td>128</td>\n",
              "      <td>Intel</td>\n",
              "      <td>Mac</td>\n",
              "    </tr>\n",
              "    <tr>\n",
              "      <th>1</th>\n",
              "      <td>Apple</td>\n",
              "      <td>Ultrabook</td>\n",
              "      <td>13.3</td>\n",
              "      <td>8</td>\n",
              "      <td>1.34</td>\n",
              "      <td>47895.5232</td>\n",
              "      <td>0</td>\n",
              "      <td>0</td>\n",
              "      <td>127.677940</td>\n",
              "      <td>Intel Core i5</td>\n",
              "      <td>0</td>\n",
              "      <td>0</td>\n",
              "      <td>Intel</td>\n",
              "      <td>Mac</td>\n",
              "    </tr>\n",
              "    <tr>\n",
              "      <th>2</th>\n",
              "      <td>HP</td>\n",
              "      <td>Notebook</td>\n",
              "      <td>15.6</td>\n",
              "      <td>8</td>\n",
              "      <td>1.86</td>\n",
              "      <td>30636.0000</td>\n",
              "      <td>0</td>\n",
              "      <td>0</td>\n",
              "      <td>141.211998</td>\n",
              "      <td>Intel Core i5</td>\n",
              "      <td>0</td>\n",
              "      <td>256</td>\n",
              "      <td>Intel</td>\n",
              "      <td>Others/No OS/Linux</td>\n",
              "    </tr>\n",
              "    <tr>\n",
              "      <th>3</th>\n",
              "      <td>Apple</td>\n",
              "      <td>Ultrabook</td>\n",
              "      <td>15.4</td>\n",
              "      <td>16</td>\n",
              "      <td>1.83</td>\n",
              "      <td>135195.3360</td>\n",
              "      <td>0</td>\n",
              "      <td>1</td>\n",
              "      <td>220.534624</td>\n",
              "      <td>Intel Core i7</td>\n",
              "      <td>0</td>\n",
              "      <td>512</td>\n",
              "      <td>AMD</td>\n",
              "      <td>Mac</td>\n",
              "    </tr>\n",
              "    <tr>\n",
              "      <th>4</th>\n",
              "      <td>Apple</td>\n",
              "      <td>Ultrabook</td>\n",
              "      <td>13.3</td>\n",
              "      <td>8</td>\n",
              "      <td>1.37</td>\n",
              "      <td>96095.8080</td>\n",
              "      <td>0</td>\n",
              "      <td>1</td>\n",
              "      <td>226.983005</td>\n",
              "      <td>Intel Core i5</td>\n",
              "      <td>0</td>\n",
              "      <td>256</td>\n",
              "      <td>Intel</td>\n",
              "      <td>Mac</td>\n",
              "    </tr>\n",
              "  </tbody>\n",
              "</table>\n",
              "</div>"
            ],
            "text/plain": [
              "  Company   TypeName  Inches  Ram  Weight        Price  Touchscreen  IPS  \\\n",
              "0   Apple  Ultrabook    13.3    8    1.37   71378.6832            0    1   \n",
              "1   Apple  Ultrabook    13.3    8    1.34   47895.5232            0    0   \n",
              "2      HP   Notebook    15.6    8    1.86   30636.0000            0    0   \n",
              "3   Apple  Ultrabook    15.4   16    1.83  135195.3360            0    1   \n",
              "4   Apple  Ultrabook    13.3    8    1.37   96095.8080            0    1   \n",
              "\n",
              "          Ppi      Cpu_Brand  HDD  SSD Gpu_brand              cat_os  \n",
              "0  226.983005  Intel Core i5    0  128     Intel                 Mac  \n",
              "1  127.677940  Intel Core i5    0    0     Intel                 Mac  \n",
              "2  141.211998  Intel Core i5    0  256     Intel  Others/No OS/Linux  \n",
              "3  220.534624  Intel Core i7    0  512       AMD                 Mac  \n",
              "4  226.983005  Intel Core i5    0  256     Intel                 Mac  "
            ]
          },
          "execution_count": 53,
          "metadata": {},
          "output_type": "execute_result"
        }
      ],
      "source": [
        "# Drop the unimportant column\n",
        "df.drop(columns=['OpSys'],inplace=True)\n",
        "df.head()"
      ]
    },
    {
      "cell_type": "markdown",
      "source": [
        "# Weight Analysis"
      ],
      "metadata": {
        "id": "AajKOFNkOgWH"
      }
    },
    {
      "cell_type": "code",
      "execution_count": null,
      "metadata": {
        "colab": {
          "base_uri": "https://localhost:8080/",
          "height": 670
        },
        "id": "JgKOIYrIiBRs",
        "outputId": "d175d42f-f35b-43bc-887f-4280515ef2ad"
      },
      "outputs": [
        {
          "name": "stderr",
          "output_type": "stream",
          "text": [
            "C:\\Users\\VAIBHAV\\AppData\\Local\\Temp\\ipykernel_9360\\1125578356.py:1: UserWarning: \n",
            "\n",
            "`distplot` is a deprecated function and will be removed in seaborn v0.14.0.\n",
            "\n",
            "Please adapt your code to use either `displot` (a figure-level function with\n",
            "similar flexibility) or `histplot` (an axes-level function for histograms).\n",
            "\n",
            "For a guide to updating your code to use the new functions, please see\n",
            "https://gist.github.com/mwaskom/de44147ed2974457ad6372750bbe5751\n",
            "\n",
            "  sns.distplot(df['Weight'])\n"
          ]
        },
        {
          "data": {
            "text/plain": [
              "<Axes: xlabel='Weight', ylabel='Density'>"
            ]
          },
          "execution_count": 55,
          "metadata": {},
          "output_type": "execute_result"
        },
        {
          "data": {
            "image/png": "[encoded data removed]",
            "text/plain": [
              "<Figure size 640x480 with 1 Axes>"
            ]
          },
          "metadata": {},
          "output_type": "display_data"
        }
      ],
      "source": [
        "# Most of the weight age 1 to 2 kg and we have also some outliers\n",
        "sns.distplot(df['Weight'])"
      ]
    },
    {
      "cell_type": "code",
      "execution_count": null,
      "metadata": {
        "colab": {
          "base_uri": "https://localhost:8080/",
          "height": 467
        },
        "id": "_wENLpyniY3M",
        "outputId": "18edbd22-2f4b-41ae-fd4f-7d9b90ff4cfc"
      },
      "outputs": [
        {
          "data": {
            "text/plain": [
              "<Axes: xlabel='Weight', ylabel='Price'>"
            ]
          },
          "execution_count": 56,
          "metadata": {},
          "output_type": "execute_result"
        },
        {
          "data": {
            "image/png": "[encoded data removed]",
            "text/plain": [
              "<Figure size 640x480 with 1 Axes>"
            ]
          },
          "metadata": {},
          "output_type": "display_data"
        }
      ],
      "source": [
        "# Correlation of the weight and price\n",
        "sns.scatterplot(x=df['Weight'],y=df['Price'])"
      ]
    },
    {
      "cell_type": "markdown",
      "source": [
        "# Model Development:"
      ],
      "metadata": {
        "id": "s2RkRNffPU9Y"
      }
    },
    {
      "cell_type": "code",
      "execution_count": null,
      "metadata": {
        "id": "DuQ5ZgeHOurB",
        "outputId": "52f1643b-0d8d-49e3-db23-7e359c0980a1"
      },
      "outputs": [
        {
          "name": "stderr",
          "output_type": "stream",
          "text": [
            "\n",
            "[notice] A new release of pip is available: 24.0 -> 24.2\n",
            "[notice] To update, run: python.exe -m pip install --upgrade pip\n"
          ]
        },
        {
          "name": "stdout",
          "output_type": "stream",
          "text": [
            "Requirement already satisfied: scikit-learn in c:\\users\\vaibhav\\appdata\\local\\programs\\python\\python312\\lib\\site-packages (1.5.1)\n",
            "Requirement already satisfied: numpy>=1.19.5 in c:\\users\\vaibhav\\appdata\\local\\programs\\python\\python312\\lib\\site-packages (from scikit-learn) (1.26.4)\n",
            "Requirement already satisfied: scipy>=1.6.0 in c:\\users\\vaibhav\\appdata\\local\\programs\\python\\python312\\lib\\site-packages (from scikit-learn) (1.13.1)\n",
            "Requirement already satisfied: joblib>=1.2.0 in c:\\users\\vaibhav\\appdata\\local\\programs\\python\\python312\\lib\\site-packages (from scikit-learn) (1.4.2)\n",
            "Requirement already satisfied: threadpoolctl>=3.1.0 in c:\\users\\vaibhav\\appdata\\local\\programs\\python\\python312\\lib\\site-packages (from scikit-learn) (3.5.0)\n"
          ]
        }
      ],
      "source": [
        "# Importing all Necessary Libraries\n",
        "!pip install scikit-learn\n",
        "from sklearn.compose import ColumnTransformer\n",
        "from sklearn.preprocessing import OneHotEncoder\n",
        "from sklearn.pipeline import Pipeline\n",
        "from sklearn.metrics import r2_score,mean_absolute_error\n",
        "from sklearn.linear_model import LinearRegression,Lasso,Ridge\n",
        "from sklearn.preprocessing import StandardScaler\n",
        "from sklearn.ensemble import RandomForestRegressor,GradientBoostingRegressor,ExtraTreesRegressor,AdaBoostRegressor,GradientBoostingClassifier\n",
        "from sklearn.tree import DecisionTreeRegressor\n",
        "from sklearn.neighbors import KNeighborsRegressor\n",
        "from sklearn.svm import SVR\n",
        "from sklearn.model_selection import train_test_split\n",
        "from sklearn.model_selection import GridSearchCV"
      ]
    },
    {
      "cell_type": "code",
      "execution_count": null,
      "metadata": {
        "id": "4A649sdtijcc"
      },
      "outputs": [],
      "source": [
        "# Creating the features and traget values\n",
        "x=df.drop(columns=['Price'])\n",
        "y=np.log(df['Price'])\n",
        "# importing train and test and seprate the train and test data\n",
        "from sklearn.model_selection import train_test_split\n",
        "x_train,x_test,y_train,y_test=train_test_split(x,y,test_size=0.3,random_state=0)"
      ]
    },
    {
      "cell_type": "markdown",
      "source": [
        "# Linear Regrasion Model"
      ],
      "metadata": {
        "id": "WlVzWbsdTmCX"
      }
    },
    {
      "cell_type": "code",
      "execution_count": null,
      "metadata": {
        "colab": {
          "base_uri": "https://localhost:8080/"
        },
        "id": "BuyhkYVDnaC3",
        "outputId": "4409e96e-c685-4bed-eb6f-f9c420555bb0"
      },
      "outputs": [
        {
          "name": "stdout",
          "output_type": "stream",
          "text": [
            "R2 score 0.7892249484019906\n",
            "MAE 0.21756196971595876\n"
          ]
        }
      ],
      "source": [
        "# importing train and test and seprate the train and test data\n",
        "from sklearn.model_selection import train_test_split\n",
        "x_train,x_test,y_train,y_test=train_test_split(x,y,test_size=0.3,random_state=42)\n",
        "# Defining categorical_features for column_transformer\n",
        "categorical_features=['Company','TypeName','Cpu_Brand','Gpu_brand','cat_os']\n",
        "column_transformer = ColumnTransformer(transformers=[('encoder',OneHotEncoder(sparse_output=False,drop='first'),categorical_features)],remainder='passthrough')\n",
        "# Creating the pipeline\n",
        "lr_model=Pipeline(steps=[('preprocessor',column_transformer),('model',LinearRegression())])\n",
        "lr_model.fit(x_train,y_train)\n",
        "y_pred=lr_model.predict(x_test)\n",
        "print('R2 score',r2_score(y_test,y_pred))\n",
        "print('MAE',mean_absolute_error(y_test,y_pred))"
      ]
    },
    {
      "cell_type": "markdown",
      "source": [
        "# Random Forest Model"
      ],
      "metadata": {
        "id": "1Xn9Sj3QUnmP"
      }
    },
    {
      "cell_type": "code",
      "execution_count": null,
      "metadata": {
        "colab": {
          "base_uri": "https://localhost:8080/"
        },
        "id": "2HrZu6loY1N1",
        "outputId": "69e495ff-cf46-4f17-87bd-3c121d1ace8d"
      },
      "outputs": [
        {
          "name": "stdout",
          "output_type": "stream",
          "text": [
            "R2 score 0.8609999762528036\n",
            "MAE 0.1656188597669149\n"
          ]
        }
      ],
      "source": [
        "# importing train and test and seprate the train and test data\n",
        "from sklearn.model_selection import train_test_split\n",
        "x_train,x_test,y_train,y_test=train_test_split(x,y,test_size=0.3,random_state=42)\n",
        "# Defining categorical_features for column_transformer\n",
        "categorical_features=['Company','TypeName','Cpu_Brand','Gpu_brand','cat_os']\n",
        "column_transformer = ColumnTransformer(transformers=[('encoder',OneHotEncoder(sparse_output=False,drop='first'),categorical_features)],remainder='passthrough')\n",
        "# Creating the pipeline\n",
        "Rf_model=Pipeline(steps=[('preprocessor',column_transformer),('model',RandomForestRegressor())])\n",
        "Rf_model.fit(x_train,y_train)\n",
        "y_pred=Rf_model.predict(x_test)\n",
        "print('R2 score',r2_score(y_test,y_pred))\n",
        "print('MAE',mean_absolute_error(y_test,y_pred))"
      ]
    },
    {
      "cell_type": "markdown",
      "source": [
        "# Gradient Boosting Model"
      ],
      "metadata": {
        "id": "F0Kk0eXOU7Et"
      }
    },
    {
      "cell_type": "code",
      "execution_count": null,
      "metadata": {
        "colab": {
          "base_uri": "https://localhost:8080/"
        },
        "id": "nlg3PKvNTeY3",
        "outputId": "d74f3a0a-47f9-426b-c69c-a7d1b991df4c"
      },
      "outputs": [
        {
          "name": "stdout",
          "output_type": "stream",
          "text": [
            "R2 score 0.8512932976246352\n",
            "MAE 0.17949310024584533\n"
          ]
        }
      ],
      "source": [
        "# importing train and test and seprate the train and test data\n",
        "from sklearn.model_selection import train_test_split\n",
        "x_train,x_test,y_train,y_test=train_test_split(x,y,test_size=0.3,random_state=42)\n",
        "# Defining categorical_features for column_transformer\n",
        "categorical_features=['Company','TypeName','Cpu_Brand','Gpu_brand','cat_os']\n",
        "column_transformer = ColumnTransformer(transformers=[('encoder',OneHotEncoder(sparse_output=False,drop='first'),categorical_features)],remainder='passthrough')\n",
        "# Creating the pipeline\n",
        "gb_model=Pipeline(steps=[('preprocessor',column_transformer),('model',GradientBoostingRegressor())])\n",
        "gb_model.fit(x_train,y_train)\n",
        "y_pred=gb_model.predict(x_test)\n",
        "print('R2 score',r2_score(y_test,y_pred))\n",
        "print('MAE',mean_absolute_error(y_test,y_pred))"
      ]
    },
    {
      "cell_type": "markdown",
      "source": [
        "# KNeighbors Model"
      ],
      "metadata": {
        "id": "zkAhlXlrVNSP"
      }
    },
    {
      "cell_type": "code",
      "execution_count": null,
      "metadata": {
        "colab": {
          "base_uri": "https://localhost:8080/"
        },
        "id": "7EG3wC4fV8PX",
        "outputId": "3c67dfb0-5e50-46d2-cd62-99a531e3770a"
      },
      "outputs": [
        {
          "name": "stdout",
          "output_type": "stream",
          "text": [
            "R2 score 0.7535764794326482\n",
            "MAE 0.22172876038424552\n"
          ]
        }
      ],
      "source": [
        "# importing train and test and seprate the train and test data\n",
        "from sklearn.model_selection import train_test_split\n",
        "x_train,x_test,y_train,y_test=train_test_split(x,y,test_size=0.3,random_state=42)\n",
        "# Defining categorical_features for column_transformer\n",
        "categorical_features=['Company','TypeName','Cpu_Brand','Gpu_brand','cat_os']\n",
        "column_transformer = ColumnTransformer(transformers=[('encoder',OneHotEncoder(sparse_output=False,drop='first'),categorical_features)],remainder='passthrough')\n",
        "# Creating the pipeline\n",
        "Knn_model=Pipeline(steps=[('preprocessor',column_transformer),('Scaler',StandardScaler()),('model',KNeighborsRegressor(n_neighbors=5))])\n",
        "Knn_model.fit(x_train,y_train)\n",
        "y_pred=Knn_model.predict(x_test)\n",
        "print('R2 score',r2_score(y_test,y_pred))\n",
        "print('MAE',mean_absolute_error(y_test,y_pred))"
      ]
    },
    {
      "cell_type": "markdown",
      "source": [
        "# DecisionTree Model"
      ],
      "metadata": {
        "id": "bzyqoaWOVoBO"
      }
    },
    {
      "cell_type": "code",
      "execution_count": null,
      "metadata": {
        "colab": {
          "base_uri": "https://localhost:8080/"
        },
        "id": "RhQwJMM8ZQU0",
        "outputId": "a6ef475a-8f54-487d-c0cb-dc322c87a292"
      },
      "outputs": [
        {
          "name": "stdout",
          "output_type": "stream",
          "text": [
            "R2 score 0.7657517483778662\n",
            "MAE 0.21611950606955518\n"
          ]
        }
      ],
      "source": [
        "# importing train and test and seprate the train and test data\n",
        "from sklearn.model_selection import train_test_split\n",
        "x_train,x_test,y_train,y_test=train_test_split(x,y,test_size=0.3,random_state=42)\n",
        "# Defining categorical_features for column_transformer\n",
        "categorical_features=x.select_dtypes(include='object').columns\n",
        "column_transformer = ColumnTransformer(transformers=[('encoder',OneHotEncoder(sparse_output=False,drop='first'),categorical_features)],remainder='passthrough')\n",
        "# Creating the pipeline\n",
        "DT_model=Pipeline(steps=[('preprocessor',column_transformer),('Scaler',StandardScaler()),('model',DecisionTreeRegressor())])\n",
        "DT_model.fit(x_train,y_train)\n",
        "y_pred=DT_model.predict(x_test)\n",
        "print('R2 score',r2_score(y_test,y_pred))\n",
        "print('MAE',mean_absolute_error(y_test,y_pred))\n"
      ]
    },
    {
      "cell_type": "markdown",
      "source": [
        "Best models are Random Forest Model with the r2 score of 0.8609999762528036\n",
        "And Gradient Boosting Model with the r2 score of 0.8509999762528036"
      ],
      "metadata": {
        "id": "H9F1xqNhWI_t"
      }
    },
    {
      "cell_type": "code",
      "execution_count": null,
      "metadata": {
        "colab": {
          "base_uri": "https://localhost:8080/",
          "height": 206
        },
        "id": "A2IKwXbzhw-b",
        "outputId": "4f9cc9cf-92cc-44f5-f903-09bb634a60da"
      },
      "outputs": [
        {
          "data": {
            "text/html": [
              "<div>\n",
              "<style scoped>\n",
              "    .dataframe tbody tr th:only-of-type {\n",
              "        vertical-align: middle;\n",
              "    }\n",
              "\n",
              "    .dataframe tbody tr th {\n",
              "        vertical-align: top;\n",
              "    }\n",
              "\n",
              "    .dataframe thead th {\n",
              "        text-align: right;\n",
              "    }\n",
              "</style>\n",
              "<table border=\"1\" class=\"dataframe\">\n",
              "  <thead>\n",
              "    <tr style=\"text-align: right;\">\n",
              "      <th></th>\n",
              "      <th>Company</th>\n",
              "      <th>TypeName</th>\n",
              "      <th>Inches</th>\n",
              "      <th>Ram</th>\n",
              "      <th>Weight</th>\n",
              "      <th>Price</th>\n",
              "      <th>Touchscreen</th>\n",
              "      <th>IPS</th>\n",
              "      <th>Ppi</th>\n",
              "      <th>Cpu_Brand</th>\n",
              "      <th>HDD</th>\n",
              "      <th>SSD</th>\n",
              "      <th>Gpu_brand</th>\n",
              "      <th>cat_os</th>\n",
              "    </tr>\n",
              "  </thead>\n",
              "  <tbody>\n",
              "    <tr>\n",
              "      <th>0</th>\n",
              "      <td>Apple</td>\n",
              "      <td>Ultrabook</td>\n",
              "      <td>13.3</td>\n",
              "      <td>8</td>\n",
              "      <td>1.37</td>\n",
              "      <td>71378.6832</td>\n",
              "      <td>0</td>\n",
              "      <td>1</td>\n",
              "      <td>226.983005</td>\n",
              "      <td>Intel Core i5</td>\n",
              "      <td>0</td>\n",
              "      <td>128</td>\n",
              "      <td>Intel</td>\n",
              "      <td>Mac</td>\n",
              "    </tr>\n",
              "    <tr>\n",
              "      <th>1</th>\n",
              "      <td>Apple</td>\n",
              "      <td>Ultrabook</td>\n",
              "      <td>13.3</td>\n",
              "      <td>8</td>\n",
              "      <td>1.34</td>\n",
              "      <td>47895.5232</td>\n",
              "      <td>0</td>\n",
              "      <td>0</td>\n",
              "      <td>127.677940</td>\n",
              "      <td>Intel Core i5</td>\n",
              "      <td>0</td>\n",
              "      <td>0</td>\n",
              "      <td>Intel</td>\n",
              "      <td>Mac</td>\n",
              "    </tr>\n",
              "    <tr>\n",
              "      <th>2</th>\n",
              "      <td>HP</td>\n",
              "      <td>Notebook</td>\n",
              "      <td>15.6</td>\n",
              "      <td>8</td>\n",
              "      <td>1.86</td>\n",
              "      <td>30636.0000</td>\n",
              "      <td>0</td>\n",
              "      <td>0</td>\n",
              "      <td>141.211998</td>\n",
              "      <td>Intel Core i5</td>\n",
              "      <td>0</td>\n",
              "      <td>256</td>\n",
              "      <td>Intel</td>\n",
              "      <td>Others/No OS/Linux</td>\n",
              "    </tr>\n",
              "    <tr>\n",
              "      <th>3</th>\n",
              "      <td>Apple</td>\n",
              "      <td>Ultrabook</td>\n",
              "      <td>15.4</td>\n",
              "      <td>16</td>\n",
              "      <td>1.83</td>\n",
              "      <td>135195.3360</td>\n",
              "      <td>0</td>\n",
              "      <td>1</td>\n",
              "      <td>220.534624</td>\n",
              "      <td>Intel Core i7</td>\n",
              "      <td>0</td>\n",
              "      <td>512</td>\n",
              "      <td>AMD</td>\n",
              "      <td>Mac</td>\n",
              "    </tr>\n",
              "    <tr>\n",
              "      <th>4</th>\n",
              "      <td>Apple</td>\n",
              "      <td>Ultrabook</td>\n",
              "      <td>13.3</td>\n",
              "      <td>8</td>\n",
              "      <td>1.37</td>\n",
              "      <td>96095.8080</td>\n",
              "      <td>0</td>\n",
              "      <td>1</td>\n",
              "      <td>226.983005</td>\n",
              "      <td>Intel Core i5</td>\n",
              "      <td>0</td>\n",
              "      <td>256</td>\n",
              "      <td>Intel</td>\n",
              "      <td>Mac</td>\n",
              "    </tr>\n",
              "  </tbody>\n",
              "</table>\n",
              "</div>"
            ],
            "text/plain": [
              "  Company   TypeName  Inches  Ram  Weight        Price  Touchscreen  IPS  \\\n",
              "0   Apple  Ultrabook    13.3    8    1.37   71378.6832            0    1   \n",
              "1   Apple  Ultrabook    13.3    8    1.34   47895.5232            0    0   \n",
              "2      HP   Notebook    15.6    8    1.86   30636.0000            0    0   \n",
              "3   Apple  Ultrabook    15.4   16    1.83  135195.3360            0    1   \n",
              "4   Apple  Ultrabook    13.3    8    1.37   96095.8080            0    1   \n",
              "\n",
              "          Ppi      Cpu_Brand  HDD  SSD Gpu_brand              cat_os  \n",
              "0  226.983005  Intel Core i5    0  128     Intel                 Mac  \n",
              "1  127.677940  Intel Core i5    0    0     Intel                 Mac  \n",
              "2  141.211998  Intel Core i5    0  256     Intel  Others/No OS/Linux  \n",
              "3  220.534624  Intel Core i7    0  512       AMD                 Mac  \n",
              "4  226.983005  Intel Core i5    0  256     Intel                 Mac  "
            ]
          },
          "execution_count": 66,
          "metadata": {},
          "output_type": "execute_result"
        }
      ],
      "source": [
        "df.head()"
      ]
    },
    {
      "cell_type": "markdown",
      "source": [
        "# Real-time Prediction"
      ],
      "metadata": {
        "id": "_EbaBXVdWy1u"
      }
    },
    {
      "cell_type": "code",
      "execution_count": null,
      "metadata": {
        "colab": {
          "base_uri": "https://localhost:8080/",
          "height": 356
        },
        "id": "zKBzPwV7hD2U",
        "outputId": "2676fd09-32f3-47ae-a357-096bb8c8d352"
      },
      "outputs": [
        {
          "name": "stdout",
          "output_type": "stream",
          "text": [
            "Your New Laptop Price is : 96134.9900881439\n"
          ]
        }
      ],
      "source": [
        "# Defining categorical_features and numerical_features for column_transformer\n",
        "categorical_features=x.select_dtypes(include='object').columns\n",
        "numerical_features=x.select_dtypes(exclude='object').columns\n",
        "column_transformer = ColumnTransformer(transformers=[\n",
        "    ('num', StandardScaler(),numerical_features),\n",
        "    ('cat', OneHotEncoder(sparse_output=False,drop='first'),categorical_features)\n",
        "],remainder='passthrough')\n",
        "# Creating pipeline\n",
        "Rf_model=Pipeline(steps=[('preprocessor',column_transformer),('model',RandomForestRegressor())])\n",
        "Rf_model.fit(x_train,y_train)\n",
        "# Creating new dataframe for prediction\n",
        "new_laptop={'Company': 'Lenovo',\n",
        "            'TypeName':'Notebook',\n",
        "            'Inches':13.3,\n",
        "            'Ram':16,\n",
        "            'Weight':1.86,\n",
        "            'Touchscreen':1,\n",
        "            'IPS':1,\n",
        "            'Ppi':250,\n",
        "            'Cpu_Brand':'Intel Core i5',\n",
        "            'HDD':0,\n",
        "            'SSD':128,\n",
        "            'Gpu_brand':'AMD',\n",
        "            'cat_os':'Mac'}\n",
        "\n",
        "new_laptop_df=pd.DataFrame([new_laptop])\n",
        "new_laptop_df\n",
        "#Predicting\n",
        "prediction=Rf_model.predict(new_laptop_df)\n",
        "p= np.exp(prediction)[0]\n",
        "print('Your New Laptop Price is :',p)"
      ]
    },
    {
      "cell_type": "markdown",
      "source": [
        "# Interpretability and Insights\n",
        "Uncover insights into which features play a pivotal role in pricing decisions.\n",
        "features that are play pivotal role in pricing decisions are SSD,Company,Ram,TouchScreen,pip\n"
      ],
      "metadata": {
        "id": "DwaW5KmjXyGt"
      }
    },
    {
      "cell_type": "markdown",
      "source": [
        "# Questions to Explore"
      ],
      "metadata": {
        "id": "ScfG-hgfa2NO"
      }
    },
    {
      "cell_type": "markdown",
      "source": [
        "Which features have the most significant impact on laptop prices?\n",
        "      \n",
        "      \n",
        "      Ans- features that are play pivotal role in pricing decisions are SSD,Company,Ram,TouchScreen,pip"
      ],
      "metadata": {
        "id": "-2DjmMd6a8kw"
      }
    },
    {
      "cell_type": "markdown",
      "source": [
        "Can the model accurately predict the prices of laptops from lesser-known brands?\n",
        "     \n",
        "     Ans- Accuracy may be low due to the scale of the data is low"
      ],
      "metadata": {
        "id": "BtuJ9ZVqbTPj"
      }
    },
    {
      "cell_type": "markdown",
      "source": [
        "Does the brand of the laptop significantly influence its price?\n",
        "\n",
        "\n",
        "     Ans- Yes the brand of the laptop significantly influence its price"
      ],
      "metadata": {
        "id": "AjknMI8Ic1Na"
      }
    },
    {
      "cell_type": "markdown",
      "source": [
        "How well does the model perform on laptops with high-end specifications compared to budget laptops?\n",
        "    \n",
        "    \n",
        "    Ans- Accuracy may be low due to the scale of the data is low and the type of the data if the train data have large data from the mediam varient laptor or or data set have large number of median varient pc so or model gives us low accuracy.."
      ],
      "metadata": {
        "id": "lIvNrt1Oc1Cr"
      }
    },
    {
      "cell_type": "markdown",
      "source": [
        "What are the limitations and challenges in predicting laptop prices accurately?\n",
        "\n",
        "\n",
        "\n",
        "    Ans- Lack of the data and selected fetures may be give low accuracy.."
      ],
      "metadata": {
        "id": "mKc_c8z4ez98"
      }
    },
    {
      "cell_type": "markdown",
      "source": [
        "How does the model perform when predicting the prices of newly released laptops not present in the training dataset?\n",
        "\n",
        "\n",
        "\n",
        "     Ans- Its depand on the type of the model if we use the randomforest model Random Forest is a powerful ensemble learning algorithm that combines multiple decision trees to make predictions. It's particularly effective for regression tasks like predicting laptop prices. Here's a breakdown of how it works:\n",
        "      1. Bootstrapping:\n",
        "      Random Sampling: The algorithm randomly selects subsets (with replacement) from the training dataset. This process is called bootstrapping. Each subset is used to train a separate decision tree.\n",
        "      2. Decision Tree Construction:\n",
        "      Feature Selection: For each decision tree, a random subset of features is selected from the total number of features. This helps prevent overfitting by reducing the correlation between trees.\n",
        "      Node Splitting: Each decision tree is constructed using a greedy algorithm that splits the data at each node based on a chosen feature and threshold. The split is chosen to maximize the homogeneity of the resulting child nodes.\n",
        "      3. Prediction:\n",
        "      Ensemble Voting: Once all decision trees are built, the model makes predictions by averaging the predictions from all trees. The final prediction is the average of the values predicted by each individual tree.\n",
        "      4. Randomness:\n",
        "      Bagging: The randomness in the bootstrapping process and feature selection ensures that the decision trees are diverse and not overly correlated. This helps reduce the variance of the model and improves its generalization performance.\n",
        "      Take the data from the given dataset and predict the prices...."
      ],
      "metadata": {
        "id": "FSFcbsVpfe5y"
      }
    },
    {
      "cell_type": "markdown",
      "source": [
        "# Thankyou"
      ],
      "metadata": {
        "id": "pkUFhAADhQRq"
      }
    }
  ],
  "metadata": {
    "colab": {
      "provenance": []
    },
    "kernelspec": {
      "display_name": "Python 3",
      "name": "python3"
    },
    "language_info": {
      "codemirror_mode": {
        "name": "ipython",
        "version": 3
      },
      "file_extension": ".py",
      "mimetype": "text/x-python",
      "name": "python",
      "nbconvert_exporter": "python",
      "pygments_lexer": "ipython3",
      "version": "3.12.3"
    }
  },
  "nbformat": 4,
  "nbformat_minor": 0
}